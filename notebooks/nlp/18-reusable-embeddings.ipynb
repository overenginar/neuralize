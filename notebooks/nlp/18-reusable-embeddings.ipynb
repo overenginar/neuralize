{
 "cells": [
  {
   "cell_type": "markdown",
   "id": "cd0d68a4-c340-46ea-8699-c88f7b5c6cd5",
   "metadata": {},
   "source": [
    "### Importing Libs"
   ]
  },
  {
   "cell_type": "code",
   "execution_count": 2,
   "id": "46842bdf-1e97-46f7-b072-8ca0ab497f22",
   "metadata": {},
   "outputs": [
    {
     "name": "stderr",
     "output_type": "stream",
     "text": [
      "2023-05-19 10:21:17.288205: I tensorflow/tsl/cuda/cudart_stub.cc:28] Could not find cuda drivers on your machine, GPU will not be used.\n",
      "2023-05-19 10:21:17.717092: I tensorflow/tsl/cuda/cudart_stub.cc:28] Could not find cuda drivers on your machine, GPU will not be used.\n",
      "2023-05-19 10:21:17.719379: I tensorflow/core/platform/cpu_feature_guard.cc:182] This TensorFlow binary is optimized to use available CPU instructions in performance-critical operations.\n",
      "To enable the following instructions: AVX2 FMA, in other operations, rebuild TensorFlow with the appropriate compiler flags.\n",
      "2023-05-19 10:21:19.543433: W tensorflow/compiler/tf2tensorrt/utils/py_utils.cc:38] TF-TRT Warning: Could not find TensorRT\n"
     ]
    }
   ],
   "source": [
    "import datetime\n",
    "import os\n",
    "import shutil\n",
    "\n",
    "import pandas as pd\n",
    "import tensorflow as tf\n",
    "from tensorflow.keras.callbacks import EarlyStopping, TensorBoard\n",
    "from tensorflow.keras.layers import Dense\n",
    "from tensorflow.keras.models import Sequential\n",
    "from tensorflow.keras.preprocessing.text import Tokenizer\n",
    "from tensorflow.keras.utils import to_categorical\n",
    "from tensorflow_hub import KerasLayer"
   ]
  },
  {
   "cell_type": "code",
   "execution_count": 8,
   "id": "742b1094-ead2-4db7-808c-aa6b9028a645",
   "metadata": {},
   "outputs": [],
   "source": [
    "%matplotlib inline"
   ]
  },
  {
   "cell_type": "code",
   "execution_count": 14,
   "id": "c408be2b-b5a2-4f0b-9438-af3578d90a61",
   "metadata": {},
   "outputs": [],
   "source": [
    "MODEL_DIR = \"text_models\"\n",
    "DATADIR = '../datasets'"
   ]
  },
  {
   "cell_type": "markdown",
   "id": "874635ba-5584-461e-90ba-669f2500591f",
   "metadata": {},
   "source": [
    "### Loading Data"
   ]
  },
  {
   "cell_type": "code",
   "execution_count": 15,
   "id": "d8641b10-c98a-473c-96d9-7a7afbb6ad9f",
   "metadata": {},
   "outputs": [
    {
     "data": {
      "text/html": [
       "<div>\n",
       "<style scoped>\n",
       "    .dataframe tbody tr th:only-of-type {\n",
       "        vertical-align: middle;\n",
       "    }\n",
       "\n",
       "    .dataframe tbody tr th {\n",
       "        vertical-align: top;\n",
       "    }\n",
       "\n",
       "    .dataframe thead th {\n",
       "        text-align: right;\n",
       "    }\n",
       "</style>\n",
       "<table border=\"1\" class=\"dataframe\">\n",
       "  <thead>\n",
       "    <tr style=\"text-align: right;\">\n",
       "      <th></th>\n",
       "      <th>title</th>\n",
       "      <th>source</th>\n",
       "    </tr>\n",
       "  </thead>\n",
       "  <tbody>\n",
       "    <tr>\n",
       "      <th>0</th>\n",
       "      <td>holy cash cow  batman - content is back</td>\n",
       "      <td>nytimes</td>\n",
       "    </tr>\n",
       "    <tr>\n",
       "      <th>1</th>\n",
       "      <td>show hn  a simple and configurable deployment ...</td>\n",
       "      <td>github</td>\n",
       "    </tr>\n",
       "    <tr>\n",
       "      <th>2</th>\n",
       "      <td>show hn  neural turing machine in pure numpy. ...</td>\n",
       "      <td>github</td>\n",
       "    </tr>\n",
       "    <tr>\n",
       "      <th>3</th>\n",
       "      <td>close look at a flu outbreak upends some commo...</td>\n",
       "      <td>nytimes</td>\n",
       "    </tr>\n",
       "    <tr>\n",
       "      <th>4</th>\n",
       "      <td>lambdalite  a functional  relational lisp data...</td>\n",
       "      <td>github</td>\n",
       "    </tr>\n",
       "  </tbody>\n",
       "</table>\n",
       "</div>"
      ],
      "text/plain": [
       "                                               title   source\n",
       "0            holy cash cow  batman - content is back  nytimes\n",
       "1  show hn  a simple and configurable deployment ...   github\n",
       "2  show hn  neural turing machine in pure numpy. ...   github\n",
       "3  close look at a flu outbreak upends some commo...  nytimes\n",
       "4  lambdalite  a functional  relational lisp data...   github"
      ]
     },
     "execution_count": 15,
     "metadata": {},
     "output_type": "execute_result"
    }
   ],
   "source": [
    "DATASET_NAME = \"titles_full.csv\"\n",
    "TITLE_SAMPLE_PATH = os.path.join(DATADIR, DATASET_NAME)\n",
    "COLUMNS = [\"title\", \"source\"]\n",
    "\n",
    "titles_df = pd.read_csv(TITLE_SAMPLE_PATH, header=None, names=COLUMNS)\n",
    "titles_df.head()"
   ]
  },
  {
   "cell_type": "markdown",
   "id": "89717d83-2353-4846-9c60-64d6660e16c0",
   "metadata": {},
   "source": [
    "### Data Prep"
   ]
  },
  {
   "cell_type": "code",
   "execution_count": 17,
   "id": "1471ece2-a2d9-4d8d-9b4a-b1390e97a469",
   "metadata": {},
   "outputs": [],
   "source": [
    "CLASSES = {\"github\": 0, \"nytimes\": 1, \"techcrunch\": 2}\n",
    "N_CLASSES = len(CLASSES)"
   ]
  },
  {
   "cell_type": "code",
   "execution_count": 18,
   "id": "8bebec7f-198b-4003-81a3-f1b05dc4f5f7",
   "metadata": {},
   "outputs": [],
   "source": [
    "def encode_labels(sources):\n",
    "    classes = [CLASSES[source] for source in sources]\n",
    "    one_hots = to_categorical(classes, num_classes=N_CLASSES)\n",
    "    return one_hots"
   ]
  },
  {
   "cell_type": "code",
   "execution_count": 19,
   "id": "b070f8db-eba2-45bf-81bf-d76c2b39b537",
   "metadata": {},
   "outputs": [
    {
     "data": {
      "text/plain": [
       "array([[0., 1., 0.],\n",
       "       [1., 0., 0.],\n",
       "       [1., 0., 0.],\n",
       "       [0., 1., 0.]], dtype=float32)"
      ]
     },
     "execution_count": 19,
     "metadata": {},
     "output_type": "execute_result"
    }
   ],
   "source": [
    "encode_labels(titles_df.source[:4])"
   ]
  },
  {
   "cell_type": "markdown",
   "id": "d34f1877-0061-4911-bdca-b7c00ad1ab26",
   "metadata": {},
   "source": [
    "### Splitting"
   ]
  },
  {
   "cell_type": "code",
   "execution_count": 21,
   "id": "6d8bb2aa-ae67-4798-bec9-4a6ae4dc2067",
   "metadata": {},
   "outputs": [],
   "source": [
    "N_TRAIN = int(len(titles_df) * 0.95)\n",
    "\n",
    "titles_train, sources_train = (\n",
    "    titles_df.title[:N_TRAIN],\n",
    "    titles_df.source[:N_TRAIN],\n",
    ")\n",
    "\n",
    "titles_valid, sources_valid = (\n",
    "    titles_df.title[N_TRAIN:],\n",
    "    titles_df.source[N_TRAIN:],\n",
    ")"
   ]
  },
  {
   "cell_type": "code",
   "execution_count": 22,
   "id": "631e6fea-3aae-4b46-9060-3bbab92d6943",
   "metadata": {},
   "outputs": [
    {
     "data": {
      "text/plain": [
       "github        34662\n",
       "techcrunch    29383\n",
       "nytimes       27347\n",
       "Name: source, dtype: int64"
      ]
     },
     "execution_count": 22,
     "metadata": {},
     "output_type": "execute_result"
    }
   ],
   "source": [
    "sources_train.value_counts()"
   ]
  },
  {
   "cell_type": "code",
   "execution_count": 23,
   "id": "79e7804b-98d5-42c8-b713-aa1c8e4dd820",
   "metadata": {},
   "outputs": [
    {
     "data": {
      "text/plain": [
       "github        1863\n",
       "techcrunch    1508\n",
       "nytimes       1440\n",
       "Name: source, dtype: int64"
      ]
     },
     "execution_count": 23,
     "metadata": {},
     "output_type": "execute_result"
    }
   ],
   "source": [
    "sources_valid.value_counts()"
   ]
  },
  {
   "cell_type": "code",
   "execution_count": 24,
   "id": "15b9474f-0a24-4908-9da2-0e51ea12f6c0",
   "metadata": {},
   "outputs": [],
   "source": [
    "X_train, Y_train = titles_train.values, encode_labels(sources_train)\n",
    "X_valid, Y_valid = titles_valid.values, encode_labels(sources_valid)"
   ]
  },
  {
   "cell_type": "markdown",
   "id": "2c5d83df-fbee-4d94-98b8-6fa1282e976e",
   "metadata": {},
   "source": [
    "### NNLM Model"
   ]
  },
  {
   "cell_type": "code",
   "execution_count": 27,
   "id": "6fe48346-c704-49b2-acec-4d378651cbdb",
   "metadata": {},
   "outputs": [],
   "source": [
    "NNLM = \"https://tfhub.dev/google/nnlm-en-dim50/2\"\n",
    "\n",
    "nnlm_module = KerasLayer(\n",
    "    NNLM, output_shape=[50], input_shape=[], dtype=tf.string, trainable=True\n",
    ")"
   ]
  },
  {
   "cell_type": "code",
   "execution_count": 28,
   "id": "fd29da2e-5039-4dfb-88e0-f98e2d04db2c",
   "metadata": {},
   "outputs": [
    {
     "name": "stderr",
     "output_type": "stream",
     "text": [
      "2023-05-19 10:25:07.294173: I tensorflow/core/common_runtime/executor.cc:1197] [/device:CPU:0] (DEBUG INFO) Executor start aborting (this does not indicate an error and you can ignore this message): INVALID_ARGUMENT: You must feed a value for placeholder tensor 'sentences' with dtype string and shape [?]\n",
      "\t [[{{node sentences}}]]\n"
     ]
    },
    {
     "data": {
      "text/plain": [
       "<tf.Tensor: shape=(1, 50), dtype=float32, numpy=\n",
       "array([[ 0.19331802,  0.05893906,  0.15330684,  0.2505918 ,  0.19369544,\n",
       "         0.03578748,  0.07387847, -0.10962156, -0.11377034,  0.07172022,\n",
       "         0.12458669, -0.02289705, -0.18177685, -0.07084437, -0.00225849,\n",
       "        -0.36875236,  0.05772953, -0.14222091,  0.08765972, -0.14068899,\n",
       "        -0.07005888, -0.20634466,  0.07220475,  0.04258814,  0.0955702 ,\n",
       "         0.19424029, -0.42492998, -0.00706906, -0.02095   , -0.05055764,\n",
       "        -0.18988201, -0.02841404,  0.13222624, -0.01459922, -0.31255388,\n",
       "        -0.09577855,  0.05469003, -0.13858607,  0.01141668, -0.12352604,\n",
       "        -0.07250367, -0.11605677, -0.06976165,  0.14313601, -0.15183711,\n",
       "        -0.06836402,  0.03054246, -0.13259597, -0.14599673,  0.05094011]],\n",
       "      dtype=float32)>"
      ]
     },
     "execution_count": 28,
     "metadata": {},
     "output_type": "execute_result"
    }
   ],
   "source": [
    "nnlm_module(tf.constant([\"The dog is happy to see people in the street.\"]))"
   ]
  },
  {
   "cell_type": "markdown",
   "id": "84abc2f8-da25-4cbe-8203-54eb9ef52a72",
   "metadata": {},
   "source": [
    "### Swivel Model"
   ]
  },
  {
   "cell_type": "code",
   "execution_count": 30,
   "id": "14fa78d4-2a14-4280-a567-eac640de9fad",
   "metadata": {},
   "outputs": [],
   "source": [
    "SWIVEL = \"https://tfhub.dev/google/tf2-preview/gnews-swivel-20dim-with-oov/1\"\n",
    "swivel_module = KerasLayer(\n",
    "    SWIVEL, output_shape=[20], input_shape=[], dtype=tf.string, trainable=True\n",
    ")"
   ]
  },
  {
   "cell_type": "code",
   "execution_count": 31,
   "id": "41c39890-6b16-40d7-ac62-e3acf722910c",
   "metadata": {},
   "outputs": [
    {
     "name": "stderr",
     "output_type": "stream",
     "text": [
      "2023-05-19 10:25:26.513203: I tensorflow/core/common_runtime/executor.cc:1197] [/device:CPU:0] (DEBUG INFO) Executor start aborting (this does not indicate an error and you can ignore this message): INVALID_ARGUMENT: You must feed a value for placeholder tensor 'sentences' with dtype string and shape [?]\n",
      "\t [[{{node sentences}}]]\n"
     ]
    },
    {
     "data": {
      "text/plain": [
       "<tf.Tensor: shape=(1, 20), dtype=float32, numpy=\n",
       "array([[ 0.9967701 , -0.3100155 ,  0.5889897 , -0.16765082, -0.6171738 ,\n",
       "        -1.1586996 , -0.8619045 ,  0.7281645 ,  0.32575002,  0.4754492 ,\n",
       "        -0.9272241 ,  0.41090095, -0.75389475, -0.31525993, -1.8918804 ,\n",
       "         0.6423996 ,  0.6801622 , -0.1335669 , -1.0017993 , -0.11908641]],\n",
       "      dtype=float32)>"
      ]
     },
     "execution_count": 31,
     "metadata": {},
     "output_type": "execute_result"
    }
   ],
   "source": [
    "swivel_module(tf.constant([\"The dog is happy to see people in the street.\"]))"
   ]
  },
  {
   "cell_type": "markdown",
   "id": "3c82673c-6d7c-4784-9874-945befb9265c",
   "metadata": {},
   "source": [
    "### Building Model"
   ]
  },
  {
   "cell_type": "code",
   "execution_count": 33,
   "id": "d522d50d-5d20-41a3-932d-0ba3cef60522",
   "metadata": {},
   "outputs": [],
   "source": [
    "def build_model(hub_module, name):\n",
    "    model = Sequential(\n",
    "        [\n",
    "            hub_module,  # TODO 2\n",
    "            Dense(16, activation=\"relu\"),\n",
    "            Dense(N_CLASSES, activation=\"softmax\"),\n",
    "        ],\n",
    "        name=name,\n",
    "    )\n",
    "\n",
    "    model.compile(\n",
    "        optimizer=\"adam\", loss=\"categorical_crossentropy\", metrics=[\"accuracy\"]\n",
    "    )\n",
    "    return model"
   ]
  },
  {
   "cell_type": "code",
   "execution_count": 34,
   "id": "63088703-2878-4132-8de6-072decdc137e",
   "metadata": {},
   "outputs": [],
   "source": [
    "def train_and_evaluate(train_data, val_data, model, batch_size=5000):\n",
    "    X_train, Y_train = train_data\n",
    "\n",
    "    tf.random.set_seed(33)\n",
    "\n",
    "    model_dir = os.path.join(MODEL_DIR, model.name)\n",
    "    if tf.io.gfile.exists(model_dir):\n",
    "        tf.io.gfile.rmtree(model_dir)\n",
    "\n",
    "    history = model.fit(\n",
    "        X_train,\n",
    "        Y_train,\n",
    "        epochs=100,\n",
    "        batch_size=batch_size,\n",
    "        validation_data=val_data,\n",
    "        callbacks=[EarlyStopping(patience=1), TensorBoard(model_dir)],\n",
    "    )\n",
    "    return history"
   ]
  },
  {
   "cell_type": "markdown",
   "id": "0a9cc80f-20f7-4a5d-9b78-2c7dcc416f82",
   "metadata": {},
   "source": [
    "### Train NNLM"
   ]
  },
  {
   "cell_type": "code",
   "execution_count": 35,
   "id": "8d6795d2-05f9-49c6-9df3-d6afade1a96c",
   "metadata": {},
   "outputs": [],
   "source": [
    "data = (X_train, Y_train)\n",
    "val_data = (X_valid, Y_valid)"
   ]
  },
  {
   "cell_type": "code",
   "execution_count": 36,
   "id": "689a3142-a4a9-4de4-a2a6-1bea0e5eb9bf",
   "metadata": {},
   "outputs": [
    {
     "name": "stderr",
     "output_type": "stream",
     "text": [
      "2023-05-19 10:29:36.898672: I tensorflow/core/common_runtime/executor.cc:1197] [/device:CPU:0] (DEBUG INFO) Executor start aborting (this does not indicate an error and you can ignore this message): INVALID_ARGUMENT: You must feed a value for placeholder tensor 'Placeholder' with dtype string and shape [?]\n",
      "\t [[{{node Placeholder}}]]\n"
     ]
    },
    {
     "name": "stdout",
     "output_type": "stream",
     "text": [
      "Epoch 1/100\n"
     ]
    },
    {
     "name": "stderr",
     "output_type": "stream",
     "text": [
      "2023-05-19 10:29:37.241873: I tensorflow/core/common_runtime/executor.cc:1197] [/device:CPU:0] (DEBUG INFO) Executor start aborting (this does not indicate an error and you can ignore this message): INVALID_ARGUMENT: You must feed a value for placeholder tensor 'gradients/StatefulPartitionedCall_grad/StatefulPartitionedCall' with dtype float and shape [?,50]\n",
      "\t [[{{node gradients/StatefulPartitionedCall_grad/StatefulPartitionedCall}}]]\n",
      "2023-05-19 10:29:37.242001: I tensorflow/core/common_runtime/executor.cc:1197] [/device:CPU:0] (DEBUG INFO) Executor start aborting (this does not indicate an error and you can ignore this message): INVALID_ARGUMENT: You must feed a value for placeholder tensor 'gradients/StatefulPartitionedCall_grad/StatefulPartitionedCall_3' with dtype int64 and shape [?]\n",
      "\t [[{{node gradients/StatefulPartitionedCall_grad/StatefulPartitionedCall_3}}]]\n"
     ]
    },
    {
     "name": "stdout",
     "output_type": "stream",
     "text": [
      "19/19 [==============================] - 16s 814ms/step - loss: 1.0569 - accuracy: 0.4519 - val_loss: 0.9998 - val_accuracy: 0.5837\n",
      "Epoch 2/100\n",
      "19/19 [==============================] - 15s 793ms/step - loss: 0.9355 - accuracy: 0.6581 - val_loss: 0.8573 - val_accuracy: 0.7071\n",
      "Epoch 3/100\n",
      "19/19 [==============================] - 16s 775ms/step - loss: 0.7791 - accuracy: 0.7395 - val_loss: 0.7001 - val_accuracy: 0.7637\n",
      "Epoch 4/100\n",
      "19/19 [==============================] - 15s 783ms/step - loss: 0.6332 - accuracy: 0.7845 - val_loss: 0.5782 - val_accuracy: 0.7930\n",
      "Epoch 5/100\n",
      "19/19 [==============================] - 15s 810ms/step - loss: 0.5244 - accuracy: 0.8150 - val_loss: 0.4946 - val_accuracy: 0.8140\n",
      "Epoch 6/100\n",
      "19/19 [==============================] - 15s 764ms/step - loss: 0.4467 - accuracy: 0.8374 - val_loss: 0.4404 - val_accuracy: 0.8304\n",
      "Epoch 7/100\n",
      "19/19 [==============================] - 15s 805ms/step - loss: 0.3905 - accuracy: 0.8552 - val_loss: 0.4069 - val_accuracy: 0.8416\n",
      "Epoch 8/100\n",
      "19/19 [==============================] - 17s 865ms/step - loss: 0.3493 - accuracy: 0.8698 - val_loss: 0.3873 - val_accuracy: 0.8464\n",
      "Epoch 9/100\n",
      "19/19 [==============================] - 15s 771ms/step - loss: 0.3177 - accuracy: 0.8819 - val_loss: 0.3755 - val_accuracy: 0.8508\n",
      "Epoch 10/100\n",
      "19/19 [==============================] - 14s 758ms/step - loss: 0.2924 - accuracy: 0.8919 - val_loss: 0.3689 - val_accuracy: 0.8512\n",
      "Epoch 11/100\n",
      "19/19 [==============================] - 15s 788ms/step - loss: 0.2715 - accuracy: 0.9007 - val_loss: 0.3661 - val_accuracy: 0.8522\n",
      "Epoch 12/100\n",
      "19/19 [==============================] - 15s 793ms/step - loss: 0.2543 - accuracy: 0.9080 - val_loss: 0.3661 - val_accuracy: 0.8512\n"
     ]
    }
   ],
   "source": [
    "nnlm_model = build_model(nnlm_module, \"nnlm\")\n",
    "nnlm_history = train_and_evaluate(data, val_data, nnlm_model)"
   ]
  },
  {
   "cell_type": "code",
   "execution_count": 37,
   "id": "e9fad6f2-72cd-467e-89ab-c288a49d4ced",
   "metadata": {},
   "outputs": [
    {
     "data": {
      "text/plain": [
       "<Axes: >"
      ]
     },
     "execution_count": 37,
     "metadata": {},
     "output_type": "execute_result"
    },
    {
     "data": {
      "image/png": "[encoded data removed]",
      "text/plain": [
       "<Figure size 640x480 with 1 Axes>"
      ]
     },
     "metadata": {},
     "output_type": "display_data"
    },
    {
     "data": {
      "image/png": "[encoded data removed]",
      "text/plain": [
       "<Figure size 640x480 with 1 Axes>"
      ]
     },
     "metadata": {},
     "output_type": "display_data"
    }
   ],
   "source": [
    "history = nnlm_history\n",
    "pd.DataFrame(history.history)[[\"loss\", \"val_loss\"]].plot()\n",
    "pd.DataFrame(history.history)[[\"accuracy\", \"val_accuracy\"]].plot()"
   ]
  },
  {
   "cell_type": "markdown",
   "id": "3a866489-325a-440a-9d60-08d2a7f32edc",
   "metadata": {},
   "source": [
    "### Train Swivel"
   ]
  },
  {
   "cell_type": "code",
   "execution_count": 40,
   "id": "f3d80a9e-921e-4642-bfa5-1b0bcc54308c",
   "metadata": {},
   "outputs": [
    {
     "name": "stderr",
     "output_type": "stream",
     "text": [
      "2023-05-19 10:32:40.741595: I tensorflow/core/common_runtime/executor.cc:1197] [/device:CPU:0] (DEBUG INFO) Executor start aborting (this does not indicate an error and you can ignore this message): INVALID_ARGUMENT: You must feed a value for placeholder tensor 'Placeholder' with dtype string and shape [?]\n",
      "\t [[{{node Placeholder}}]]\n"
     ]
    }
   ],
   "source": [
    "swivel_model = build_model(swivel_module, name=\"swivel\")"
   ]
  },
  {
   "cell_type": "code",
   "execution_count": 41,
   "id": "8d369c5b-24c3-43a3-82c4-68cc7b87c88c",
   "metadata": {},
   "outputs": [
    {
     "name": "stdout",
     "output_type": "stream",
     "text": [
      "Epoch 1/100\n"
     ]
    },
    {
     "name": "stderr",
     "output_type": "stream",
     "text": [
      "2023-05-19 10:32:40.959724: I tensorflow/core/common_runtime/executor.cc:1197] [/device:CPU:0] (DEBUG INFO) Executor start aborting (this does not indicate an error and you can ignore this message): INVALID_ARGUMENT: You must feed a value for placeholder tensor 'gradients/StatefulPartitionedCall_grad/StatefulPartitionedCall' with dtype float\n",
      "\t [[{{node gradients/StatefulPartitionedCall_grad/StatefulPartitionedCall}}]]\n",
      "2023-05-19 10:32:40.959855: I tensorflow/core/common_runtime/executor.cc:1197] [/device:CPU:0] (DEBUG INFO) Executor start aborting (this does not indicate an error and you can ignore this message): INVALID_ARGUMENT: You must feed a value for placeholder tensor 'gradients/StatefulPartitionedCall_grad/StatefulPartitionedCall_3' with dtype int64 and shape [?]\n",
      "\t [[{{node gradients/StatefulPartitionedCall_grad/StatefulPartitionedCall_3}}]]\n"
     ]
    },
    {
     "name": "stdout",
     "output_type": "stream",
     "text": [
      "19/19 [==============================] - 1s 27ms/step - loss: 1.1170 - accuracy: 0.4003 - val_loss: 1.0792 - val_accuracy: 0.4255\n",
      "Epoch 2/100\n",
      "19/19 [==============================] - 0s 16ms/step - loss: 1.0467 - accuracy: 0.4626 - val_loss: 1.0172 - val_accuracy: 0.4974\n",
      "Epoch 3/100\n",
      "19/19 [==============================] - 0s 16ms/step - loss: 0.9886 - accuracy: 0.5213 - val_loss: 0.9611 - val_accuracy: 0.5481\n",
      "Epoch 4/100\n",
      "19/19 [==============================] - 0s 18ms/step - loss: 0.9334 - accuracy: 0.5663 - val_loss: 0.9071 - val_accuracy: 0.5899\n",
      "Epoch 5/100\n",
      "19/19 [==============================] - 0s 21ms/step - loss: 0.8793 - accuracy: 0.6021 - val_loss: 0.8542 - val_accuracy: 0.6182\n",
      "Epoch 6/100\n",
      "19/19 [==============================] - 0s 19ms/step - loss: 0.8268 - accuracy: 0.6327 - val_loss: 0.8036 - val_accuracy: 0.6477\n",
      "Epoch 7/100\n",
      "19/19 [==============================] - 0s 16ms/step - loss: 0.7768 - accuracy: 0.6584 - val_loss: 0.7568 - val_accuracy: 0.6699\n",
      "Epoch 8/100\n",
      "19/19 [==============================] - 0s 16ms/step - loss: 0.7304 - accuracy: 0.6819 - val_loss: 0.7147 - val_accuracy: 0.6930\n",
      "Epoch 9/100\n",
      "19/19 [==============================] - 0s 18ms/step - loss: 0.6886 - accuracy: 0.7028 - val_loss: 0.6772 - val_accuracy: 0.7061\n",
      "Epoch 10/100\n",
      "19/19 [==============================] - 0s 17ms/step - loss: 0.6516 - accuracy: 0.7211 - val_loss: 0.6449 - val_accuracy: 0.7229\n",
      "Epoch 11/100\n",
      "19/19 [==============================] - 0s 19ms/step - loss: 0.6192 - accuracy: 0.7358 - val_loss: 0.6170 - val_accuracy: 0.7364\n",
      "Epoch 12/100\n",
      "19/19 [==============================] - 0s 25ms/step - loss: 0.5908 - accuracy: 0.7497 - val_loss: 0.5924 - val_accuracy: 0.7452\n",
      "Epoch 13/100\n",
      "19/19 [==============================] - 0s 15ms/step - loss: 0.5656 - accuracy: 0.7618 - val_loss: 0.5712 - val_accuracy: 0.7578\n",
      "Epoch 14/100\n",
      "19/19 [==============================] - 0s 16ms/step - loss: 0.5435 - accuracy: 0.7726 - val_loss: 0.5530 - val_accuracy: 0.7647\n",
      "Epoch 15/100\n",
      "19/19 [==============================] - 0s 14ms/step - loss: 0.5239 - accuracy: 0.7817 - val_loss: 0.5379 - val_accuracy: 0.7728\n",
      "Epoch 16/100\n",
      "19/19 [==============================] - 0s 15ms/step - loss: 0.5067 - accuracy: 0.7896 - val_loss: 0.5246 - val_accuracy: 0.7780\n",
      "Epoch 17/100\n",
      "19/19 [==============================] - 0s 17ms/step - loss: 0.4914 - accuracy: 0.7966 - val_loss: 0.5133 - val_accuracy: 0.7834\n",
      "Epoch 18/100\n",
      "19/19 [==============================] - 0s 18ms/step - loss: 0.4777 - accuracy: 0.8032 - val_loss: 0.5034 - val_accuracy: 0.7861\n",
      "Epoch 19/100\n",
      "19/19 [==============================] - 0s 17ms/step - loss: 0.4655 - accuracy: 0.8080 - val_loss: 0.4951 - val_accuracy: 0.7892\n",
      "Epoch 20/100\n",
      "19/19 [==============================] - 0s 16ms/step - loss: 0.4545 - accuracy: 0.8131 - val_loss: 0.4878 - val_accuracy: 0.7932\n",
      "Epoch 21/100\n",
      "19/19 [==============================] - 0s 15ms/step - loss: 0.4445 - accuracy: 0.8171 - val_loss: 0.4816 - val_accuracy: 0.7971\n",
      "Epoch 22/100\n",
      "19/19 [==============================] - 0s 15ms/step - loss: 0.4354 - accuracy: 0.8217 - val_loss: 0.4765 - val_accuracy: 0.7998\n",
      "Epoch 23/100\n",
      "19/19 [==============================] - 0s 16ms/step - loss: 0.4271 - accuracy: 0.8249 - val_loss: 0.4718 - val_accuracy: 0.8042\n",
      "Epoch 24/100\n",
      "19/19 [==============================] - 0s 17ms/step - loss: 0.4196 - accuracy: 0.8287 - val_loss: 0.4680 - val_accuracy: 0.8061\n",
      "Epoch 25/100\n",
      "19/19 [==============================] - 0s 15ms/step - loss: 0.4124 - accuracy: 0.8323 - val_loss: 0.4641 - val_accuracy: 0.8086\n",
      "Epoch 26/100\n",
      "19/19 [==============================] - 0s 16ms/step - loss: 0.4059 - accuracy: 0.8356 - val_loss: 0.4611 - val_accuracy: 0.8081\n",
      "Epoch 27/100\n",
      "19/19 [==============================] - 0s 15ms/step - loss: 0.4000 - accuracy: 0.8375 - val_loss: 0.4587 - val_accuracy: 0.8094\n",
      "Epoch 28/100\n",
      "19/19 [==============================] - 0s 16ms/step - loss: 0.3943 - accuracy: 0.8407 - val_loss: 0.4572 - val_accuracy: 0.8102\n",
      "Epoch 29/100\n",
      "19/19 [==============================] - 0s 15ms/step - loss: 0.3891 - accuracy: 0.8433 - val_loss: 0.4556 - val_accuracy: 0.8102\n",
      "Epoch 30/100\n",
      "19/19 [==============================] - 0s 16ms/step - loss: 0.3844 - accuracy: 0.8456 - val_loss: 0.4540 - val_accuracy: 0.8121\n",
      "Epoch 31/100\n",
      "19/19 [==============================] - 0s 15ms/step - loss: 0.3797 - accuracy: 0.8470 - val_loss: 0.4535 - val_accuracy: 0.8150\n",
      "Epoch 32/100\n",
      "19/19 [==============================] - 0s 15ms/step - loss: 0.3753 - accuracy: 0.8490 - val_loss: 0.4534 - val_accuracy: 0.8163\n",
      "Epoch 33/100\n",
      "19/19 [==============================] - 0s 15ms/step - loss: 0.3713 - accuracy: 0.8512 - val_loss: 0.4530 - val_accuracy: 0.8154\n",
      "Epoch 34/100\n",
      "19/19 [==============================] - 0s 16ms/step - loss: 0.3675 - accuracy: 0.8527 - val_loss: 0.4528 - val_accuracy: 0.8158\n",
      "Epoch 35/100\n",
      "19/19 [==============================] - 0s 14ms/step - loss: 0.3639 - accuracy: 0.8545 - val_loss: 0.4525 - val_accuracy: 0.8171\n",
      "Epoch 36/100\n",
      "19/19 [==============================] - 0s 15ms/step - loss: 0.3605 - accuracy: 0.8564 - val_loss: 0.4529 - val_accuracy: 0.8177\n"
     ]
    }
   ],
   "source": [
    "swivel_history = train_and_evaluate(data, val_data, swivel_model)"
   ]
  },
  {
   "cell_type": "code",
   "execution_count": 42,
   "id": "2bd92c77-125f-4c5e-afba-97dddea993f6",
   "metadata": {},
   "outputs": [
    {
     "data": {
      "text/plain": [
       "<Axes: >"
      ]
     },
     "execution_count": 42,
     "metadata": {},
     "output_type": "execute_result"
    },
    {
     "data": {
      "image/png": "[encoded data removed]",
      "text/plain": [
       "<Figure size 640x480 with 1 Axes>"
      ]
     },
     "metadata": {},
     "output_type": "display_data"
    },
    {
     "data": {
      "image/png": "[encoded data removed]",
      "text/plain": [
       "<Figure size 640x480 with 1 Axes>"
      ]
     },
     "metadata": {},
     "output_type": "display_data"
    }
   ],
   "source": [
    "history = swivel_history\n",
    "pd.DataFrame(history.history)[[\"loss\", \"val_loss\"]].plot()\n",
    "pd.DataFrame(history.history)[[\"accuracy\", \"val_accuracy\"]].plot()"
   ]
  },
  {
   "cell_type": "markdown",
   "id": "d33301b2-2956-4028-b3f2-f8f588d98106",
   "metadata": {},
   "source": [
    "### Compare models"
   ]
  },
  {
   "cell_type": "code",
   "execution_count": 47,
   "id": "6cac7a77-3065-4911-a80d-eec1ebe48d3b",
   "metadata": {},
   "outputs": [
    {
     "name": "stdout",
     "output_type": "stream",
     "text": [
      "2023-05-19 10:33:55.969040: W tensorflow/compiler/tf2tensorrt/utils/py_utils.cc:38] TF-TRT Warning: Could not find TensorRT\n",
      "/opt/conda/lib/python3.10/site-packages/tensorboard_data_server/bin/server: /lib/x86_64-linux-gnu/libc.so.6: version `GLIBC_2.33' not found (required by /opt/conda/lib/python3.10/site-packages/tensorboard_data_server/bin/server)\n",
      "/opt/conda/lib/python3.10/site-packages/tensorboard_data_server/bin/server: /lib/x86_64-linux-gnu/libc.so.6: version `GLIBC_2.34' not found (required by /opt/conda/lib/python3.10/site-packages/tensorboard_data_server/bin/server)\n",
      "/opt/conda/lib/python3.10/site-packages/tensorboard_data_server/bin/server: /lib/x86_64-linux-gnu/libc.so.6: version `GLIBC_2.32' not found (required by /opt/conda/lib/python3.10/site-packages/tensorboard_data_server/bin/server)\n",
      "TensorBoard 2.12.3 at http://0.0.0.0:6006/ (Press CTRL+C to quit)\n",
      "^C\n"
     ]
    }
   ],
   "source": [
    "!tensorboard --logdir $MODEL_DIR --host 0.0.0.0 --port 6006"
   ]
  },
  {
   "cell_type": "markdown",
   "id": "bb151aa9-9a8b-4f62-9e74-98bd913a084a",
   "metadata": {},
   "source": [
    "### Export model"
   ]
  },
  {
   "cell_type": "code",
   "execution_count": 49,
   "id": "d8e94ae9-bd6c-4fa1-a1a3-7718bf0c955b",
   "metadata": {},
   "outputs": [
    {
     "name": "stderr",
     "output_type": "stream",
     "text": [
      "2023-05-19 10:34:15.614285: I tensorflow/core/common_runtime/executor.cc:1197] [/device:CPU:0] (DEBUG INFO) Executor start aborting (this does not indicate an error and you can ignore this message): INVALID_ARGUMENT: You must feed a value for placeholder tensor 'keras_layer_1_input' with dtype string and shape [?]\n",
      "\t [[{{node keras_layer_1_input}}]]\n",
      "2023-05-19 10:34:15.657004: I tensorflow/core/common_runtime/executor.cc:1197] [/device:CPU:0] (DEBUG INFO) Executor start aborting (this does not indicate an error and you can ignore this message): INVALID_ARGUMENT: You must feed a value for placeholder tensor 'inputs' with dtype string and shape [?]\n",
      "\t [[{{node inputs}}]]\n",
      "2023-05-19 10:34:15.665790: I tensorflow/core/common_runtime/executor.cc:1197] [/device:CPU:0] (DEBUG INFO) Executor start aborting (this does not indicate an error and you can ignore this message): INVALID_ARGUMENT: You must feed a value for placeholder tensor 'keras_layer_1_input' with dtype string and shape [?]\n",
      "\t [[{{node keras_layer_1_input}}]]\n",
      "2023-05-19 10:34:15.701082: I tensorflow/core/common_runtime/executor.cc:1197] [/device:CPU:0] (DEBUG INFO) Executor start aborting (this does not indicate an error and you can ignore this message): INVALID_ARGUMENT: You must feed a value for placeholder tensor 'inputs' with dtype string and shape [?]\n",
      "\t [[{{node inputs}}]]\n",
      "2023-05-19 10:34:15.708575: I tensorflow/core/common_runtime/executor.cc:1197] [/device:CPU:0] (DEBUG INFO) Executor start aborting (this does not indicate an error and you can ignore this message): INVALID_ARGUMENT: You must feed a value for placeholder tensor 'keras_layer_1_input' with dtype string and shape [?]\n",
      "\t [[{{node keras_layer_1_input}}]]\n",
      "2023-05-19 10:34:15.725127: I tensorflow/core/common_runtime/executor.cc:1197] [/device:CPU:0] (DEBUG INFO) Executor start aborting (this does not indicate an error and you can ignore this message): INVALID_ARGUMENT: You must feed a value for placeholder tensor 'inputs' with dtype string and shape [?]\n",
      "\t [[{{node inputs}}]]\n",
      "2023-05-19 10:34:15.738544: I tensorflow/core/common_runtime/executor.cc:1197] [/device:CPU:0] (DEBUG INFO) Executor start aborting (this does not indicate an error and you can ignore this message): INVALID_ARGUMENT: You must feed a value for placeholder tensor 'keras_layer_1_input' with dtype string and shape [?]\n",
      "\t [[{{node keras_layer_1_input}}]]\n",
      "2023-05-19 10:34:15.751991: I tensorflow/core/common_runtime/executor.cc:1197] [/device:CPU:0] (DEBUG INFO) Executor start aborting (this does not indicate an error and you can ignore this message): INVALID_ARGUMENT: You must feed a value for placeholder tensor 'inputs' with dtype string and shape [?]\n",
      "\t [[{{node inputs}}]]\n",
      "2023-05-19 10:34:15.764790: I tensorflow/core/common_runtime/executor.cc:1197] [/device:CPU:0] (DEBUG INFO) Executor start aborting (this does not indicate an error and you can ignore this message): INVALID_ARGUMENT: You must feed a value for placeholder tensor 'keras_layer_1_input' with dtype string and shape [?]\n",
      "\t [[{{node keras_layer_1_input}}]]\n",
      "2023-05-19 10:34:15.773137: I tensorflow/core/common_runtime/executor.cc:1197] [/device:CPU:0] (DEBUG INFO) Executor start aborting (this does not indicate an error and you can ignore this message): INVALID_ARGUMENT: You must feed a value for placeholder tensor 'inputs' with dtype string and shape [?]\n",
      "\t [[{{node inputs}}]]\n",
      "2023-05-19 10:34:15.782375: I tensorflow/core/common_runtime/executor.cc:1197] [/device:CPU:0] (DEBUG INFO) Executor start aborting (this does not indicate an error and you can ignore this message): INVALID_ARGUMENT: You must feed a value for placeholder tensor 'inputs' with dtype string and shape [?]\n",
      "\t [[{{node inputs}}]]\n",
      "2023-05-19 10:34:15.805643: I tensorflow/core/common_runtime/executor.cc:1197] [/device:CPU:0] (DEBUG INFO) Executor start aborting (this does not indicate an error and you can ignore this message): INVALID_ARGUMENT: You must feed a value for placeholder tensor 'inputs' with dtype string and shape [?]\n",
      "\t [[{{node inputs}}]]\n",
      "2023-05-19 10:34:15.815396: I tensorflow/core/common_runtime/executor.cc:1197] [/device:CPU:0] (DEBUG INFO) Executor start aborting (this does not indicate an error and you can ignore this message): INVALID_ARGUMENT: You must feed a value for placeholder tensor 'inputs' with dtype string and shape [?]\n",
      "\t [[{{node inputs}}]]\n",
      "2023-05-19 10:34:15.845632: I tensorflow/core/common_runtime/executor.cc:1197] [/device:CPU:0] (DEBUG INFO) Executor start aborting (this does not indicate an error and you can ignore this message): INVALID_ARGUMENT: You must feed a value for placeholder tensor 'keras_layer_1_input' with dtype string and shape [?]\n",
      "\t [[{{node keras_layer_1_input}}]]\n",
      "2023-05-19 10:34:15.864557: I tensorflow/core/common_runtime/executor.cc:1197] [/device:CPU:0] (DEBUG INFO) Executor start aborting (this does not indicate an error and you can ignore this message): INVALID_ARGUMENT: You must feed a value for placeholder tensor 'inputs' with dtype string and shape [?]\n",
      "\t [[{{node inputs}}]]\n",
      "2023-05-19 10:34:15.874604: I tensorflow/core/common_runtime/executor.cc:1197] [/device:CPU:0] (DEBUG INFO) Executor start aborting (this does not indicate an error and you can ignore this message): INVALID_ARGUMENT: You must feed a value for placeholder tensor 'inputs' with dtype string and shape [?]\n",
      "\t [[{{node inputs}}]]\n",
      "2023-05-19 10:34:15.885264: I tensorflow/core/common_runtime/executor.cc:1197] [/device:CPU:0] (DEBUG INFO) Executor start aborting (this does not indicate an error and you can ignore this message): INVALID_ARGUMENT: You must feed a value for placeholder tensor 'inputs' with dtype string and shape [?]\n",
      "\t [[{{node inputs}}]]\n",
      "2023-05-19 10:34:15.901679: I tensorflow/core/common_runtime/executor.cc:1197] [/device:CPU:0] (DEBUG INFO) Executor start aborting (this does not indicate an error and you can ignore this message): INVALID_ARGUMENT: You must feed a value for placeholder tensor 'inputs' with dtype string and shape [?]\n",
      "\t [[{{node inputs}}]]\n",
      "2023-05-19 10:34:15.923317: I tensorflow/core/common_runtime/executor.cc:1197] [/device:CPU:0] (DEBUG INFO) Executor start aborting (this does not indicate an error and you can ignore this message): INVALID_ARGUMENT: You must feed a value for placeholder tensor 'inputs' with dtype string and shape [?]\n",
      "\t [[{{node inputs}}]]\n",
      "2023-05-19 10:34:15.932053: I tensorflow/core/common_runtime/executor.cc:1197] [/device:CPU:0] (DEBUG INFO) Executor start aborting (this does not indicate an error and you can ignore this message): INVALID_ARGUMENT: You must feed a value for placeholder tensor 'inputs' with dtype string and shape [?]\n",
      "\t [[{{node inputs}}]]\n",
      "2023-05-19 10:34:15.940577: I tensorflow/core/common_runtime/executor.cc:1197] [/device:CPU:0] (DEBUG INFO) Executor start aborting (this does not indicate an error and you can ignore this message): INVALID_ARGUMENT: You must feed a value for placeholder tensor 'inputs' with dtype string and shape [?]\n",
      "\t [[{{node inputs}}]]\n",
      "2023-05-19 10:34:15.954162: I tensorflow/core/common_runtime/executor.cc:1197] [/device:CPU:0] (DEBUG INFO) Executor start aborting (this does not indicate an error and you can ignore this message): INVALID_ARGUMENT: You must feed a value for placeholder tensor 'inputs' with dtype string and shape [?]\n",
      "\t [[{{node inputs}}]]\n",
      "WARNING:absl:Found untraced functions such as _update_step_xla while saving (showing 1 of 1). These functions will not be directly callable after loading.\n",
      "2023-05-19 10:34:16.059716: I tensorflow/core/common_runtime/executor.cc:1197] [/device:CPU:0] (DEBUG INFO) Executor start aborting (this does not indicate an error and you can ignore this message): INVALID_ARGUMENT: You must feed a value for placeholder tensor 'serving_default_keras_layer_1_input' with dtype string and shape [?]\n",
      "\t [[{{node serving_default_keras_layer_1_input}}]]\n"
     ]
    },
    {
     "name": "stdout",
     "output_type": "stream",
     "text": [
      "INFO:tensorflow:Assets written to: ./savedmodels_vertex/swivel/assets\n"
     ]
    },
    {
     "name": "stderr",
     "output_type": "stream",
     "text": [
      "INFO:tensorflow:Assets written to: ./savedmodels_vertex/swivel/assets\n"
     ]
    }
   ],
   "source": [
    "OUTPUT_DIR = \"./savedmodels_vertex\"\n",
    "shutil.rmtree(OUTPUT_DIR, ignore_errors=True)\n",
    "\n",
    "EXPORT_PATH = os.path.join(OUTPUT_DIR, \"swivel\")\n",
    "os.environ[\"EXPORT_PATH\"] = EXPORT_PATH\n",
    "\n",
    "shutil.rmtree(EXPORT_PATH, ignore_errors=True)\n",
    "\n",
    "tf.keras.models.save_model(swivel_model, EXPORT_PATH)"
   ]
  },
  {
   "cell_type": "code",
   "execution_count": 50,
   "id": "8eba335c-f74f-4cce-9ae4-9433506bae0d",
   "metadata": {},
   "outputs": [
    {
     "name": "stdout",
     "output_type": "stream",
     "text": [
      "2023-05-19 10:34:22.187352: W tensorflow/compiler/tf2tensorrt/utils/py_utils.cc:38] TF-TRT Warning: Could not find TensorRT\n",
      "The given SavedModel SignatureDef contains the following input(s):\n",
      "  inputs['keras_layer_1_input'] tensor_info:\n",
      "      dtype: DT_STRING\n",
      "      shape: (-1)\n",
      "      name: serving_default_keras_layer_1_input:0\n",
      "The given SavedModel SignatureDef contains the following output(s):\n",
      "  outputs['dense_3'] tensor_info:\n",
      "      dtype: DT_FLOAT\n",
      "      shape: (-1, 3)\n",
      "      name: StatefulPartitionedCall_1:0\n",
      "Method name is: tensorflow/serving/predict\n",
      "./savedmodels_vertex/swivel\n",
      "./savedmodels_vertex/swivel/variables\n",
      "./savedmodels_vertex/swivel/variables/variables.data-00000-of-00001\n",
      "./savedmodels_vertex/swivel/variables/variables.index\n",
      "./savedmodels_vertex/swivel/assets\n",
      "./savedmodels_vertex/swivel/assets/tokens.txt\n",
      "./savedmodels_vertex/swivel/keras_metadata.pb\n",
      "./savedmodels_vertex/swivel/saved_model.pb\n",
      "./savedmodels_vertex/swivel/fingerprint.pb\n"
     ]
    }
   ],
   "source": [
    "!saved_model_cli show \\\n",
    " --tag_set serve \\\n",
    " --signature_def serving_default \\\n",
    " --dir {EXPORT_PATH}\n",
    "!find {EXPORT_PATH}"
   ]
  },
  {
   "cell_type": "code",
   "execution_count": null,
   "id": "f8631033-5d1f-41be-8b1d-e316f277325c",
   "metadata": {},
   "outputs": [],
   "source": []
  }
 ],
 "metadata": {
  "kernelspec": {
   "display_name": "Python 3 (ipykernel)",
   "language": "python",
   "name": "python3"
  },
  "language_info": {
   "codemirror_mode": {
    "name": "ipython",
    "version": 3
   },
   "file_extension": ".py",
   "mimetype": "text/x-python",
   "name": "python",
   "nbconvert_exporter": "python",
   "pygments_lexer": "ipython3",
   "version": "3.9.7"
  }
 },
 "nbformat": 4,
 "nbformat_minor": 5
}
