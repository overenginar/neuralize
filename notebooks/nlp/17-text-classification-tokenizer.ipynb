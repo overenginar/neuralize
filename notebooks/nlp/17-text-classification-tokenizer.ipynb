{
 "cells": [
  {
   "cell_type": "markdown",
   "id": "e0e5151c-ed9b-489d-817f-c4c5cc002a72",
   "metadata": {},
   "source": [
    "### Importing Libs"
   ]
  },
  {
   "cell_type": "code",
   "execution_count": 2,
   "id": "10057a13-0fac-4a9e-8b01-f685379d3733",
   "metadata": {},
   "outputs": [
    {
     "name": "stderr",
     "output_type": "stream",
     "text": [
      "2023-05-19 09:25:50.201505: I tensorflow/tsl/cuda/cudart_stub.cc:28] Could not find cuda drivers on your machine, GPU will not be used.\n",
      "2023-05-19 09:25:50.253019: I tensorflow/tsl/cuda/cudart_stub.cc:28] Could not find cuda drivers on your machine, GPU will not be used.\n",
      "2023-05-19 09:25:50.254762: I tensorflow/core/platform/cpu_feature_guard.cc:182] This TensorFlow binary is optimized to use available CPU instructions in performance-critical operations.\n",
      "To enable the following instructions: AVX2 FMA, in other operations, rebuild TensorFlow with the appropriate compiler flags.\n",
      "2023-05-19 09:25:51.393832: W tensorflow/compiler/tf2tensorrt/utils/py_utils.cc:38] TF-TRT Warning: Could not find TensorRT\n"
     ]
    }
   ],
   "source": [
    "import os\n",
    "import shutil\n",
    "\n",
    "import pandas as pd\n",
    "import tensorflow as tf\n",
    "from tensorflow.keras.callbacks import EarlyStopping, TensorBoard\n",
    "from tensorflow.keras.layers import (\n",
    "    GRU,\n",
    "    Conv1D,\n",
    "    Dense,\n",
    "    Embedding,\n",
    "    Flatten,\n",
    "    Input,\n",
    "    Lambda,\n",
    ")\n",
    "from tensorflow.keras.models import Sequential\n",
    "from tensorflow.keras.preprocessing.sequence import pad_sequences\n",
    "from tensorflow.keras.preprocessing.text import Tokenizer\n",
    "from tensorflow.keras.utils import to_categorical"
   ]
  },
  {
   "cell_type": "code",
   "execution_count": 3,
   "id": "d3b67f98-9893-496e-a7f9-51d26789e574",
   "metadata": {},
   "outputs": [],
   "source": [
    "%matplotlib inline"
   ]
  },
  {
   "cell_type": "code",
   "execution_count": 7,
   "id": "84a89d83-3c4b-4956-ad62-e98425c9e493",
   "metadata": {},
   "outputs": [],
   "source": [
    "LOGDIR = \"./text_models\"\n",
    "DATA_DIR = \"../datasets\""
   ]
  },
  {
   "cell_type": "markdown",
   "id": "ef5f2d5b-fbac-433b-8c78-8788ac4b46c3",
   "metadata": {},
   "source": [
    "### Load data"
   ]
  },
  {
   "cell_type": "code",
   "execution_count": 8,
   "id": "bfcbed2c-73b2-44c3-ae1a-19c04a169af7",
   "metadata": {},
   "outputs": [
    {
     "data": {
      "text/html": [
       "<div>\n",
       "<style scoped>\n",
       "    .dataframe tbody tr th:only-of-type {\n",
       "        vertical-align: middle;\n",
       "    }\n",
       "\n",
       "    .dataframe tbody tr th {\n",
       "        vertical-align: top;\n",
       "    }\n",
       "\n",
       "    .dataframe thead th {\n",
       "        text-align: right;\n",
       "    }\n",
       "</style>\n",
       "<table border=\"1\" class=\"dataframe\">\n",
       "  <thead>\n",
       "    <tr style=\"text-align: right;\">\n",
       "      <th></th>\n",
       "      <th>title</th>\n",
       "      <th>source</th>\n",
       "    </tr>\n",
       "  </thead>\n",
       "  <tbody>\n",
       "    <tr>\n",
       "      <th>0</th>\n",
       "      <td>holy cash cow  batman - content is back</td>\n",
       "      <td>nytimes</td>\n",
       "    </tr>\n",
       "    <tr>\n",
       "      <th>1</th>\n",
       "      <td>show hn  a simple and configurable deployment ...</td>\n",
       "      <td>github</td>\n",
       "    </tr>\n",
       "    <tr>\n",
       "      <th>2</th>\n",
       "      <td>show hn  neural turing machine in pure numpy. ...</td>\n",
       "      <td>github</td>\n",
       "    </tr>\n",
       "    <tr>\n",
       "      <th>3</th>\n",
       "      <td>close look at a flu outbreak upends some commo...</td>\n",
       "      <td>nytimes</td>\n",
       "    </tr>\n",
       "    <tr>\n",
       "      <th>4</th>\n",
       "      <td>lambdalite  a functional  relational lisp data...</td>\n",
       "      <td>github</td>\n",
       "    </tr>\n",
       "  </tbody>\n",
       "</table>\n",
       "</div>"
      ],
      "text/plain": [
       "                                               title   source\n",
       "0            holy cash cow  batman - content is back  nytimes\n",
       "1  show hn  a simple and configurable deployment ...   github\n",
       "2  show hn  neural turing machine in pure numpy. ...   github\n",
       "3  close look at a flu outbreak upends some commo...  nytimes\n",
       "4  lambdalite  a functional  relational lisp data...   github"
      ]
     },
     "execution_count": 8,
     "metadata": {},
     "output_type": "execute_result"
    }
   ],
   "source": [
    "DATASET_NAME = \"titles_full.csv\"\n",
    "TITLE_SAMPLE_PATH = os.path.join(DATA_DIR, DATASET_NAME)\n",
    "COLUMNS = [\"title\", \"source\"]\n",
    "\n",
    "titles_df = pd.read_csv(TITLE_SAMPLE_PATH, header=None, names=COLUMNS)\n",
    "titles_df.head()"
   ]
  },
  {
   "cell_type": "markdown",
   "id": "4a4b65ce-7ddf-443e-b590-6755365ea5be",
   "metadata": {},
   "source": [
    "### Tokenizer"
   ]
  },
  {
   "cell_type": "code",
   "execution_count": 11,
   "id": "5d31c1fc-5faf-406a-b905-05fee73243b7",
   "metadata": {},
   "outputs": [],
   "source": [
    "tokenizer = Tokenizer()\n",
    "tokenizer.fit_on_texts(titles_df.title)"
   ]
  },
  {
   "cell_type": "code",
   "execution_count": 12,
   "id": "566e1dbc-e091-4df5-bb81-b60b386c169d",
   "metadata": {},
   "outputs": [
    {
     "data": {
      "text/plain": [
       "[[6117, 560, 8577, 13948, 302, 13, 172],\n",
       " [11, 12, 2, 49, 7, 3838, 1322, 91, 4, 28, 482],\n",
       " [11, 12, 1501, 2812, 322, 5, 589, 7337, 5458, 78, 108, 1989, 17, 1139]]"
      ]
     },
     "execution_count": 12,
     "metadata": {},
     "output_type": "execute_result"
    }
   ],
   "source": [
    "integerized_titles = tokenizer.texts_to_sequences(titles_df.title)\n",
    "integerized_titles[:3]"
   ]
  },
  {
   "cell_type": "code",
   "execution_count": 13,
   "id": "78b2a98c-50df-4d78-b02c-66a9e8d44dd9",
   "metadata": {},
   "outputs": [
    {
     "data": {
      "text/plain": [
       "47271"
      ]
     },
     "execution_count": 13,
     "metadata": {},
     "output_type": "execute_result"
    }
   ],
   "source": [
    "VOCAB_SIZE = len(tokenizer.index_word)\n",
    "VOCAB_SIZE"
   ]
  },
  {
   "cell_type": "code",
   "execution_count": 14,
   "id": "6b47f089-3cc6-45d9-8af5-2e757e58657a",
   "metadata": {},
   "outputs": [
    {
     "data": {
      "text/plain": [
       "96203"
      ]
     },
     "execution_count": 14,
     "metadata": {},
     "output_type": "execute_result"
    }
   ],
   "source": [
    "DATASET_SIZE = tokenizer.document_count\n",
    "DATASET_SIZE"
   ]
  },
  {
   "cell_type": "code",
   "execution_count": 15,
   "id": "199273c4-bf46-4d99-bc64-5345bb1ef3df",
   "metadata": {},
   "outputs": [
    {
     "data": {
      "text/plain": [
       "26"
      ]
     },
     "execution_count": 15,
     "metadata": {},
     "output_type": "execute_result"
    }
   ],
   "source": [
    "MAX_LEN = max(len(sequence) for sequence in integerized_titles)\n",
    "MAX_LEN"
   ]
  },
  {
   "cell_type": "code",
   "execution_count": 16,
   "id": "4a017b2f-82fc-4c51-8fdb-af1730f31ea2",
   "metadata": {},
   "outputs": [],
   "source": [
    "def create_sequences(texts, max_len=MAX_LEN):\n",
    "    sequences = tokenizer.texts_to_sequences(texts)\n",
    "    padded_sequences = pad_sequences(sequences, max_len, padding=\"post\")\n",
    "    return padded_sequences"
   ]
  },
  {
   "cell_type": "code",
   "execution_count": 17,
   "id": "95ef9bef-1a2c-450a-857c-4c3b7dd79a4f",
   "metadata": {},
   "outputs": [
    {
     "data": {
      "text/plain": [
       "array([[ 6117,   560,  8577, 13948,   302,    13,   172,     0,     0,\n",
       "            0,     0,     0,     0,     0,     0,     0,     0,     0,\n",
       "            0,     0,     0,     0,     0,     0,     0,     0],\n",
       "       [   11,    12,     2,    49,     7,  3838,  1322,    91,     4,\n",
       "           28,   482,     0,     0,     0,     0,     0,     0,     0,\n",
       "            0,     0,     0,     0,     0,     0,     0,     0],\n",
       "       [   11,    12,  1501,  2812,   322,     5,   589,  7337,  5458,\n",
       "           78,   108,  1989,    17,  1139,     0,     0,     0,     0,\n",
       "            0,     0,     0,     0,     0,     0,     0,     0]],\n",
       "      dtype=int32)"
      ]
     },
     "execution_count": 17,
     "metadata": {},
     "output_type": "execute_result"
    }
   ],
   "source": [
    "sequences = create_sequences(titles_df.title[:3])\n",
    "sequences"
   ]
  },
  {
   "cell_type": "code",
   "execution_count": 18,
   "id": "a180b07e-9dfc-4f69-b538-d8930279f2a1",
   "metadata": {},
   "outputs": [],
   "source": [
    "CLASSES = {\"github\": 0, \"nytimes\": 1, \"techcrunch\": 2}\n",
    "N_CLASSES = len(CLASSES)"
   ]
  },
  {
   "cell_type": "code",
   "execution_count": 19,
   "id": "eb8d150e-c3f7-4c47-8c45-6212e9157d2e",
   "metadata": {},
   "outputs": [],
   "source": [
    "def encode_labels(sources):\n",
    "    classes = [CLASSES[source] for source in sources]\n",
    "    one_hots = to_categorical(classes)\n",
    "    return one_hots"
   ]
  },
  {
   "cell_type": "code",
   "execution_count": 20,
   "id": "772e3d13-86f4-463a-9af7-8a1df8834835",
   "metadata": {},
   "outputs": [
    {
     "data": {
      "text/plain": [
       "array([[0., 1.],\n",
       "       [1., 0.],\n",
       "       [1., 0.],\n",
       "       [0., 1.]], dtype=float32)"
      ]
     },
     "execution_count": 20,
     "metadata": {},
     "output_type": "execute_result"
    }
   ],
   "source": [
    "encode_labels(titles_df.source[:4])"
   ]
  },
  {
   "cell_type": "markdown",
   "id": "983abacb-9078-4f3a-b7b3-33a09c571795",
   "metadata": {},
   "source": [
    "### Data Prep"
   ]
  },
  {
   "cell_type": "code",
   "execution_count": 21,
   "id": "fb5d6098-2ce3-4de5-9232-45782f950f0b",
   "metadata": {},
   "outputs": [],
   "source": [
    "N_TRAIN = int(DATASET_SIZE * 0.80)\n",
    "\n",
    "titles_train, sources_train = (\n",
    "    titles_df.title[:N_TRAIN],\n",
    "    titles_df.source[:N_TRAIN],\n",
    ")\n",
    "\n",
    "titles_valid, sources_valid = (\n",
    "    titles_df.title[N_TRAIN:],\n",
    "    titles_df.source[N_TRAIN:],\n",
    ")"
   ]
  },
  {
   "cell_type": "code",
   "execution_count": 22,
   "id": "5a48fb40-c5e1-43e5-a6ae-3aea6763162b",
   "metadata": {},
   "outputs": [
    {
     "data": {
      "text/plain": [
       "github        29175\n",
       "techcrunch    24784\n",
       "nytimes       23003\n",
       "Name: source, dtype: int64"
      ]
     },
     "execution_count": 22,
     "metadata": {},
     "output_type": "execute_result"
    }
   ],
   "source": [
    "sources_train.value_counts()"
   ]
  },
  {
   "cell_type": "code",
   "execution_count": 23,
   "id": "9bdf2599-6e32-47a9-a858-0a33d3f8a27a",
   "metadata": {},
   "outputs": [
    {
     "data": {
      "text/plain": [
       "github        7350\n",
       "techcrunch    6107\n",
       "nytimes       5784\n",
       "Name: source, dtype: int64"
      ]
     },
     "execution_count": 23,
     "metadata": {},
     "output_type": "execute_result"
    }
   ],
   "source": [
    "sources_valid.value_counts()"
   ]
  },
  {
   "cell_type": "code",
   "execution_count": 25,
   "id": "f1db4957-cac8-4725-af3f-79c959b0edc1",
   "metadata": {},
   "outputs": [],
   "source": [
    "X_train, Y_train = create_sequences(titles_train), encode_labels(sources_train)\n",
    "X_valid, Y_valid = create_sequences(titles_valid), encode_labels(sources_valid)"
   ]
  },
  {
   "cell_type": "markdown",
   "id": "f0d07f18-c8f6-4925-8118-10373d492560",
   "metadata": {},
   "source": [
    "### Building DNN model"
   ]
  },
  {
   "cell_type": "code",
   "execution_count": 27,
   "id": "a4618974-b1ca-4799-98fe-cb15846243fa",
   "metadata": {},
   "outputs": [],
   "source": [
    "def build_dnn_model(embed_dim):\n",
    "    model = Sequential(\n",
    "        [\n",
    "            Embedding(\n",
    "                VOCAB_SIZE + 1, embed_dim, input_shape=[MAX_LEN]\n",
    "            ),  # TODO 3\n",
    "            Lambda(lambda x: tf.reduce_mean(x, axis=1)),\n",
    "            Dense(N_CLASSES, activation=\"softmax\"),\n",
    "        ]\n",
    "    )\n",
    "\n",
    "    model.compile(\n",
    "        optimizer=\"adam\", loss=\"categorical_crossentropy\", metrics=[\"accuracy\"]\n",
    "    )\n",
    "    return model"
   ]
  },
  {
   "cell_type": "code",
   "execution_count": 28,
   "id": "bf62af19-bffb-44d0-9211-929af0aa693b",
   "metadata": {},
   "outputs": [
    {
     "name": "stdout",
     "output_type": "stream",
     "text": [
      "Epoch 1/100\n",
      "257/257 [==============================] - 2s 7ms/step - loss: 1.0570 - accuracy: 0.4114 - val_loss: 0.9950 - val_accuracy: 0.5583\n",
      "Epoch 2/100\n",
      "257/257 [==============================] - 2s 6ms/step - loss: 0.9046 - accuracy: 0.6688 - val_loss: 0.8180 - val_accuracy: 0.7190\n",
      "Epoch 3/100\n",
      "257/257 [==============================] - 1s 6ms/step - loss: 0.7407 - accuracy: 0.7739 - val_loss: 0.6850 - val_accuracy: 0.7837\n",
      "Epoch 4/100\n",
      "257/257 [==============================] - 2s 6ms/step - loss: 0.6282 - accuracy: 0.8069 - val_loss: 0.5986 - val_accuracy: 0.8033\n",
      "Epoch 5/100\n",
      "257/257 [==============================] - 1s 6ms/step - loss: 0.5521 - accuracy: 0.8238 - val_loss: 0.5398 - val_accuracy: 0.8156\n",
      "Epoch 6/100\n",
      "257/257 [==============================] - 2s 6ms/step - loss: 0.4976 - accuracy: 0.8360 - val_loss: 0.4980 - val_accuracy: 0.8221\n",
      "Epoch 7/100\n",
      "257/257 [==============================] - 1s 6ms/step - loss: 0.4563 - accuracy: 0.8455 - val_loss: 0.4667 - val_accuracy: 0.8312\n",
      "Epoch 8/100\n",
      "257/257 [==============================] - 2s 6ms/step - loss: 0.4237 - accuracy: 0.8538 - val_loss: 0.4430 - val_accuracy: 0.8378\n",
      "Epoch 9/100\n",
      "257/257 [==============================] - 2s 6ms/step - loss: 0.3973 - accuracy: 0.8610 - val_loss: 0.4239 - val_accuracy: 0.8405\n",
      "Epoch 10/100\n",
      "257/257 [==============================] - 2s 6ms/step - loss: 0.3751 - accuracy: 0.8671 - val_loss: 0.4090 - val_accuracy: 0.8446\n",
      "Epoch 11/100\n",
      "257/257 [==============================] - 2s 6ms/step - loss: 0.3562 - accuracy: 0.8731 - val_loss: 0.3968 - val_accuracy: 0.8468\n",
      "Epoch 12/100\n",
      "257/257 [==============================] - 2s 7ms/step - loss: 0.3395 - accuracy: 0.8775 - val_loss: 0.3872 - val_accuracy: 0.8501\n",
      "Epoch 13/100\n",
      "257/257 [==============================] - 2s 6ms/step - loss: 0.3247 - accuracy: 0.8827 - val_loss: 0.3785 - val_accuracy: 0.8513\n",
      "Epoch 14/100\n",
      "257/257 [==============================] - 1s 6ms/step - loss: 0.3114 - accuracy: 0.8875 - val_loss: 0.3719 - val_accuracy: 0.8525\n",
      "Epoch 15/100\n",
      "257/257 [==============================] - 2s 6ms/step - loss: 0.2992 - accuracy: 0.8918 - val_loss: 0.3662 - val_accuracy: 0.8543\n",
      "Epoch 16/100\n",
      "257/257 [==============================] - 1s 6ms/step - loss: 0.2883 - accuracy: 0.8959 - val_loss: 0.3620 - val_accuracy: 0.8548\n",
      "Epoch 17/100\n",
      "257/257 [==============================] - 1s 6ms/step - loss: 0.2778 - accuracy: 0.8997 - val_loss: 0.3583 - val_accuracy: 0.8567\n",
      "Epoch 18/100\n",
      "257/257 [==============================] - 2s 6ms/step - loss: 0.2682 - accuracy: 0.9034 - val_loss: 0.3553 - val_accuracy: 0.8573\n",
      "Epoch 19/100\n",
      "257/257 [==============================] - 2s 6ms/step - loss: 0.2592 - accuracy: 0.9067 - val_loss: 0.3533 - val_accuracy: 0.8588\n",
      "Epoch 20/100\n",
      "257/257 [==============================] - 2s 6ms/step - loss: 0.2507 - accuracy: 0.9098 - val_loss: 0.3515 - val_accuracy: 0.8593\n",
      "Epoch 21/100\n",
      "257/257 [==============================] - 1s 5ms/step - loss: 0.2428 - accuracy: 0.9129 - val_loss: 0.3509 - val_accuracy: 0.8600\n",
      "Epoch 22/100\n",
      "257/257 [==============================] - 2s 6ms/step - loss: 0.2352 - accuracy: 0.9157 - val_loss: 0.3503 - val_accuracy: 0.8609\n",
      "Epoch 23/100\n",
      "257/257 [==============================] - 1s 6ms/step - loss: 0.2281 - accuracy: 0.9185 - val_loss: 0.3500 - val_accuracy: 0.8608\n",
      "Epoch 24/100\n",
      "257/257 [==============================] - 1s 6ms/step - loss: 0.2213 - accuracy: 0.9208 - val_loss: 0.3506 - val_accuracy: 0.8613\n",
      "Epoch 25/100\n",
      "257/257 [==============================] - 2s 7ms/step - loss: 0.2149 - accuracy: 0.9231 - val_loss: 0.3509 - val_accuracy: 0.8613\n",
      "Epoch 26/100\n",
      "257/257 [==============================] - 2s 7ms/step - loss: 0.2087 - accuracy: 0.9253 - val_loss: 0.3521 - val_accuracy: 0.8608\n",
      "Epoch 27/100\n",
      "257/257 [==============================] - 1s 6ms/step - loss: 0.2029 - accuracy: 0.9274 - val_loss: 0.3535 - val_accuracy: 0.8604\n",
      "Epoch 28/100\n",
      "257/257 [==============================] - 1s 6ms/step - loss: 0.1973 - accuracy: 0.9299 - val_loss: 0.3557 - val_accuracy: 0.8598\n",
      "Model: \"sequential\"\n",
      "_________________________________________________________________\n",
      " Layer (type)                Output Shape              Param #   \n",
      "=================================================================\n",
      " embedding (Embedding)       (None, 26, 10)            472720    \n",
      "                                                                 \n",
      " lambda (Lambda)             (None, 10)                0         \n",
      "                                                                 \n",
      " dense (Dense)               (None, 3)                 33        \n",
      "                                                                 \n",
      "=================================================================\n",
      "Total params: 472,753\n",
      "Trainable params: 472,753\n",
      "Non-trainable params: 0\n",
      "_________________________________________________________________\n",
      "CPU times: user 1min 9s, sys: 29.5 s, total: 1min 38s\n",
      "Wall time: 44 s\n"
     ]
    },
    {
     "data": {
      "image/png": "[encoded data removed]",
      "text/plain": [
       "<Figure size 640x480 with 1 Axes>"
      ]
     },
     "metadata": {},
     "output_type": "display_data"
    },
    {
     "data": {
      "image/png": "[encoded data removed]",
      "text/plain": [
       "<Figure size 640x480 with 1 Axes>"
      ]
     },
     "metadata": {},
     "output_type": "display_data"
    }
   ],
   "source": [
    "%%time\n",
    "\n",
    "tf.random.set_seed(33)\n",
    "\n",
    "MODEL_DIR = os.path.join(LOGDIR, \"dnn\")\n",
    "shutil.rmtree(MODEL_DIR, ignore_errors=True)\n",
    "\n",
    "BATCH_SIZE = 300\n",
    "EPOCHS = 100\n",
    "EMBED_DIM = 10\n",
    "PATIENCE = 5\n",
    "\n",
    "dnn_model = build_dnn_model(embed_dim=EMBED_DIM)\n",
    "\n",
    "dnn_history = dnn_model.fit(\n",
    "    X_train,\n",
    "    Y_train,\n",
    "    epochs=EPOCHS,\n",
    "    batch_size=BATCH_SIZE,\n",
    "    validation_data=(X_valid, Y_valid),\n",
    "    callbacks=[EarlyStopping(patience=PATIENCE), TensorBoard(MODEL_DIR)],\n",
    ")\n",
    "\n",
    "pd.DataFrame(dnn_history.history)[[\"loss\", \"val_loss\"]].plot()\n",
    "pd.DataFrame(dnn_history.history)[[\"accuracy\", \"val_accuracy\"]].plot()\n",
    "\n",
    "dnn_model.summary()"
   ]
  },
  {
   "cell_type": "markdown",
   "id": "f80302f4-e5af-44df-bf75-4868429ba229",
   "metadata": {},
   "source": [
    "### Building RNN model"
   ]
  },
  {
   "cell_type": "code",
   "execution_count": 30,
   "id": "5cb91a2d-05ff-47d6-9f67-05feda921414",
   "metadata": {},
   "outputs": [],
   "source": [
    "def build_rnn_model(embed_dim, units):\n",
    "    model = Sequential(\n",
    "        [\n",
    "            Embedding(\n",
    "                VOCAB_SIZE + 1, embed_dim, input_shape=[MAX_LEN], mask_zero=True\n",
    "            ),  # TODO 3\n",
    "            GRU(units),  # TODO 5\n",
    "            Dense(N_CLASSES, activation=\"softmax\"),\n",
    "        ]\n",
    "    )\n",
    "\n",
    "    model.compile(\n",
    "        optimizer=tf.keras.optimizers.Adam(learning_rate=0.0001),\n",
    "        loss=\"categorical_crossentropy\",\n",
    "        metrics=[\"accuracy\"],\n",
    "    )\n",
    "    return model"
   ]
  },
  {
   "cell_type": "code",
   "execution_count": 31,
   "id": "abda6bc5-bfff-477e-8962-17ef5d377ccd",
   "metadata": {},
   "outputs": [
    {
     "name": "stdout",
     "output_type": "stream",
     "text": [
      "Epoch 1/100\n",
      "257/257 [==============================] - 10s 29ms/step - loss: 1.0919 - accuracy: 0.3741 - val_loss: 1.0818 - val_accuracy: 0.3820\n",
      "Epoch 2/100\n",
      "257/257 [==============================] - 6s 23ms/step - loss: 1.0472 - accuracy: 0.4425 - val_loss: 0.9766 - val_accuracy: 0.5627\n",
      "Epoch 3/100\n",
      "257/257 [==============================] - 6s 23ms/step - loss: 0.8093 - accuracy: 0.6108 - val_loss: 0.7001 - val_accuracy: 0.6107\n",
      "Epoch 4/100\n",
      "257/257 [==============================] - 6s 23ms/step - loss: 0.6474 - accuracy: 0.6492 - val_loss: 0.6341 - val_accuracy: 0.6501\n",
      "Epoch 5/100\n",
      "257/257 [==============================] - 6s 21ms/step - loss: 0.5960 - accuracy: 0.6618 - val_loss: 0.6028 - val_accuracy: 0.6709\n",
      "Epoch 6/100\n",
      "257/257 [==============================] - 6s 23ms/step - loss: 0.5647 - accuracy: 0.7065 - val_loss: 0.5824 - val_accuracy: 0.7169\n",
      "Epoch 7/100\n",
      "257/257 [==============================] - 6s 22ms/step - loss: 0.5404 - accuracy: 0.7381 - val_loss: 0.5654 - val_accuracy: 0.7356\n",
      "Epoch 8/100\n",
      "257/257 [==============================] - 6s 22ms/step - loss: 0.5186 - accuracy: 0.7560 - val_loss: 0.5504 - val_accuracy: 0.7447\n",
      "Epoch 9/100\n",
      "257/257 [==============================] - 6s 22ms/step - loss: 0.4974 - accuracy: 0.7732 - val_loss: 0.5358 - val_accuracy: 0.7557\n",
      "Epoch 10/100\n",
      "257/257 [==============================] - 5s 20ms/step - loss: 0.4755 - accuracy: 0.7896 - val_loss: 0.5226 - val_accuracy: 0.7651\n",
      "Epoch 11/100\n",
      "257/257 [==============================] - 5s 21ms/step - loss: 0.4526 - accuracy: 0.8042 - val_loss: 0.5070 - val_accuracy: 0.7758\n",
      "Epoch 12/100\n",
      "257/257 [==============================] - 6s 24ms/step - loss: 0.4287 - accuracy: 0.8175 - val_loss: 0.4946 - val_accuracy: 0.7834\n",
      "Epoch 13/100\n",
      "257/257 [==============================] - 5s 21ms/step - loss: 0.4054 - accuracy: 0.8294 - val_loss: 0.4828 - val_accuracy: 0.7902\n",
      "Epoch 14/100\n",
      "257/257 [==============================] - 6s 22ms/step - loss: 0.3839 - accuracy: 0.8407 - val_loss: 0.4740 - val_accuracy: 0.7962\n",
      "Epoch 15/100\n",
      "257/257 [==============================] - 5s 20ms/step - loss: 0.3646 - accuracy: 0.8505 - val_loss: 0.4703 - val_accuracy: 0.8002\n",
      "Epoch 16/100\n",
      "257/257 [==============================] - 6s 22ms/step - loss: 0.3476 - accuracy: 0.8587 - val_loss: 0.4666 - val_accuracy: 0.8041\n",
      "Epoch 17/100\n",
      "257/257 [==============================] - 5s 21ms/step - loss: 0.3317 - accuracy: 0.8675 - val_loss: 0.4650 - val_accuracy: 0.8063\n",
      "Epoch 18/100\n",
      "257/257 [==============================] - 6s 23ms/step - loss: 0.3170 - accuracy: 0.8748 - val_loss: 0.4624 - val_accuracy: 0.8099\n",
      "Epoch 19/100\n",
      "257/257 [==============================] - 5s 20ms/step - loss: 0.3031 - accuracy: 0.8817 - val_loss: 0.4591 - val_accuracy: 0.8132\n",
      "Epoch 20/100\n",
      "257/257 [==============================] - 6s 25ms/step - loss: 0.2899 - accuracy: 0.8887 - val_loss: 0.4596 - val_accuracy: 0.8154\n",
      "Epoch 21/100\n",
      "257/257 [==============================] - 7s 26ms/step - loss: 0.2774 - accuracy: 0.8945 - val_loss: 0.4562 - val_accuracy: 0.8191\n",
      "Epoch 22/100\n",
      "257/257 [==============================] - 7s 27ms/step - loss: 0.2652 - accuracy: 0.9008 - val_loss: 0.4538 - val_accuracy: 0.8224\n",
      "Epoch 23/100\n",
      "257/257 [==============================] - 6s 25ms/step - loss: 0.2538 - accuracy: 0.9058 - val_loss: 0.4551 - val_accuracy: 0.8241\n",
      "Epoch 24/100\n",
      "257/257 [==============================] - 5s 20ms/step - loss: 0.2428 - accuracy: 0.9111 - val_loss: 0.4525 - val_accuracy: 0.8267\n",
      "Epoch 25/100\n",
      "257/257 [==============================] - 5s 20ms/step - loss: 0.2325 - accuracy: 0.9158 - val_loss: 0.4533 - val_accuracy: 0.8291\n",
      "Epoch 26/100\n",
      "257/257 [==============================] - 5s 20ms/step - loss: 0.2229 - accuracy: 0.9201 - val_loss: 0.4549 - val_accuracy: 0.8295\n",
      "Model: \"sequential_1\"\n",
      "_________________________________________________________________\n",
      " Layer (type)                Output Shape              Param #   \n",
      "=================================================================\n",
      " embedding_1 (Embedding)     (None, 26, 10)            472720    \n",
      "                                                                 \n",
      " gru (GRU)                   (None, 16)                1344      \n",
      "                                                                 \n",
      " dense_1 (Dense)             (None, 3)                 51        \n",
      "                                                                 \n",
      "=================================================================\n",
      "Total params: 474,115\n",
      "Trainable params: 474,115\n",
      "Non-trainable params: 0\n",
      "_________________________________________________________________\n",
      "CPU times: user 5min 25s, sys: 1min 42s, total: 7min 8s\n",
      "Wall time: 2min 34s\n"
     ]
    },
    {
     "data": {
      "image/png": "[encoded data removed]",
      "text/plain": [
       "<Figure size 640x480 with 1 Axes>"
      ]
     },
     "metadata": {},
     "output_type": "display_data"
    },
    {
     "data": {
      "image/png": "[encoded data removed]",
      "text/plain": [
       "<Figure size 640x480 with 1 Axes>"
      ]
     },
     "metadata": {},
     "output_type": "display_data"
    }
   ],
   "source": [
    "%%time\n",
    "\n",
    "tf.random.set_seed(33)\n",
    "\n",
    "MODEL_DIR = os.path.join(LOGDIR, \"rnn\")\n",
    "shutil.rmtree(MODEL_DIR, ignore_errors=True)\n",
    "\n",
    "EPOCHS = 100\n",
    "BATCH_SIZE = 300\n",
    "EMBED_DIM = 10\n",
    "UNITS = 16\n",
    "PATIENCE = 2\n",
    "\n",
    "rnn_model = build_rnn_model(embed_dim=EMBED_DIM, units=UNITS)\n",
    "\n",
    "history = rnn_model.fit(\n",
    "    X_train,\n",
    "    Y_train,\n",
    "    epochs=EPOCHS,\n",
    "    batch_size=BATCH_SIZE,\n",
    "    validation_data=(X_valid, Y_valid),\n",
    "    callbacks=[EarlyStopping(patience=PATIENCE), TensorBoard(MODEL_DIR)],\n",
    ")\n",
    "\n",
    "pd.DataFrame(history.history)[[\"loss\", \"val_loss\"]].plot()\n",
    "pd.DataFrame(history.history)[[\"accuracy\", \"val_accuracy\"]].plot()\n",
    "\n",
    "rnn_model.summary()"
   ]
  },
  {
   "cell_type": "markdown",
   "id": "c1940224-dd5a-42ee-8be4-b022630e3179",
   "metadata": {},
   "source": [
    "### Building CNN model"
   ]
  },
  {
   "cell_type": "code",
   "execution_count": 33,
   "id": "6bad896a-2bfd-48e6-b25a-6f679fdb745f",
   "metadata": {},
   "outputs": [],
   "source": [
    "def build_cnn_model(embed_dim, filters, ksize, strides):\n",
    "    model = Sequential(\n",
    "        [\n",
    "            Embedding(\n",
    "                VOCAB_SIZE + 1, embed_dim, input_shape=[MAX_LEN], mask_zero=True\n",
    "            ), \n",
    "            Conv1D( \n",
    "                filters=filters,\n",
    "                kernel_size=ksize,\n",
    "                strides=strides,\n",
    "                activation=\"relu\",\n",
    "            ),\n",
    "            Flatten(), \n",
    "            Dense(N_CLASSES, activation=\"softmax\"),\n",
    "        ]\n",
    "    )\n",
    "\n",
    "    model.compile(\n",
    "        optimizer=tf.keras.optimizers.Adam(learning_rate=0.0001),\n",
    "        loss=\"categorical_crossentropy\",\n",
    "        metrics=[\"accuracy\"],\n",
    "    )\n",
    "    return model"
   ]
  },
  {
   "cell_type": "code",
   "execution_count": 34,
   "id": "4a933cc0-2cf2-496c-8f7f-37336dc8972a",
   "metadata": {},
   "outputs": [
    {
     "name": "stdout",
     "output_type": "stream",
     "text": [
      "Epoch 1/100\n",
      "257/257 [==============================] - 3s 8ms/step - loss: 1.0810 - accuracy: 0.4032 - val_loss: 1.0348 - val_accuracy: 0.5183\n",
      "Epoch 2/100\n",
      "257/257 [==============================] - 2s 7ms/step - loss: 0.8929 - accuracy: 0.5989 - val_loss: 0.7521 - val_accuracy: 0.6482\n",
      "Epoch 3/100\n",
      "257/257 [==============================] - 2s 7ms/step - loss: 0.6695 - accuracy: 0.6843 - val_loss: 0.6270 - val_accuracy: 0.6961\n",
      "Epoch 4/100\n",
      "257/257 [==============================] - 2s 7ms/step - loss: 0.5834 - accuracy: 0.7202 - val_loss: 0.5779 - val_accuracy: 0.7238\n",
      "Epoch 5/100\n",
      "257/257 [==============================] - 2s 7ms/step - loss: 0.5373 - accuracy: 0.7517 - val_loss: 0.5459 - val_accuracy: 0.7485\n",
      "Epoch 6/100\n",
      "257/257 [==============================] - 2s 8ms/step - loss: 0.5023 - accuracy: 0.7749 - val_loss: 0.5229 - val_accuracy: 0.7605\n",
      "Epoch 7/100\n",
      "257/257 [==============================] - 2s 7ms/step - loss: 0.4731 - accuracy: 0.7925 - val_loss: 0.5052 - val_accuracy: 0.7737\n",
      "Epoch 8/100\n",
      "257/257 [==============================] - 2s 7ms/step - loss: 0.4485 - accuracy: 0.8070 - val_loss: 0.4927 - val_accuracy: 0.7825\n",
      "Epoch 9/100\n",
      "257/257 [==============================] - 2s 7ms/step - loss: 0.4276 - accuracy: 0.8202 - val_loss: 0.4827 - val_accuracy: 0.7916\n",
      "Epoch 10/100\n",
      "257/257 [==============================] - 2s 7ms/step - loss: 0.4088 - accuracy: 0.8312 - val_loss: 0.4748 - val_accuracy: 0.7979\n",
      "Epoch 11/100\n",
      "257/257 [==============================] - 2s 7ms/step - loss: 0.3912 - accuracy: 0.8402 - val_loss: 0.4675 - val_accuracy: 0.8013\n",
      "Epoch 12/100\n",
      "257/257 [==============================] - 2s 7ms/step - loss: 0.3738 - accuracy: 0.8499 - val_loss: 0.4598 - val_accuracy: 0.8081\n",
      "Epoch 13/100\n",
      "257/257 [==============================] - 2s 8ms/step - loss: 0.3562 - accuracy: 0.8592 - val_loss: 0.4514 - val_accuracy: 0.8136\n",
      "Epoch 14/100\n",
      "257/257 [==============================] - 2s 8ms/step - loss: 0.3383 - accuracy: 0.8668 - val_loss: 0.4428 - val_accuracy: 0.8189\n",
      "Epoch 15/100\n",
      "257/257 [==============================] - 2s 8ms/step - loss: 0.3204 - accuracy: 0.8756 - val_loss: 0.4350 - val_accuracy: 0.8220\n",
      "Epoch 16/100\n",
      "257/257 [==============================] - 2s 8ms/step - loss: 0.3034 - accuracy: 0.8834 - val_loss: 0.4279 - val_accuracy: 0.8275\n",
      "Epoch 17/100\n",
      "257/257 [==============================] - 2s 8ms/step - loss: 0.2872 - accuracy: 0.8908 - val_loss: 0.4222 - val_accuracy: 0.8320\n",
      "Epoch 18/100\n",
      "257/257 [==============================] - 2s 8ms/step - loss: 0.2721 - accuracy: 0.8970 - val_loss: 0.4177 - val_accuracy: 0.8356\n",
      "Epoch 19/100\n",
      "257/257 [==============================] - 2s 7ms/step - loss: 0.2583 - accuracy: 0.9031 - val_loss: 0.4147 - val_accuracy: 0.8382\n",
      "Epoch 20/100\n",
      "257/257 [==============================] - 2s 7ms/step - loss: 0.2452 - accuracy: 0.9082 - val_loss: 0.4131 - val_accuracy: 0.8404\n",
      "Epoch 21/100\n",
      "257/257 [==============================] - 2s 8ms/step - loss: 0.2334 - accuracy: 0.9134 - val_loss: 0.4122 - val_accuracy: 0.8420\n",
      "Epoch 22/100\n",
      "257/257 [==============================] - 2s 7ms/step - loss: 0.2224 - accuracy: 0.9179 - val_loss: 0.4131 - val_accuracy: 0.8412\n",
      "Epoch 23/100\n",
      "257/257 [==============================] - 2s 7ms/step - loss: 0.2122 - accuracy: 0.9222 - val_loss: 0.4131 - val_accuracy: 0.8431\n",
      "Model: \"sequential_2\"\n",
      "_________________________________________________________________\n",
      " Layer (type)                Output Shape              Param #   \n",
      "=================================================================\n",
      " embedding_2 (Embedding)     (None, 26, 5)             236360    \n",
      "                                                                 \n",
      " conv1d (Conv1D)             (None, 12, 200)           3200      \n",
      "                                                                 \n",
      " flatten (Flatten)           (None, 2400)              0         \n",
      "                                                                 \n",
      " dense_2 (Dense)             (None, 3)                 7203      \n",
      "                                                                 \n",
      "=================================================================\n",
      "Total params: 246,763\n",
      "Trainable params: 246,763\n",
      "Non-trainable params: 0\n",
      "_________________________________________________________________\n",
      "CPU times: user 1min 35s, sys: 18.1 s, total: 1min 53s\n",
      "Wall time: 45 s\n"
     ]
    },
    {
     "data": {
      "image/png": "[encoded data removed]",
      "text/plain": [
       "<Figure size 640x480 with 1 Axes>"
      ]
     },
     "metadata": {},
     "output_type": "display_data"
    },
    {
     "data": {
      "image/png": "[encoded data removed]",
      "text/plain": [
       "<Figure size 640x480 with 1 Axes>"
      ]
     },
     "metadata": {},
     "output_type": "display_data"
    }
   ],
   "source": [
    "%%time\n",
    "\n",
    "tf.random.set_seed(33)\n",
    "\n",
    "MODEL_DIR = os.path.join(LOGDIR, \"cnn\")\n",
    "shutil.rmtree(MODEL_DIR, ignore_errors=True)\n",
    "\n",
    "EPOCHS = 100\n",
    "BATCH_SIZE = 300\n",
    "EMBED_DIM = 5\n",
    "FILTERS = 200\n",
    "STRIDES = 2\n",
    "KSIZE = 3\n",
    "PATIENCE = 2\n",
    "\n",
    "\n",
    "cnn_model = build_cnn_model(\n",
    "    embed_dim=EMBED_DIM,\n",
    "    filters=FILTERS,\n",
    "    strides=STRIDES,\n",
    "    ksize=KSIZE,\n",
    ")\n",
    "\n",
    "cnn_history = cnn_model.fit(\n",
    "    X_train,\n",
    "    Y_train,\n",
    "    epochs=EPOCHS,\n",
    "    batch_size=BATCH_SIZE,\n",
    "    validation_data=(X_valid, Y_valid),\n",
    "    callbacks=[EarlyStopping(patience=PATIENCE), TensorBoard(MODEL_DIR)],\n",
    ")\n",
    "\n",
    "pd.DataFrame(cnn_history.history)[[\"loss\", \"val_loss\"]].plot()\n",
    "pd.DataFrame(cnn_history.history)[[\"accuracy\", \"val_accuracy\"]].plot()\n",
    "\n",
    "cnn_model.summary()"
   ]
  },
  {
   "cell_type": "markdown",
   "id": "b7ae7a63-5456-4341-a95a-acac4f196668",
   "metadata": {},
   "source": [
    "### Keras Preprocessing Layer"
   ]
  },
  {
   "cell_type": "code",
   "execution_count": 36,
   "id": "29f7bc9e-4dfb-4280-aa7c-4418a60dc7cc",
   "metadata": {
    "tags": []
   },
   "outputs": [],
   "source": [
    "from keras.layers import TextVectorization"
   ]
  },
  {
   "cell_type": "code",
   "execution_count": 37,
   "id": "39613415-816a-4aff-ab13-06f5988f5fac",
   "metadata": {},
   "outputs": [],
   "source": [
    "MAX_LEN = 26\n",
    "MAX_TOKENS = 20000\n",
    "preprocessing_layer = TextVectorization(\n",
    "    output_sequence_length=MAX_LEN, max_tokens=MAX_TOKENS\n",
    ")"
   ]
  },
  {
   "cell_type": "code",
   "execution_count": 38,
   "id": "dcf63597-868f-47b9-a51f-920c8cc85bf5",
   "metadata": {},
   "outputs": [
    {
     "data": {
      "text/html": [
       "<div>\n",
       "<style scoped>\n",
       "    .dataframe tbody tr th:only-of-type {\n",
       "        vertical-align: middle;\n",
       "    }\n",
       "\n",
       "    .dataframe tbody tr th {\n",
       "        vertical-align: top;\n",
       "    }\n",
       "\n",
       "    .dataframe thead th {\n",
       "        text-align: right;\n",
       "    }\n",
       "</style>\n",
       "<table border=\"1\" class=\"dataframe\">\n",
       "  <thead>\n",
       "    <tr style=\"text-align: right;\">\n",
       "      <th></th>\n",
       "      <th>title</th>\n",
       "      <th>source</th>\n",
       "    </tr>\n",
       "  </thead>\n",
       "  <tbody>\n",
       "    <tr>\n",
       "      <th>0</th>\n",
       "      <td>holy cash cow  batman - content is back</td>\n",
       "      <td>nytimes</td>\n",
       "    </tr>\n",
       "    <tr>\n",
       "      <th>1</th>\n",
       "      <td>show hn  a simple and configurable deployment ...</td>\n",
       "      <td>github</td>\n",
       "    </tr>\n",
       "    <tr>\n",
       "      <th>2</th>\n",
       "      <td>show hn  neural turing machine in pure numpy. ...</td>\n",
       "      <td>github</td>\n",
       "    </tr>\n",
       "    <tr>\n",
       "      <th>3</th>\n",
       "      <td>close look at a flu outbreak upends some commo...</td>\n",
       "      <td>nytimes</td>\n",
       "    </tr>\n",
       "    <tr>\n",
       "      <th>4</th>\n",
       "      <td>lambdalite  a functional  relational lisp data...</td>\n",
       "      <td>github</td>\n",
       "    </tr>\n",
       "  </tbody>\n",
       "</table>\n",
       "</div>"
      ],
      "text/plain": [
       "                                               title   source\n",
       "0            holy cash cow  batman - content is back  nytimes\n",
       "1  show hn  a simple and configurable deployment ...   github\n",
       "2  show hn  neural turing machine in pure numpy. ...   github\n",
       "3  close look at a flu outbreak upends some commo...  nytimes\n",
       "4  lambdalite  a functional  relational lisp data...   github"
      ]
     },
     "execution_count": 38,
     "metadata": {},
     "output_type": "execute_result"
    }
   ],
   "source": [
    "titles_df.head()"
   ]
  },
  {
   "cell_type": "code",
   "execution_count": 39,
   "id": "f9627e16-21a4-4689-a6e3-55e9f65e0c1b",
   "metadata": {},
   "outputs": [],
   "source": [
    "preprocessing_layer.adapt(titles_df.title)"
   ]
  },
  {
   "cell_type": "code",
   "execution_count": 40,
   "id": "6684bc73-3f02-412a-9113-81305041ab2c",
   "metadata": {},
   "outputs": [
    {
     "data": {
      "text/plain": [
       "0              holy cash cow  batman - content is back\n",
       "1    show hn  a simple and configurable deployment ...\n",
       "2    show hn  neural turing machine in pure numpy. ...\n",
       "3    close look at a flu outbreak upends some commo...\n",
       "4    lambdalite  a functional  relational lisp data...\n",
       "Name: title, dtype: object"
      ]
     },
     "execution_count": 40,
     "metadata": {},
     "output_type": "execute_result"
    }
   ],
   "source": [
    "X_train, X_valid = titles_train, titles_valid\n",
    "X_train[:5]"
   ]
  },
  {
   "cell_type": "code",
   "execution_count": 41,
   "id": "9fcad329-b8e1-4c7e-ab4a-68dffa695a63",
   "metadata": {},
   "outputs": [
    {
     "data": {
      "text/plain": [
       "<tf.Tensor: shape=(5, 26), dtype=int64, numpy=\n",
       "array([[ 6236,   538,  9221,     1,   295,    14,   162,     0,     0,\n",
       "            0,     0,     0,     0,     0,     0,     0,     0,     0,\n",
       "            0,     0,     0,     0,     0,     0,     0,     0],\n",
       "       [   12,    13,     4,    47,     8,  3862,  1252,    79,     5,\n",
       "           30,   454,     0,     0,     0,     0,     0,     0,     0,\n",
       "            0,     0,     0,     0,     0,     0,     0,     0],\n",
       "       [   12,    13,  1484,  2853,   315,     6,   584,  8144,  5553,\n",
       "           75,   242,  1942,    18,  1169,     0,     0,     0,     0,\n",
       "            0,     0,     0,     0,     0,     0,     0,     0],\n",
       "       [ 1034,   304,    23,     4,  3713,  7509, 14383,   199,   678,\n",
       "         4512,     0,     0,     0,     0,     0,     0,     0,     0,\n",
       "            0,     0,     0,     0,     0,     0,     0,     0],\n",
       "       [    1,     4,   604,  4221,   553,   280,     6,  2052,   491,\n",
       "            7,   678,   553,     0,     0,     0,     0,     0,     0,\n",
       "            0,     0,     0,     0,     0,     0,     0,     0]])>"
      ]
     },
     "execution_count": 41,
     "metadata": {},
     "output_type": "execute_result"
    }
   ],
   "source": [
    "integers = preprocessing_layer(X_train[:5])\n",
    "integers"
   ]
  },
  {
   "cell_type": "code",
   "execution_count": 42,
   "id": "6a6f620a-b965-4b2d-b560-aee70921ba39",
   "metadata": {},
   "outputs": [],
   "source": [
    "def build_model_with_text_preprocessing(embed_dim, units):\n",
    "    model = Sequential(\n",
    "        [\n",
    "            Input(shape=(1,), dtype=tf.string),\n",
    "            preprocessing_layer,\n",
    "            Embedding(\n",
    "                VOCAB_SIZE + 1, embed_dim, input_shape=[MAX_LEN], mask_zero=True\n",
    "            ),\n",
    "            GRU(units),\n",
    "            Dense(N_CLASSES, activation=\"softmax\"),\n",
    "        ]\n",
    "    )\n",
    "\n",
    "    model.compile(\n",
    "        optimizer=tf.keras.optimizers.Adam(learning_rate=0.0001),\n",
    "        loss=\"categorical_crossentropy\",\n",
    "        metrics=[\"accuracy\"],\n",
    "    )\n",
    "    return model"
   ]
  },
  {
   "cell_type": "code",
   "execution_count": 44,
   "id": "0de81c9b-566c-4db0-98d0-1346f319780f",
   "metadata": {},
   "outputs": [
    {
     "name": "stdout",
     "output_type": "stream",
     "text": [
      "1/1 [==============================] - 1s 943ms/step\n"
     ]
    },
    {
     "data": {
      "text/plain": [
       "array([[0.3349434 , 0.32776856, 0.33728802],\n",
       "       [0.3350134 , 0.33664978, 0.32833686],\n",
       "       [0.3308791 , 0.33618605, 0.3329348 ],\n",
       "       [0.32957253, 0.33755642, 0.33287108],\n",
       "       [0.33607662, 0.33173886, 0.33218452]], dtype=float32)"
      ]
     },
     "execution_count": 44,
     "metadata": {},
     "output_type": "execute_result"
    }
   ],
   "source": [
    "model = build_model_with_text_preprocessing(embed_dim=EMBED_DIM, units=UNITS)\n",
    "model.predict(X_train[:5])"
   ]
  },
  {
   "cell_type": "code",
   "execution_count": 45,
   "id": "f5c55741-157b-439b-a05d-2b4a9f688bd7",
   "metadata": {},
   "outputs": [
    {
     "name": "stdout",
     "output_type": "stream",
     "text": [
      "Epoch 1/100\n",
      "257/257 [==============================] - 10s 24ms/step - loss: 1.0907 - accuracy: 0.3794 - val_loss: 1.0790 - val_accuracy: 0.3842\n",
      "Epoch 2/100\n",
      "257/257 [==============================] - 5s 19ms/step - loss: 1.0347 - accuracy: 0.4658 - val_loss: 0.9417 - val_accuracy: 0.5616\n",
      "Epoch 3/100\n",
      "257/257 [==============================] - 5s 19ms/step - loss: 0.7896 - accuracy: 0.6159 - val_loss: 0.7014 - val_accuracy: 0.6371\n",
      "Epoch 4/100\n",
      "257/257 [==============================] - 5s 18ms/step - loss: 0.6560 - accuracy: 0.6486 - val_loss: 0.6403 - val_accuracy: 0.6493\n",
      "Epoch 5/100\n",
      "257/257 [==============================] - 5s 18ms/step - loss: 0.6080 - accuracy: 0.6606 - val_loss: 0.6091 - val_accuracy: 0.6721\n",
      "Epoch 6/100\n",
      "257/257 [==============================] - 5s 18ms/step - loss: 0.5780 - accuracy: 0.6964 - val_loss: 0.5875 - val_accuracy: 0.7081\n",
      "Epoch 7/100\n",
      "257/257 [==============================] - 5s 18ms/step - loss: 0.5546 - accuracy: 0.7247 - val_loss: 0.5700 - val_accuracy: 0.7328\n",
      "Epoch 8/100\n",
      "257/257 [==============================] - 5s 18ms/step - loss: 0.5340 - accuracy: 0.7457 - val_loss: 0.5545 - val_accuracy: 0.7447\n",
      "Epoch 9/100\n",
      "257/257 [==============================] - 5s 18ms/step - loss: 0.5144 - accuracy: 0.7634 - val_loss: 0.5396 - val_accuracy: 0.7557\n",
      "Epoch 10/100\n",
      "257/257 [==============================] - 5s 19ms/step - loss: 0.4950 - accuracy: 0.7777 - val_loss: 0.5267 - val_accuracy: 0.7657\n",
      "Epoch 11/100\n",
      "257/257 [==============================] - 5s 18ms/step - loss: 0.4761 - accuracy: 0.7902 - val_loss: 0.5136 - val_accuracy: 0.7754\n",
      "Epoch 12/100\n",
      "257/257 [==============================] - 5s 18ms/step - loss: 0.4581 - accuracy: 0.7988 - val_loss: 0.5041 - val_accuracy: 0.7776\n",
      "Epoch 13/100\n",
      "257/257 [==============================] - 5s 18ms/step - loss: 0.4419 - accuracy: 0.8059 - val_loss: 0.4966 - val_accuracy: 0.7827\n",
      "Epoch 14/100\n",
      "257/257 [==============================] - 5s 19ms/step - loss: 0.4274 - accuracy: 0.8138 - val_loss: 0.4910 - val_accuracy: 0.7868\n",
      "Epoch 15/100\n",
      "257/257 [==============================] - 5s 18ms/step - loss: 0.4142 - accuracy: 0.8219 - val_loss: 0.4875 - val_accuracy: 0.7931\n",
      "Epoch 16/100\n",
      "257/257 [==============================] - 5s 18ms/step - loss: 0.4022 - accuracy: 0.8315 - val_loss: 0.4838 - val_accuracy: 0.7955\n",
      "Epoch 17/100\n",
      "257/257 [==============================] - 5s 20ms/step - loss: 0.3905 - accuracy: 0.8385 - val_loss: 0.4816 - val_accuracy: 0.7988\n",
      "Epoch 18/100\n",
      "257/257 [==============================] - 5s 18ms/step - loss: 0.3792 - accuracy: 0.8443 - val_loss: 0.4794 - val_accuracy: 0.8008\n",
      "Epoch 19/100\n",
      "257/257 [==============================] - 5s 18ms/step - loss: 0.3679 - accuracy: 0.8504 - val_loss: 0.4750 - val_accuracy: 0.8036\n",
      "Epoch 20/100\n",
      "257/257 [==============================] - 5s 19ms/step - loss: 0.3563 - accuracy: 0.8566 - val_loss: 0.4713 - val_accuracy: 0.8074\n",
      "Epoch 21/100\n",
      "257/257 [==============================] - 5s 18ms/step - loss: 0.3447 - accuracy: 0.8628 - val_loss: 0.4673 - val_accuracy: 0.8117\n",
      "Epoch 22/100\n",
      "257/257 [==============================] - 5s 18ms/step - loss: 0.3329 - accuracy: 0.8696 - val_loss: 0.4615 - val_accuracy: 0.8145\n",
      "Epoch 23/100\n",
      "257/257 [==============================] - 5s 18ms/step - loss: 0.3212 - accuracy: 0.8766 - val_loss: 0.4585 - val_accuracy: 0.8189\n",
      "Epoch 24/100\n",
      "257/257 [==============================] - 4s 17ms/step - loss: 0.3098 - accuracy: 0.8829 - val_loss: 0.4528 - val_accuracy: 0.8234\n",
      "Epoch 25/100\n",
      "257/257 [==============================] - 4s 17ms/step - loss: 0.2989 - accuracy: 0.8883 - val_loss: 0.4494 - val_accuracy: 0.8262\n",
      "Epoch 26/100\n",
      "257/257 [==============================] - 5s 19ms/step - loss: 0.2888 - accuracy: 0.8928 - val_loss: 0.4452 - val_accuracy: 0.8291\n",
      "Epoch 27/100\n",
      "257/257 [==============================] - 5s 18ms/step - loss: 0.2791 - accuracy: 0.8971 - val_loss: 0.4426 - val_accuracy: 0.8307\n",
      "Epoch 28/100\n",
      "257/257 [==============================] - 5s 18ms/step - loss: 0.2701 - accuracy: 0.9019 - val_loss: 0.4396 - val_accuracy: 0.8323\n",
      "Epoch 29/100\n",
      "257/257 [==============================] - 5s 18ms/step - loss: 0.2618 - accuracy: 0.9050 - val_loss: 0.4389 - val_accuracy: 0.8342\n",
      "Epoch 30/100\n",
      "257/257 [==============================] - 5s 18ms/step - loss: 0.2541 - accuracy: 0.9083 - val_loss: 0.4392 - val_accuracy: 0.8350\n",
      "Epoch 31/100\n",
      "257/257 [==============================] - 5s 18ms/step - loss: 0.2471 - accuracy: 0.9117 - val_loss: 0.4387 - val_accuracy: 0.8348\n",
      "Epoch 32/100\n",
      "257/257 [==============================] - 5s 18ms/step - loss: 0.2405 - accuracy: 0.9142 - val_loss: 0.4408 - val_accuracy: 0.8359\n",
      "Epoch 33/100\n",
      "257/257 [==============================] - 5s 18ms/step - loss: 0.2343 - accuracy: 0.9169 - val_loss: 0.4403 - val_accuracy: 0.8377\n",
      "Model: \"sequential_4\"\n",
      "_________________________________________________________________\n",
      " Layer (type)                Output Shape              Param #   \n",
      "=================================================================\n",
      " text_vectorization (TextVec  (None, 26)               0         \n",
      " torization)                                                     \n",
      "                                                                 \n",
      " embedding_4 (Embedding)     (None, 26, 10)            472720    \n",
      "                                                                 \n",
      " gru_2 (GRU)                 (None, 16)                1344      \n",
      "                                                                 \n",
      " dense_4 (Dense)             (None, 3)                 51        \n",
      "                                                                 \n",
      "=================================================================\n",
      "Total params: 474,115\n",
      "Trainable params: 474,115\n",
      "Non-trainable params: 0\n",
      "_________________________________________________________________\n",
      "CPU times: user 5min 57s, sys: 1min 30s, total: 7min 28s\n",
      "Wall time: 2min 39s\n"
     ]
    },
    {
     "data": {
      "image/png": "[encoded data removed]",
      "text/plain": [
       "<Figure size 640x480 with 1 Axes>"
      ]
     },
     "metadata": {},
     "output_type": "display_data"
    },
    {
     "data": {
      "image/png": "[encoded data removed]",
      "text/plain": [
       "<Figure size 640x480 with 1 Axes>"
      ]
     },
     "metadata": {},
     "output_type": "display_data"
    }
   ],
   "source": [
    "%%time\n",
    "\n",
    "tf.random.set_seed(33)\n",
    "\n",
    "MODEL_DIR = os.path.join(LOGDIR, \"rnn\")\n",
    "shutil.rmtree(MODEL_DIR, ignore_errors=True)\n",
    "\n",
    "EPOCHS = 100\n",
    "BATCH_SIZE = 300\n",
    "EMBED_DIM = 10\n",
    "UNITS = 16\n",
    "PATIENCE = 2\n",
    "\n",
    "model = build_model_with_text_preprocessing(embed_dim=EMBED_DIM, units=UNITS)\n",
    "\n",
    "history = model.fit(\n",
    "    X_train,\n",
    "    Y_train,\n",
    "    epochs=EPOCHS,\n",
    "    batch_size=BATCH_SIZE,\n",
    "    validation_data=(X_valid, Y_valid),\n",
    "    callbacks=[EarlyStopping(patience=PATIENCE), TensorBoard(MODEL_DIR)],\n",
    ")\n",
    "\n",
    "pd.DataFrame(history.history)[[\"loss\", \"val_loss\"]].plot()\n",
    "pd.DataFrame(history.history)[[\"accuracy\", \"val_accuracy\"]].plot()\n",
    "\n",
    "model.summary()"
   ]
  },
  {
   "cell_type": "code",
   "execution_count": null,
   "id": "2914807b-ed3d-4e1f-83aa-caf14e46777f",
   "metadata": {},
   "outputs": [],
   "source": []
  }
 ],
 "metadata": {
  "kernelspec": {
   "display_name": "Python 3 (ipykernel)",
   "language": "python",
   "name": "python3"
  },
  "language_info": {
   "codemirror_mode": {
    "name": "ipython",
    "version": 3
   },
   "file_extension": ".py",
   "mimetype": "text/x-python",
   "name": "python",
   "nbconvert_exporter": "python",
   "pygments_lexer": "ipython3",
   "version": "3.9.7"
  }
 },
 "nbformat": 4,
 "nbformat_minor": 5
}
