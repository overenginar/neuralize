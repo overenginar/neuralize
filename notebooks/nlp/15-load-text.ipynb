{
 "cells": [
  {
   "cell_type": "markdown",
   "id": "668c5854-6b55-44c3-9ef4-448c87031d61",
   "metadata": {},
   "source": [
    "## Stackoverflow"
   ]
  },
  {
   "cell_type": "markdown",
   "id": "08382f00-5844-441c-b2c8-2dfa1bfd573c",
   "metadata": {},
   "source": [
    "### Importing Libs"
   ]
  },
  {
   "cell_type": "code",
   "execution_count": 1,
   "id": "092e706d-d360-4043-b62c-ff512a765559",
   "metadata": {},
   "outputs": [
    {
     "name": "stderr",
     "output_type": "stream",
     "text": [
      "2023-05-19 07:54:36.951087: I tensorflow/tsl/cuda/cudart_stub.cc:28] Could not find cuda drivers on your machine, GPU will not be used.\n",
      "2023-05-19 07:54:37.188522: I tensorflow/tsl/cuda/cudart_stub.cc:28] Could not find cuda drivers on your machine, GPU will not be used.\n",
      "2023-05-19 07:54:37.191083: I tensorflow/core/platform/cpu_feature_guard.cc:182] This TensorFlow binary is optimized to use available CPU instructions in performance-critical operations.\n",
      "To enable the following instructions: AVX2 FMA, in other operations, rebuild TensorFlow with the appropriate compiler flags.\n",
      "2023-05-19 07:54:40.011389: W tensorflow/compiler/tf2tensorrt/utils/py_utils.cc:38] TF-TRT Warning: Could not find TensorRT\n"
     ]
    }
   ],
   "source": [
    "import collections\n",
    "import pathlib\n",
    "\n",
    "import tensorflow as tf\n",
    "import tensorflow_datasets as tfds\n",
    "import tensorflow_text as tf_text\n",
    "from tensorflow.keras import layers, losses, utils\n",
    "from tensorflow.keras.layers import TextVectorization"
   ]
  },
  {
   "cell_type": "markdown",
   "id": "6edf83b0-204d-45a4-9024-508fd0aae137",
   "metadata": {},
   "source": [
    "### Explore Data"
   ]
  },
  {
   "cell_type": "code",
   "execution_count": 3,
   "id": "f5fa311a-ee62-47fe-a3ad-69ec51bc1c05",
   "metadata": {},
   "outputs": [
    {
     "name": "stdout",
     "output_type": "stream",
     "text": [
      "Downloading data from https://storage.googleapis.com/download.tensorflow.org/data/stack_overflow_16k.tar.gz\n",
      "6053168/6053168 [==============================] - 1s 0us/step\n"
     ]
    }
   ],
   "source": [
    "data_url = \"https://storage.googleapis.com/download.tensorflow.org/data/stack_overflow_16k.tar.gz\"\n",
    "\n",
    "dataset_dir = utils.get_file(\n",
    "    origin=data_url, untar=True, cache_dir=\"stack_overflow\", cache_subdir=\"\"\n",
    ")\n",
    "\n",
    "dataset_dir = pathlib.Path(dataset_dir).parent"
   ]
  },
  {
   "cell_type": "code",
   "execution_count": 4,
   "id": "fdf56275-945f-4fe1-a44a-1569dc7df937",
   "metadata": {},
   "outputs": [
    {
     "data": {
      "text/plain": [
       "[PosixPath('/tmp/.keras/aclImdb'),\n",
       " PosixPath('/tmp/.keras/train'),\n",
       " PosixPath('/tmp/.keras/aclImdb_v1.tar.gz'),\n",
       " PosixPath('/tmp/.keras/README.md'),\n",
       " PosixPath('/tmp/.keras/stack_overflow_16k.tar.gz'),\n",
       " PosixPath('/tmp/.keras/test')]"
      ]
     },
     "execution_count": 4,
     "metadata": {},
     "output_type": "execute_result"
    }
   ],
   "source": [
    "list(dataset_dir.iterdir())"
   ]
  },
  {
   "cell_type": "code",
   "execution_count": 5,
   "id": "ef5e285e-de5d-45f7-aa10-351ad2cab07a",
   "metadata": {},
   "outputs": [
    {
     "data": {
      "text/plain": [
       "[PosixPath('/tmp/.keras/train/python'),\n",
       " PosixPath('/tmp/.keras/train/java'),\n",
       " PosixPath('/tmp/.keras/train/csharp'),\n",
       " PosixPath('/tmp/.keras/train/javascript')]"
      ]
     },
     "execution_count": 5,
     "metadata": {},
     "output_type": "execute_result"
    }
   ],
   "source": [
    "train_dir = dataset_dir / \"train\"\n",
    "list(train_dir.iterdir())"
   ]
  },
  {
   "cell_type": "code",
   "execution_count": 6,
   "id": "62c69b4b-c1ce-4050-a19a-fea734a06ba0",
   "metadata": {},
   "outputs": [
    {
     "name": "stdout",
     "output_type": "stream",
     "text": [
      "why does this blank program print true x=true.def stupid():.    x=false.stupid().print x\n",
      "\n"
     ]
    }
   ],
   "source": [
    "sample_file = train_dir / \"python/1755.txt\"\n",
    "\n",
    "with open(sample_file) as f:\n",
    "    print(f.read())"
   ]
  },
  {
   "cell_type": "markdown",
   "id": "d809b250-aa76-4c97-8b15-728fc7aeb3d1",
   "metadata": {},
   "source": [
    "### Load Data"
   ]
  },
  {
   "cell_type": "code",
   "execution_count": 7,
   "id": "ee368bc3-886d-4e6e-9dc5-c006b3805fb7",
   "metadata": {},
   "outputs": [],
   "source": [
    "SEED = 42\n",
    "tf.keras.utils.set_random_seed(SEED)"
   ]
  },
  {
   "cell_type": "code",
   "execution_count": 8,
   "id": "b4eaf72c-a3a8-404c-ae17-c76a137c1bc2",
   "metadata": {},
   "outputs": [
    {
     "name": "stdout",
     "output_type": "stream",
     "text": [
      "Found 8000 files belonging to 4 classes.\n",
      "Using 6400 files for training.\n"
     ]
    }
   ],
   "source": [
    "batch_size = 32\n",
    "\n",
    "raw_train_ds = utils.text_dataset_from_directory(\n",
    "    train_dir,\n",
    "    batch_size=batch_size,\n",
    "    validation_split=0.2,\n",
    "    subset=\"training\",\n",
    "    seed=SEED,\n",
    ")"
   ]
  },
  {
   "cell_type": "code",
   "execution_count": 9,
   "id": "990dcf83-6ebe-40d7-a396-9531f9ee21e8",
   "metadata": {},
   "outputs": [
    {
     "name": "stdout",
     "output_type": "stream",
     "text": [
      "Question:  \"blank multiline textbox to .txt file i'm definitely using the wrong method. actually i'm trying to convert from java to blank and it's beginning to become tough ....anyway, i have a textbox1 that is multiline, i write to it by for looping an arraylist...the textbox1 looks like this:..website: https://google.dk.firmanavn: google llc.email: google@gmail.com.cvr: 123456.gscore: 1.glink: googlepagespeedlink...the code that i use right now, which manages to create a file, but it ends up empty. i am surely doing something wrong, and i'm unsure how to write the textbox to the file...private void button3_click(object sender, eventargs e).    {.        stream mystream;.        savefiledialog savefiledialog1 = new savefiledialog();..        savefiledialog1.filter = \"\"txt files (*.txt)|\"\";.        savefiledialog1.filterindex = 2;.        savefiledialog1.restoredirectory = true;...        if (savefiledialog1.showdialog() == dialogresult.ok).        {.            string path = path.getfullpath(savefiledialog1.filename);..            path = dialogresult.tostring();.            if ((mystream = savefiledialog1.openfile()) != null).            { ..                file.writealltext(path, textbox1.text);..                mystream.close();.            }.        }.    }...any help appreciated... :3 :3 i searched for around 1½ hours on stackoverflow but i didn't manage to see a sample that would match my way of code :3..i hope it's not a duplicate question, thanks a lot for your answers :)\"\n",
      "\n",
      "Label: 0\n",
      "******************************************************************************************************************************************************\n",
      "Question:  \"how to display a result in a label when i click onto a button? on my gui (graphical user interface), i have a button named enter and a label..when i click enter, i want my result to be shown in the label.  how do i do that?\"\n",
      "\n",
      "Label: 0\n",
      "******************************************************************************************************************************************************\n",
      "Question:  \"how to reschedule a task using a scheduledexecutorservice? i saw this in the blank docs: scheduledatfixedrate, it says ...  if any execution of the task.  encounters an exception, subsequent.  executions are suppressed...i don't want this to happen in my application. even if i see an exception i would always want the subsequent executions to occur and continue. how can i get this behavior from scheduledexecutorservice.\"\n",
      "\n",
      "Label: 1\n",
      "******************************************************************************************************************************************************\n",
      "Question:  \"possible mistaken empty statement i am new to programming and i have come across an issue called a \"\"possible mistaken empty statement\"\" now i have done a lot of research on this topic, and the solution i was given was to remove the semi colon after the if statement, however this only produces more warnings and more errors that i currently do not know the solution to, i would very much appreciate the help, the language i am using is blank...if (checkbox5.checked = true) ;.double value5 = convert.todouble(checkbox4.checked);.value5 = +1;.double result5 = value5;.label2.text = convert.tostring(result5);\"\n",
      "\n",
      "Label: 0\n",
      "******************************************************************************************************************************************************\n",
      "Question:  \"blank multiprocessing variables how could i use data obtained(a variable) from a process in another process of the same project ? for example from the code below i want to use variable \"\"b\"\" in an interface for plotting and analysing that. thanks!..import time.import multiprocessing.import time.import os.import sys.import matplotlib.animation as animation.import time.import libtiepie.import numpy as np.import matplotlib.pyplot as plt.from copy import deepcopy.from printinfo import *.from math import*.import pylab.import tkinter as tk.import matplotlib.animation as animation.from tkinter import*.from tkinter import ttk.from matplotlib.backends.backend_tkagg import figurecanvastkagg, navigationtoolbar2tkagg.from matplotlib.figure import figure.from matplotlib.animation import funcanimation..def calc_square():..    k=0.    fig=plt.figure().    while k&lt;3000:..        # print library info:.        print_library_info()..        # search for devices:.        libtiepie.device_list.update()..        # try to open an oscilloscope with block measurement support:.        scp = none.        for item in libtiepie.device_list:.            if item.can_open(libtiepie.devicetype_oscilloscope):.                scp = item.open_oscilloscope().                if scp.measure_modes &amp; libtiepie.mm_block:.                    break.                else:.                    scp = none..        if scp:.            try:..                    # set measure mode:.                    scp.measure_mode = libtiepie.mm_block..                    # set sample frequency:.                    scp.sample_frequency = 5e6  # 1 mhz..                    # set record length:.                    scp.record_length = 1000  # 15000 samples..                    # set pre sample ratio:.                    scp.pre_sample_ratio = 0.1  # 0 %..                    # for all channels:.                    for ch in scp.channels:.                        # enable channel to measure it:.                        ch.enabled = true..                        # set range:.                        ch.range = 8  # 8 v..                        # set coupling:.                        ch.coupling = libtiepie.ck_acv  # dc volt..                    # set trigger timeout:.                    scp.trigger_time_out = 100e-3  # 100 ms..                    # disable all channel trigger sources:.                    for ch in scp.channels:.                        ch.trigger.enabled = false..                    # setup channel trigger:.                    ch = scp.channels[0]  # ch 1..                    # enable trigger source:.                    ch.trigger.enabled = true..                    # kind:.                    ch.trigger.kind = libtiepie.tk_risingedge  # rising edge..                    # level:.                    ch.trigger.levels[0] = 0.75  # 50 %..                    # hysteresis:.                    ch.trigger.hystereses[0] = 0.1  # 5 %..                    # print oscilloscope info:.                    #print_device_info(scp)..                    # start measurement:.                    scp.start()..                    # wait for measurement to complete:.                    while not scp.is_data_ready:.                        time.sleep(0.01)  # 10 ms delay, to save cpu time..                    # get data:.                    data = scp.get_data()..                    ax = fig.add_subplot(111).                    t = np.linspace(0, (scp.record_length/scp.sample_frequency)*1000, scp.record_length).                    a=deepcopy(data).                    a=np.transpose(a).                    b=a[:,0].                    #ax.plot(t,b).                    #plt.ion().                    #plt.show().                    #plt.pause(0.001).                    #ax.cla()..            except exception as e:.                print('exception: ' + e.message).                sys.exit(1)..            # close oscilloscope:.            del scp..        else:.            print('no oscilloscope available with block measurement support!').        k=k+1..if __name__ == \"\"__main__\"\":..    p1 = multiprocessing.process(target=calc_square)      ..    p1.start().    # p2.start().    p1.join().    # p2.join()\"\n",
      "\n",
      "Label: 3\n",
      "******************************************************************************************************************************************************\n"
     ]
    },
    {
     "name": "stderr",
     "output_type": "stream",
     "text": [
      "2023-05-19 07:56:57.067496: I tensorflow/core/common_runtime/executor.cc:1197] [/device:CPU:0] (DEBUG INFO) Executor start aborting (this does not indicate an error and you can ignore this message): INVALID_ARGUMENT: You must feed a value for placeholder tensor 'Placeholder/_0' with dtype string and shape [6400]\n",
      "\t [[{{node Placeholder/_0}}]]\n",
      "2023-05-19 07:56:57.068508: I tensorflow/core/common_runtime/executor.cc:1197] [/device:CPU:0] (DEBUG INFO) Executor start aborting (this does not indicate an error and you can ignore this message): INVALID_ARGUMENT: You must feed a value for placeholder tensor 'Placeholder/_0' with dtype string and shape [6400]\n",
      "\t [[{{node Placeholder/_0}}]]\n"
     ]
    }
   ],
   "source": [
    "for text_batch, label_batch in raw_train_ds.take(1):\n",
    "    for i in range(5):\n",
    "        print(\"Question: \", text_batch.numpy()[i].decode(\"utf-8\"))\n",
    "        print(\"Label:\", label_batch.numpy()[i])\n",
    "        print(\"*\" * 150)"
   ]
  },
  {
   "cell_type": "code",
   "execution_count": 64,
   "id": "d64077c0-e9af-4740-8bb6-a4ae61963c2f",
   "metadata": {},
   "outputs": [
    {
     "name": "stdout",
     "output_type": "stream",
     "text": [
      "Label 0 corresponds to csharp\n",
      "Label 1 corresponds to java\n",
      "Label 2 corresponds to javascript\n",
      "Label 3 corresponds to python\n"
     ]
    }
   ],
   "source": [
    "for i, label in enumerate(raw_train_ds.class_names):\n",
    "    print(\"Label\", i, \"corresponds to\", label)"
   ]
  },
  {
   "cell_type": "code",
   "execution_count": 67,
   "id": "638cf66c-10f7-4e3c-9cb9-0dea59d48acd",
   "metadata": {},
   "outputs": [
    {
     "name": "stdout",
     "output_type": "stream",
     "text": [
      "Found 8000 files belonging to 4 classes.\n",
      "Using 1600 files for validation.\n"
     ]
    }
   ],
   "source": [
    "raw_val_ds = utils.text_dataset_from_directory(\n",
    "    train_dir,\n",
    "    batch_size=batch_size,\n",
    "    validation_split=0.2,\n",
    "    subset=\"validation\",\n",
    "    seed=SEED,\n",
    ")"
   ]
  },
  {
   "cell_type": "code",
   "execution_count": 68,
   "id": "28d2b338-da76-475d-812d-572ade5cbd53",
   "metadata": {},
   "outputs": [
    {
     "name": "stdout",
     "output_type": "stream",
     "text": [
      "Found 8000 files belonging to 4 classes.\n"
     ]
    }
   ],
   "source": [
    "test_dir = dataset_dir / \"test\"\n",
    "raw_test_ds = utils.text_dataset_from_directory(test_dir, batch_size=batch_size)"
   ]
  },
  {
   "cell_type": "markdown",
   "id": "a0bce230-c0a5-4e88-8393-d61b77130591",
   "metadata": {},
   "source": [
    "### Data preparation"
   ]
  },
  {
   "cell_type": "code",
   "execution_count": 72,
   "id": "3718b370-1b37-4a1b-a6a5-4554b09eae02",
   "metadata": {},
   "outputs": [],
   "source": [
    "VOCAB_SIZE = 10000\n",
    "\n",
    "multi_hot_vectorize_layer = TextVectorization(\n",
    "    max_tokens=VOCAB_SIZE, output_mode=\"multi_hot\"\n",
    ")"
   ]
  },
  {
   "cell_type": "code",
   "execution_count": 73,
   "id": "323c0335-0f40-4453-a431-8c4c3b8f9cb1",
   "metadata": {},
   "outputs": [],
   "source": [
    "MAX_SEQUENCE_LENGTH = 250\n",
    "\n",
    "int_vectorize_layer = TextVectorization(\n",
    "    max_tokens=VOCAB_SIZE,\n",
    "    output_mode=\"int\",\n",
    "    output_sequence_length=MAX_SEQUENCE_LENGTH,\n",
    ")"
   ]
  },
  {
   "cell_type": "code",
   "execution_count": 75,
   "id": "94be7542-146c-4e24-8a3f-ed82fd76c39c",
   "metadata": {},
   "outputs": [
    {
     "name": "stderr",
     "output_type": "stream",
     "text": [
      "2023-05-19 08:14:28.629284: I tensorflow/core/common_runtime/executor.cc:1197] [/device:CPU:0] (DEBUG INFO) Executor start aborting (this does not indicate an error and you can ignore this message): INVALID_ARGUMENT: You must feed a value for placeholder tensor 'Placeholder/_0' with dtype string and shape [6400]\n",
      "\t [[{{node Placeholder/_0}}]]\n",
      "2023-05-19 08:14:28.630009: I tensorflow/core/common_runtime/executor.cc:1197] [/device:CPU:0] (DEBUG INFO) Executor start aborting (this does not indicate an error and you can ignore this message): INVALID_ARGUMENT: You must feed a value for placeholder tensor 'Placeholder/_0' with dtype string and shape [6400]\n",
      "\t [[{{node Placeholder/_0}}]]\n"
     ]
    }
   ],
   "source": [
    "train_text = raw_train_ds.map(lambda text, labels: text)\n",
    "multi_hot_vectorize_layer.adapt(train_text)\n",
    "int_vectorize_layer.adapt(train_text)"
   ]
  },
  {
   "cell_type": "code",
   "execution_count": 76,
   "id": "f08a2a4f-e27b-481b-be43-8b09e4efa34e",
   "metadata": {},
   "outputs": [],
   "source": [
    "def multi_hot_vectorize_text(text, label):\n",
    "    text = tf.expand_dims(text, -1)\n",
    "    return multi_hot_vectorize_layer(text), label"
   ]
  },
  {
   "cell_type": "code",
   "execution_count": 77,
   "id": "85296750-26b8-4676-ba91-0ae46001c143",
   "metadata": {},
   "outputs": [],
   "source": [
    "def int_vectorize_text(text, label):\n",
    "    text = tf.expand_dims(text, -1)\n",
    "    return int_vectorize_layer(text), label"
   ]
  },
  {
   "cell_type": "code",
   "execution_count": 78,
   "id": "b396f357-206d-4851-81df-af45d1009064",
   "metadata": {},
   "outputs": [
    {
     "name": "stdout",
     "output_type": "stream",
     "text": [
      "Question tf.Tensor(b'\"filter abstract classes from list i have a new list&lt;abstractclass&gt; () that contains some different implementations. i want to filter out some implementations due to specific conditions. how to do it properly?..1) if (condition1 &amp;&amp; type is implementation1) .....2) if (condition2 &amp;&amp; implementation.name == \"\"implementation 1\"\") .....3) if (condition3 &amp;&amp; implementation.type == enumtype.type1) ......i think 1) is bad, 2) does not work at compile time 3) may be good?..any suggestions for other desgin?..(coudn\\'t post it on programmers.se because of ban)..edit:.more details. imagine abstract class (or interface):..class abstract messageprinter.{ .    void print (string message);.}...and class consoleprinter : messageprinter which prints message on console. so when due to some reasons i want to stop printing message on console, i need to remove that implementation from my list&lt;messageprinter&gt;. but what if consoleprinter is wrapped using uppercasemessageprinter?..class uppercasemessageprinter : messageprinter.{.    public uppercasemessageprinter (messageprinter source) { /* ... */ };..    void print (string message).    {.        source.print (message.toupper());.    }. }...all that type checking will be useless. solution #3 with enum helps a bit, but is not perfect :/\"\\n', shape=(), dtype=string)\n",
      "Label tf.Tensor(0, shape=(), dtype=int32)\n"
     ]
    }
   ],
   "source": [
    "text_batch, label_batch = next(iter(raw_train_ds))\n",
    "first_question, first_label = text_batch[0], label_batch[0]\n",
    "print(\"Question\", first_question)\n",
    "print(\"Label\", first_label)"
   ]
  },
  {
   "cell_type": "code",
   "execution_count": 79,
   "id": "6d10800e-02c3-4a5a-b1a1-260b735e512b",
   "metadata": {},
   "outputs": [
    {
     "name": "stdout",
     "output_type": "stream",
     "text": [
      "'multi_hot' vectorized question: tf.Tensor([[1. 0. 1. ... 0. 0. 0.]], shape=(1, 10000), dtype=float32)\n"
     ]
    }
   ],
   "source": [
    "print(\n",
    "    \"'multi_hot' vectorized question:\",\n",
    "    multi_hot_vectorize_text(first_question, first_label)[0],\n",
    ")"
   ]
  },
  {
   "cell_type": "code",
   "execution_count": 81,
   "id": "2c0a727d-c3b0-46fc-9689-2e4f9520a0f2",
   "metadata": {},
   "outputs": [
    {
     "name": "stdout",
     "output_type": "stream",
     "text": [
      "'int' vectorized question: tf.Tensor(\n",
      "[[ 899  537  363   31   54    3   17    5   15    1   14  296   83  177\n",
      "  3659    3   46    4  899   94   83 3659  916    4  304 1724   24    4\n",
      "    40   11    1   10 2723  143  122    6    1   57   10 3712  143    1\n",
      "   799   25   92   10    1  143    1    1    3  291   25    6  860   57\n",
      "   113   20  139   59  818  105   92  454   33    1  921   12  144    1\n",
      "   576   11   37    1  193    9    1 1067 2700  537   29   45    1  537\n",
      "  9421   42   75   18    1   29    1 9421   66  514  262   37  332   50\n",
      "    44  916    4   83 1890    3   46    4  469  650  262   37  332    3\n",
      "    78    4  278   14  799   31   23    1   26   55   10    1    6 4076\n",
      "    47    1    1 9421   22    1 9421  313   42   75   18  262    1    1\n",
      "    73   14  122  800   72   33 4880  299   92   21  847 2139    5  547\n",
      "    26    6   20 1946    0    0    0    0    0    0    0    0    0    0\n",
      "     0    0    0    0    0    0    0    0    0    0    0    0    0    0\n",
      "     0    0    0    0    0    0    0    0    0    0    0    0    0    0\n",
      "     0    0    0    0    0    0    0    0    0    0    0    0    0    0\n",
      "     0    0    0    0    0    0    0    0    0    0    0    0    0    0\n",
      "     0    0    0    0    0    0    0    0    0    0    0    0    0    0\n",
      "     0    0    0    0    0    0    0    0    0    0    0    0]], shape=(1, 250), dtype=int64)\n"
     ]
    }
   ],
   "source": [
    "print(\n",
    "    \"'int' vectorized question:\",\n",
    "    int_vectorize_text(first_question, first_label)[0],\n",
    ")"
   ]
  },
  {
   "cell_type": "code",
   "execution_count": 82,
   "id": "0c50b49b-48d2-4e95-a1e4-e890ebc7972a",
   "metadata": {},
   "outputs": [
    {
     "name": "stdout",
     "output_type": "stream",
     "text": [
      "1289 --->  roman\n",
      "313 --->  source\n",
      "Vocabulary size: 10000\n"
     ]
    }
   ],
   "source": [
    "print(\"1289 ---> \", int_vectorize_layer.get_vocabulary()[1289])\n",
    "print(\"313 ---> \", int_vectorize_layer.get_vocabulary()[313])\n",
    "print(f\"Vocabulary size: {len(int_vectorize_layer.get_vocabulary())}\")"
   ]
  },
  {
   "cell_type": "code",
   "execution_count": 83,
   "id": "4f1d94c1-f1a4-44cd-88cb-a113fbcd40e1",
   "metadata": {},
   "outputs": [],
   "source": [
    "multi_hot_train_ds = raw_train_ds.map(multi_hot_vectorize_text)\n",
    "multi_hot_val_ds = raw_val_ds.map(multi_hot_vectorize_text)\n",
    "multi_hot_test_ds = raw_test_ds.map(multi_hot_vectorize_text)\n",
    "\n",
    "int_train_ds = raw_train_ds.map(int_vectorize_text)\n",
    "int_val_ds = raw_val_ds.map(int_vectorize_text)\n",
    "int_test_ds = raw_test_ds.map(int_vectorize_text)"
   ]
  },
  {
   "cell_type": "markdown",
   "id": "37165a9f-a54c-4fc5-93cc-91b9028ccf88",
   "metadata": {},
   "source": [
    "### Configure dataset performance"
   ]
  },
  {
   "cell_type": "code",
   "execution_count": 84,
   "id": "207725c5-e849-4db9-bc47-10928d3fdabb",
   "metadata": {},
   "outputs": [],
   "source": [
    "AUTOTUNE = tf.data.AUTOTUNE\n",
    "\n",
    "def configure_dataset(dataset):\n",
    "    return dataset.cache().prefetch(buffer_size=AUTOTUNE)"
   ]
  },
  {
   "cell_type": "code",
   "execution_count": 85,
   "id": "ff952028-723d-49b3-896e-8cb9bc96380a",
   "metadata": {},
   "outputs": [],
   "source": [
    "multi_hot_train_ds = configure_dataset(multi_hot_train_ds)\n",
    "multi_hot_val_ds = configure_dataset(multi_hot_val_ds)\n",
    "multi_hot_test_ds = configure_dataset(multi_hot_test_ds)\n",
    "\n",
    "int_train_ds = configure_dataset(int_train_ds)\n",
    "int_val_ds = configure_dataset(int_val_ds)\n",
    "int_test_ds = configure_dataset(int_test_ds)"
   ]
  },
  {
   "cell_type": "markdown",
   "id": "84445b0b-69b9-4ecf-bfb5-d47e4a9e74f9",
   "metadata": {},
   "source": [
    "### Train model"
   ]
  },
  {
   "cell_type": "code",
   "execution_count": 86,
   "id": "8447bc75-90ef-400b-9716-80b941f20aea",
   "metadata": {},
   "outputs": [
    {
     "name": "stdout",
     "output_type": "stream",
     "text": [
      "Epoch 1/10\n"
     ]
    },
    {
     "name": "stderr",
     "output_type": "stream",
     "text": [
      "2023-05-19 08:15:05.611817: I tensorflow/core/common_runtime/executor.cc:1197] [/device:CPU:0] (DEBUG INFO) Executor start aborting (this does not indicate an error and you can ignore this message): INVALID_ARGUMENT: You must feed a value for placeholder tensor 'Placeholder/_17' with dtype resource\n",
      "\t [[{{node Placeholder/_17}}]]\n",
      "2023-05-19 08:15:05.612520: I tensorflow/core/common_runtime/executor.cc:1197] [/device:CPU:0] (DEBUG INFO) Executor start aborting (this does not indicate an error and you can ignore this message): INVALID_ARGUMENT: You must feed a value for placeholder tensor 'Placeholder/_0' with dtype string and shape [6400]\n",
      "\t [[{{node Placeholder/_0}}]]\n"
     ]
    },
    {
     "name": "stdout",
     "output_type": "stream",
     "text": [
      "198/200 [============================>.] - ETA: 0s - loss: 1.1185 - accuracy: 0.6425"
     ]
    },
    {
     "name": "stderr",
     "output_type": "stream",
     "text": [
      "2023-05-19 08:15:06.792427: I tensorflow/core/common_runtime/executor.cc:1197] [/device:CPU:0] (DEBUG INFO) Executor start aborting (this does not indicate an error and you can ignore this message): INVALID_ARGUMENT: You must feed a value for placeholder tensor 'Placeholder/_20' with dtype int64\n",
      "\t [[{{node Placeholder/_20}}]]\n",
      "2023-05-19 08:15:06.792801: I tensorflow/core/common_runtime/executor.cc:1197] [/device:CPU:0] (DEBUG INFO) Executor start aborting (this does not indicate an error and you can ignore this message): INVALID_ARGUMENT: You must feed a value for placeholder tensor 'Placeholder/_20' with dtype int64\n",
      "\t [[{{node Placeholder/_20}}]]\n"
     ]
    },
    {
     "name": "stdout",
     "output_type": "stream",
     "text": [
      "200/200 [==============================] - 1s 5ms/step - loss: 1.1162 - accuracy: 0.6441 - val_loss: 0.9127 - val_accuracy: 0.7788\n",
      "Epoch 2/10\n",
      "200/200 [==============================] - 1s 3ms/step - loss: 0.7787 - accuracy: 0.8167 - val_loss: 0.7500 - val_accuracy: 0.7994\n",
      "Epoch 3/10\n",
      "200/200 [==============================] - 1s 3ms/step - loss: 0.6277 - accuracy: 0.8614 - val_loss: 0.6646 - val_accuracy: 0.8119\n",
      "Epoch 4/10\n",
      "200/200 [==============================] - 1s 4ms/step - loss: 0.5343 - accuracy: 0.8864 - val_loss: 0.6112 - val_accuracy: 0.8231\n",
      "Epoch 5/10\n",
      "200/200 [==============================] - 1s 3ms/step - loss: 0.4683 - accuracy: 0.9048 - val_loss: 0.5745 - val_accuracy: 0.8331\n",
      "Epoch 6/10\n",
      "200/200 [==============================] - 1s 3ms/step - loss: 0.4180 - accuracy: 0.9162 - val_loss: 0.5479 - val_accuracy: 0.8350\n",
      "Epoch 7/10\n",
      "200/200 [==============================] - 1s 3ms/step - loss: 0.3777 - accuracy: 0.9291 - val_loss: 0.5278 - val_accuracy: 0.8363\n",
      "Epoch 8/10\n",
      "200/200 [==============================] - 1s 3ms/step - loss: 0.3444 - accuracy: 0.9367 - val_loss: 0.5122 - val_accuracy: 0.8388\n",
      "Epoch 9/10\n",
      "200/200 [==============================] - 1s 3ms/step - loss: 0.3162 - accuracy: 0.9430 - val_loss: 0.5000 - val_accuracy: 0.8400\n",
      "Epoch 10/10\n",
      "200/200 [==============================] - 1s 3ms/step - loss: 0.2919 - accuracy: 0.9491 - val_loss: 0.4903 - val_accuracy: 0.8400\n"
     ]
    }
   ],
   "source": [
    "bag_of_words_model = tf.keras.Sequential([layers.Dense(4)])\n",
    "\n",
    "bag_of_words_model.compile(\n",
    "    loss=losses.SparseCategoricalCrossentropy(from_logits=True),\n",
    "    optimizer=\"adam\",\n",
    "    metrics=[\"accuracy\"],\n",
    ")\n",
    "\n",
    "history = bag_of_words_model.fit(\n",
    "    multi_hot_train_ds, validation_data=multi_hot_val_ds, epochs=10\n",
    ")"
   ]
  },
  {
   "cell_type": "code",
   "execution_count": 87,
   "id": "5aac9b86-300c-4602-bbb7-7aeafdc1f5c5",
   "metadata": {},
   "outputs": [],
   "source": [
    "def create_model(vocab_size, num_labels):\n",
    "    model = tf.keras.Sequential(\n",
    "        [\n",
    "            layers.Embedding(vocab_size, 64, mask_zero=True),\n",
    "            layers.Conv1D(64, 5, padding=\"valid\", activation=\"relu\", strides=2),\n",
    "            layers.GlobalMaxPooling1D(),\n",
    "            layers.Dense(num_labels),\n",
    "        ]\n",
    "    )\n",
    "    return model"
   ]
  },
  {
   "cell_type": "code",
   "execution_count": 27,
   "id": "e8f28144-1b02-4a6f-ae5e-6dbfb664c4f1",
   "metadata": {},
   "outputs": [
    {
     "name": "stdout",
     "output_type": "stream",
     "text": [
      "Epoch 1/5\n"
     ]
    },
    {
     "name": "stderr",
     "output_type": "stream",
     "text": [
      "2023-05-19 07:59:33.899371: I tensorflow/core/common_runtime/executor.cc:1197] [/device:CPU:0] (DEBUG INFO) Executor start aborting (this does not indicate an error and you can ignore this message): INVALID_ARGUMENT: You must feed a value for placeholder tensor 'Placeholder/_20' with dtype int64\n",
      "\t [[{{node Placeholder/_20}}]]\n",
      "2023-05-19 07:59:33.900247: I tensorflow/core/common_runtime/executor.cc:1197] [/device:CPU:0] (DEBUG INFO) Executor start aborting (this does not indicate an error and you can ignore this message): INVALID_ARGUMENT: You must feed a value for placeholder tensor 'Placeholder/_4' with dtype int32 and shape [6400]\n",
      "\t [[{{node Placeholder/_4}}]]\n"
     ]
    },
    {
     "name": "stdout",
     "output_type": "stream",
     "text": [
      "197/200 [============================>.] - ETA: 0s - loss: 1.1300 - accuracy: 0.5219"
     ]
    },
    {
     "name": "stderr",
     "output_type": "stream",
     "text": [
      "2023-05-19 07:59:37.416445: I tensorflow/core/common_runtime/executor.cc:1197] [/device:CPU:0] (DEBUG INFO) Executor start aborting (this does not indicate an error and you can ignore this message): INVALID_ARGUMENT: You must feed a value for placeholder tensor 'Placeholder/_17' with dtype resource\n",
      "\t [[{{node Placeholder/_17}}]]\n",
      "2023-05-19 07:59:37.417612: I tensorflow/core/common_runtime/executor.cc:1197] [/device:CPU:0] (DEBUG INFO) Executor start aborting (this does not indicate an error and you can ignore this message): INVALID_ARGUMENT: You must feed a value for placeholder tensor 'Placeholder/_20' with dtype int64\n",
      "\t [[{{node Placeholder/_20}}]]\n"
     ]
    },
    {
     "name": "stdout",
     "output_type": "stream",
     "text": [
      "200/200 [==============================] - 4s 16ms/step - loss: 1.1246 - accuracy: 0.5241 - val_loss: 0.7435 - val_accuracy: 0.6881\n",
      "Epoch 2/5\n",
      "200/200 [==============================] - 3s 14ms/step - loss: 0.6078 - accuracy: 0.7689 - val_loss: 0.5356 - val_accuracy: 0.8019\n",
      "Epoch 3/5\n",
      "200/200 [==============================] - 3s 13ms/step - loss: 0.3646 - accuracy: 0.8861 - val_loss: 0.4732 - val_accuracy: 0.8275\n",
      "Epoch 4/5\n",
      "200/200 [==============================] - 3s 13ms/step - loss: 0.2035 - accuracy: 0.9491 - val_loss: 0.4741 - val_accuracy: 0.8219\n",
      "Epoch 5/5\n",
      "200/200 [==============================] - 3s 15ms/step - loss: 0.1042 - accuracy: 0.9803 - val_loss: 0.5001 - val_accuracy: 0.8213\n"
     ]
    }
   ],
   "source": [
    "int_model = create_model(vocab_size=VOCAB_SIZE + 1, num_labels=4)\n",
    "int_model.compile(\n",
    "    loss=losses.SparseCategoricalCrossentropy(from_logits=True),\n",
    "    optimizer=\"adam\",\n",
    "    metrics=[\"accuracy\"],\n",
    ")\n",
    "history = int_model.fit(int_train_ds, validation_data=int_val_ds, epochs=5)"
   ]
  },
  {
   "cell_type": "code",
   "execution_count": 28,
   "id": "692703bf-e13c-4bd4-912e-a5aa675e6e0f",
   "metadata": {},
   "outputs": [
    {
     "name": "stdout",
     "output_type": "stream",
     "text": [
      "Linear model on binary vectorized data:\n",
      "Model: \"sequential\"\n",
      "_________________________________________________________________\n",
      " Layer (type)                Output Shape              Param #   \n",
      "=================================================================\n",
      " dense (Dense)               (None, 4)                 40004     \n",
      "                                                                 \n",
      "=================================================================\n",
      "Total params: 40,004\n",
      "Trainable params: 40,004\n",
      "Non-trainable params: 0\n",
      "_________________________________________________________________\n",
      "None\n"
     ]
    }
   ],
   "source": [
    "print(\"Linear model on binary vectorized data:\")\n",
    "print(bag_of_words_model.summary())"
   ]
  },
  {
   "cell_type": "code",
   "execution_count": 29,
   "id": "020004c7-2037-49f1-9191-b401dcf82836",
   "metadata": {},
   "outputs": [
    {
     "name": "stdout",
     "output_type": "stream",
     "text": [
      "ConvNet model on int vectorized data:\n",
      "Model: \"sequential_1\"\n",
      "_________________________________________________________________\n",
      " Layer (type)                Output Shape              Param #   \n",
      "=================================================================\n",
      " embedding (Embedding)       (None, None, 64)          640064    \n",
      "                                                                 \n",
      " conv1d (Conv1D)             (None, None, 64)          20544     \n",
      "                                                                 \n",
      " global_max_pooling1d (Globa  (None, 64)               0         \n",
      " lMaxPooling1D)                                                  \n",
      "                                                                 \n",
      " dense_1 (Dense)             (None, 4)                 260       \n",
      "                                                                 \n",
      "=================================================================\n",
      "Total params: 660,868\n",
      "Trainable params: 660,868\n",
      "Non-trainable params: 0\n",
      "_________________________________________________________________\n",
      "None\n"
     ]
    }
   ],
   "source": [
    "print(\"ConvNet model on int vectorized data:\")\n",
    "print(int_model.summary())"
   ]
  },
  {
   "cell_type": "code",
   "execution_count": 30,
   "id": "ca5c816d-0b7e-4c7e-8341-bc018874ae67",
   "metadata": {},
   "outputs": [
    {
     "name": "stdout",
     "output_type": "stream",
     "text": [
      " 14/250 [>.............................] - ETA: 0s - loss: 0.5062 - accuracy: 0.8103 "
     ]
    },
    {
     "name": "stderr",
     "output_type": "stream",
     "text": [
      "2023-05-19 08:00:02.362915: I tensorflow/core/common_runtime/executor.cc:1197] [/device:CPU:0] (DEBUG INFO) Executor start aborting (this does not indicate an error and you can ignore this message): INVALID_ARGUMENT: You must feed a value for placeholder tensor 'Placeholder/_18' with dtype int64\n",
      "\t [[{{node Placeholder/_18}}]]\n",
      "2023-05-19 08:00:02.363980: I tensorflow/core/common_runtime/executor.cc:1197] [/device:CPU:0] (DEBUG INFO) Executor start aborting (this does not indicate an error and you can ignore this message): INVALID_ARGUMENT: You must feed a value for placeholder tensor 'Placeholder/_17' with dtype resource\n",
      "\t [[{{node Placeholder/_17}}]]\n"
     ]
    },
    {
     "name": "stdout",
     "output_type": "stream",
     "text": [
      "250/250 [==============================] - 1s 4ms/step - loss: 0.5175 - accuracy: 0.8141\n",
      " 18/250 [=>............................] - ETA: 1s - loss: 0.5101 - accuracy: 0.8264"
     ]
    },
    {
     "name": "stderr",
     "output_type": "stream",
     "text": [
      "2023-05-19 08:00:03.587790: I tensorflow/core/common_runtime/executor.cc:1197] [/device:CPU:0] (DEBUG INFO) Executor start aborting (this does not indicate an error and you can ignore this message): INVALID_ARGUMENT: You must feed a value for placeholder tensor 'Placeholder/_17' with dtype resource\n",
      "\t [[{{node Placeholder/_17}}]]\n",
      "2023-05-19 08:00:03.588171: I tensorflow/core/common_runtime/executor.cc:1197] [/device:CPU:0] (DEBUG INFO) Executor start aborting (this does not indicate an error and you can ignore this message): INVALID_ARGUMENT: You must feed a value for placeholder tensor 'Placeholder/_20' with dtype int64\n",
      "\t [[{{node Placeholder/_20}}]]\n"
     ]
    },
    {
     "name": "stdout",
     "output_type": "stream",
     "text": [
      "250/250 [==============================] - 1s 5ms/step - loss: 0.5226 - accuracy: 0.8092\n",
      "Bag of words model accuracy: 81.41%\n",
      "Int model accuracy: 80.92%\n"
     ]
    }
   ],
   "source": [
    "bag_of_words_loss, bag_of_words_accuracy = bag_of_words_model.evaluate(\n",
    "    multi_hot_test_ds\n",
    ")\n",
    "int_loss, int_accuracy = int_model.evaluate(int_test_ds)\n",
    "\n",
    "print(f\"Bag of words model accuracy: {bag_of_words_accuracy:2.2%}\")\n",
    "print(f\"Int model accuracy: {int_accuracy:2.2%}\")"
   ]
  },
  {
   "cell_type": "markdown",
   "id": "4227e1d8-e45b-46cd-a539-b94ab7992420",
   "metadata": {},
   "source": [
    "### Export model"
   ]
  },
  {
   "cell_type": "code",
   "execution_count": 31,
   "id": "d4255628-388c-443c-8711-10317dc46904",
   "metadata": {},
   "outputs": [
    {
     "name": "stderr",
     "output_type": "stream",
     "text": [
      "2023-05-19 08:00:15.835836: I tensorflow/core/common_runtime/executor.cc:1197] [/device:CPU:0] (DEBUG INFO) Executor start aborting (this does not indicate an error and you can ignore this message): INVALID_ARGUMENT: You must feed a value for placeholder tensor 'Placeholder/_0' with dtype string and shape [8000]\n",
      "\t [[{{node Placeholder/_0}}]]\n",
      "2023-05-19 08:00:15.836159: I tensorflow/core/common_runtime/executor.cc:1197] [/device:CPU:0] (DEBUG INFO) Executor start aborting (this does not indicate an error and you can ignore this message): INVALID_ARGUMENT: You must feed a value for placeholder tensor 'Placeholder/_4' with dtype int32 and shape [8000]\n",
      "\t [[{{node Placeholder/_4}}]]\n"
     ]
    },
    {
     "name": "stdout",
     "output_type": "stream",
     "text": [
      "250/250 [==============================] - 1s 3ms/step - loss: 0.5175 - accuracy: 0.8141\n",
      "Accuracy: 81.41%\n"
     ]
    }
   ],
   "source": [
    "export_model = tf.keras.Sequential(\n",
    "    [\n",
    "        multi_hot_vectorize_layer,\n",
    "        bag_of_words_model,\n",
    "        layers.Activation(\"sigmoid\"),\n",
    "    ]\n",
    ")\n",
    "\n",
    "export_model.compile(\n",
    "    loss=losses.SparseCategoricalCrossentropy(from_logits=False),\n",
    "    optimizer=\"adam\",\n",
    "    metrics=[\"accuracy\"],\n",
    ")\n",
    "\n",
    "loss, accuracy = export_model.evaluate(raw_test_ds)\n",
    "print(f\"Accuracy: {bag_of_words_accuracy:2.2%}\")"
   ]
  },
  {
   "cell_type": "code",
   "execution_count": 32,
   "id": "a6c88974-ae02-4ab1-805e-9e3b0f050c36",
   "metadata": {},
   "outputs": [],
   "source": [
    "def get_string_labels(predicted_scores_batch):\n",
    "    predicted_int_labels = tf.math.argmax(predicted_scores_batch, axis=1)\n",
    "    predicted_labels = tf.gather(raw_train_ds.class_names, predicted_int_labels)\n",
    "    return predicted_labels"
   ]
  },
  {
   "cell_type": "markdown",
   "id": "cc0861c5-9017-4f2d-bcb7-1084d3139df1",
   "metadata": {},
   "source": [
    "### Inference"
   ]
  },
  {
   "cell_type": "code",
   "execution_count": 33,
   "id": "7095c181-26c9-4ebd-a3fe-de9507dcdf66",
   "metadata": {},
   "outputs": [
    {
     "name": "stdout",
     "output_type": "stream",
     "text": [
      "1/1 [==============================] - 0s 154ms/step\n",
      "Question:  how do I extract keys from a dict into a list?\n",
      "Predicted label:  b'python'\n",
      "Question:  debug public static void main(string[] args) {...}\n",
      "Predicted label:  b'java'\n"
     ]
    }
   ],
   "source": [
    "inputs = [\n",
    "    \"how do I extract keys from a dict into a list?\",  # 'python'\n",
    "    \"debug public static void main(string[] args) {...}\",  # 'java'\n",
    "]\n",
    "predicted_scores = export_model.predict(inputs)\n",
    "predicted_labels = get_string_labels(predicted_scores)\n",
    "for input, label in zip(inputs, predicted_labels):\n",
    "    print(\"Question: \", input)\n",
    "    print(\"Predicted label: \", label.numpy())"
   ]
  },
  {
   "cell_type": "markdown",
   "id": "5430203b-4d55-43ef-99a8-ee25b9eb4c05",
   "metadata": {},
   "source": [
    "### Author of Illiad translations"
   ]
  },
  {
   "cell_type": "markdown",
   "id": "25166763-d0a1-40de-b1ed-b65bffc3dec0",
   "metadata": {},
   "source": [
    "### Explore Data"
   ]
  },
  {
   "cell_type": "code",
   "execution_count": 38,
   "id": "aff987ea-bd63-4320-a054-71c934fc667f",
   "metadata": {},
   "outputs": [
    {
     "name": "stdout",
     "output_type": "stream",
     "text": [
      "Downloading data from file:///neuralize/notebooks/datasets/illiad/cowper.txt\n",
      "815980/815980 [==============================] - 0s 0us/step\n",
      "Downloading data from file:///neuralize/notebooks/datasets/illiad/derby.txt\n",
      "809730/809730 [==============================] - 0s 0us/step\n",
      "Downloading data from file:///neuralize/notebooks/datasets/illiad/butler.txt\n",
      "807992/807992 [==============================] - 0s 0us/step\n"
     ]
    },
    {
     "data": {
      "text/plain": [
       "[PosixPath('/root/.keras/datasets/butler.txt'),\n",
       " PosixPath('/root/.keras/datasets/cowper.txt'),\n",
       " PosixPath('/root/.keras/datasets/derby.txt')]"
      ]
     },
     "execution_count": 38,
     "metadata": {},
     "output_type": "execute_result"
    }
   ],
   "source": [
    "DIRECTORY_URL = \"file:///neuralize/notebooks/datasets/illiad/\"\n",
    "FILE_NAMES = [\"cowper.txt\", \"derby.txt\", \"butler.txt\"]\n",
    "\n",
    "for name in FILE_NAMES:\n",
    "    text_dir = utils.get_file(name, origin=DIRECTORY_URL + name)\n",
    "\n",
    "parent_dir = pathlib.Path(text_dir).parent\n",
    "list(parent_dir.iterdir())"
   ]
  },
  {
   "cell_type": "code",
   "execution_count": 39,
   "id": "bc6523de-14c5-4fc9-a02c-e58058d6d764",
   "metadata": {},
   "outputs": [],
   "source": [
    "def labeler(example, index):\n",
    "    return example, tf.cast(index, tf.int64)"
   ]
  },
  {
   "cell_type": "code",
   "execution_count": 40,
   "id": "2e09f03b-d470-4c88-8a0b-d972ffe00f47",
   "metadata": {},
   "outputs": [],
   "source": [
    "labeled_data_sets = []\n",
    "\n",
    "for i, file_name in enumerate(FILE_NAMES):\n",
    "    lines_dataset = tf.data.TextLineDataset(str(parent_dir / file_name))\n",
    "    labeled_dataset = lines_dataset.map(lambda ex: labeler(ex, i))\n",
    "    labeled_data_sets.append(labeled_dataset)"
   ]
  },
  {
   "cell_type": "code",
   "execution_count": 41,
   "id": "5e691212-fd72-4b28-9afb-586a0ad13366",
   "metadata": {},
   "outputs": [],
   "source": [
    "BUFFER_SIZE = 50000\n",
    "BATCH_SIZE = 64\n",
    "VALIDATION_SIZE = 5000"
   ]
  },
  {
   "cell_type": "code",
   "execution_count": 42,
   "id": "c005e3dc-1420-4460-a44b-8b2d3c1ae7aa",
   "metadata": {},
   "outputs": [],
   "source": [
    "all_labeled_data = labeled_data_sets[0]\n",
    "for labeled_dataset in labeled_data_sets[1:]:\n",
    "    all_labeled_data = all_labeled_data.concatenate(labeled_dataset)\n",
    "\n",
    "all_labeled_data = all_labeled_data.shuffle(\n",
    "    BUFFER_SIZE, reshuffle_each_iteration=False\n",
    ")"
   ]
  },
  {
   "cell_type": "code",
   "execution_count": 43,
   "id": "da71fca1-dc1c-45c5-bbd8-99172fe44ed7",
   "metadata": {},
   "outputs": [
    {
     "name": "stderr",
     "output_type": "stream",
     "text": [
      "2023-05-19 08:07:23.828818: I tensorflow/core/common_runtime/executor.cc:1197] [/device:CPU:0] (DEBUG INFO) Executor start aborting (this does not indicate an error and you can ignore this message): INVALID_ARGUMENT: You must feed a value for placeholder tensor 'Placeholder/_9' with dtype string and shape [1]\n",
      "\t [[{{node Placeholder/_9}}]]\n"
     ]
    },
    {
     "name": "stdout",
     "output_type": "stream",
     "text": [
      "Sentence:  b'reach the ships, and till night falls at the going down of the sun.\"'\n",
      "Label: 2\n",
      "Sentence:  b'For I profess some courage, even I.'\n",
      "Label: 0\n",
      "Sentence:  b'To whom he gives the prize of victory,'\n",
      "Label: 1\n",
      "Sentence:  b\"Old Chryses followed to Achaia's camp,\"\n",
      "Label: 0\n",
      "Sentence:  b'a god, and with the captains of the Cretans round him. Often did'\n",
      "Label: 2\n",
      "Sentence:  b'Upon the threshold pausing, thus he spoke:'\n",
      "Label: 1\n",
      "Sentence:  b'battalions. The battle was now in array and they stood face to face'\n",
      "Label: 2\n",
      "Sentence:  b'your eyes none of the sharpest, but you are always laying down the law.'\n",
      "Label: 2\n",
      "Sentence:  b\"And, as her hand she clasp'd, address'd her thus:\"\n",
      "Label: 1\n",
      "Sentence:  b'fighting till we burn our dead; hereafter we will fight anew, till'\n",
      "Label: 2\n"
     ]
    }
   ],
   "source": [
    "for text, label in all_labeled_data.take(10):\n",
    "    print(\"Sentence: \", text.numpy())\n",
    "    print(\"Label:\", label.numpy())"
   ]
  },
  {
   "cell_type": "markdown",
   "id": "744eb906-791f-4631-a32f-4fd4433a9230",
   "metadata": {},
   "source": [
    "### Data Prep"
   ]
  },
  {
   "cell_type": "code",
   "execution_count": 44,
   "id": "d90f5bed-65ab-4e16-aa30-12d7364bc477",
   "metadata": {},
   "outputs": [],
   "source": [
    "tokenizer = tf_text.UnicodeScriptTokenizer()"
   ]
  },
  {
   "cell_type": "code",
   "execution_count": 45,
   "id": "9260c4b3-e7e8-4262-9a79-34c5d08b6ac1",
   "metadata": {},
   "outputs": [],
   "source": [
    "def tokenize(text, unused_label):\n",
    "    lower_case = tf_text.case_fold_utf8(text)\n",
    "    return tokenizer.tokenize(lower_case)"
   ]
  },
  {
   "cell_type": "code",
   "execution_count": 46,
   "id": "5348bdb5-ca29-4f61-b984-421ce7f1ad22",
   "metadata": {},
   "outputs": [],
   "source": [
    "tokenized_ds = all_labeled_data.map(tokenize)"
   ]
  },
  {
   "cell_type": "code",
   "execution_count": 47,
   "id": "4e76feea-1b55-4947-ab52-e84fa4b25f25",
   "metadata": {},
   "outputs": [
    {
     "name": "stderr",
     "output_type": "stream",
     "text": [
      "2023-05-19 08:07:54.259431: I tensorflow/core/common_runtime/executor.cc:1197] [/device:CPU:0] (DEBUG INFO) Executor start aborting (this does not indicate an error and you can ignore this message): INVALID_ARGUMENT: You must feed a value for placeholder tensor 'Placeholder/_9' with dtype string and shape [1]\n",
      "\t [[{{node Placeholder/_9}}]]\n"
     ]
    },
    {
     "name": "stdout",
     "output_type": "stream",
     "text": [
      "Tokens:  [b'reach' b'the' b'ships' b',' b'and' b'till' b'night' b'falls' b'at'\n",
      " b'the' b'going' b'down' b'of' b'the' b'sun' b'.\"']\n",
      "Tokens:  [b'for' b'i' b'profess' b'some' b'courage' b',' b'even' b'i' b'.']\n",
      "Tokens:  [b'to' b'whom' b'he' b'gives' b'the' b'prize' b'of' b'victory' b',']\n",
      "Tokens:  [b'old' b'chryses' b'followed' b'to' b'achaia' b\"'\" b's' b'camp' b',']\n",
      "Tokens:  [b'a' b'god' b',' b'and' b'with' b'the' b'captains' b'of' b'the'\n",
      " b'cretans' b'round' b'him' b'.' b'often' b'did']\n"
     ]
    }
   ],
   "source": [
    "for text_batch in tokenized_ds.take(5):\n",
    "    print(\"Tokens: \", text_batch.numpy())"
   ]
  },
  {
   "cell_type": "code",
   "execution_count": 48,
   "id": "b5421ba8-914f-416f-8b3e-daf2dff0fce0",
   "metadata": {},
   "outputs": [
    {
     "name": "stderr",
     "output_type": "stream",
     "text": [
      "2023-05-19 08:08:03.337085: I tensorflow/core/common_runtime/executor.cc:1197] [/device:CPU:0] (DEBUG INFO) Executor start aborting (this does not indicate an error and you can ignore this message): INVALID_ARGUMENT: You must feed a value for placeholder tensor 'Placeholder/_4' with dtype string and shape [1]\n",
      "\t [[{{node Placeholder/_4}}]]\n"
     ]
    },
    {
     "name": "stdout",
     "output_type": "stream",
     "text": [
      "Vocab size:  10000\n",
      "First five vocab entries: [b',', b'the', b'and', b\"'\", b'of']\n"
     ]
    }
   ],
   "source": [
    "tokenized_ds = configure_dataset(tokenized_ds)\n",
    "\n",
    "vocab_dict = collections.defaultdict(lambda: 0)\n",
    "for toks in tokenized_ds.as_numpy_iterator():\n",
    "    for tok in toks:\n",
    "        vocab_dict[tok] += 1\n",
    "\n",
    "vocab = sorted(vocab_dict.items(), key=lambda x: x[1], reverse=True)\n",
    "vocab = [token for token, count in vocab]\n",
    "vocab = vocab[:VOCAB_SIZE]\n",
    "vocab_size = len(vocab)\n",
    "print(\"Vocab size: \", vocab_size)\n",
    "print(\"First five vocab entries:\", vocab[:5])"
   ]
  },
  {
   "cell_type": "code",
   "execution_count": 49,
   "id": "488f428f-d288-4ff0-9065-0214a8c5d298",
   "metadata": {},
   "outputs": [],
   "source": [
    "keys = vocab\n",
    "values = range(\n",
    "    2, len(vocab) + 2\n",
    ")\n",
    "\n",
    "init = tf.lookup.KeyValueTensorInitializer(\n",
    "    keys, values, key_dtype=tf.string, value_dtype=tf.int64\n",
    ")\n",
    "\n",
    "num_oov_buckets = 1\n",
    "vocab_table = tf.lookup.StaticVocabularyTable(init, num_oov_buckets)"
   ]
  },
  {
   "cell_type": "code",
   "execution_count": 50,
   "id": "fa17863e-2627-4fd5-baca-1e9ed8f37592",
   "metadata": {},
   "outputs": [],
   "source": [
    "def preprocess_text(text, label):\n",
    "    standardized = tf_text.case_fold_utf8(text)\n",
    "    tokenized = tokenizer.tokenize(standardized)\n",
    "    vectorized = vocab_table.lookup(tokenized)\n",
    "    return vectorized, label"
   ]
  },
  {
   "cell_type": "code",
   "execution_count": 51,
   "id": "40acff9a-4bc3-481c-a4f5-b69e6fd83272",
   "metadata": {},
   "outputs": [
    {
     "name": "stderr",
     "output_type": "stream",
     "text": [
      "2023-05-19 08:08:25.792617: I tensorflow/core/common_runtime/executor.cc:1197] [/device:CPU:0] (DEBUG INFO) Executor start aborting (this does not indicate an error and you can ignore this message): INVALID_ARGUMENT: You must feed a value for placeholder tensor 'Placeholder/_9' with dtype string and shape [1]\n",
      "\t [[{{node Placeholder/_9}}]]\n"
     ]
    },
    {
     "name": "stdout",
     "output_type": "stream",
     "text": [
      "Sentence:  b'reach the ships, and till night falls at the going down of the sun.\"'\n",
      "Vectorized sentence:  [ 359    3   68    2    4  162  257 1139   34    3  749  112    6    3\n",
      "  537   52]\n"
     ]
    }
   ],
   "source": [
    "example_text, example_label = next(iter(all_labeled_data))\n",
    "print(\"Sentence: \", example_text.numpy())\n",
    "vectorized_text, example_label = preprocess_text(example_text, example_label)\n",
    "print(\"Vectorized sentence: \", vectorized_text.numpy())"
   ]
  },
  {
   "cell_type": "code",
   "execution_count": 52,
   "id": "0afe7546-f260-433c-96fb-732bdd93f3cf",
   "metadata": {},
   "outputs": [],
   "source": [
    "all_encoded_data = all_labeled_data.map(preprocess_text)"
   ]
  },
  {
   "cell_type": "markdown",
   "id": "b2d86c45-b7fc-458a-9951-e5de1d11b2ac",
   "metadata": {},
   "source": [
    "### Splitting Data"
   ]
  },
  {
   "cell_type": "code",
   "execution_count": 53,
   "id": "a53bbbf7-726c-47f2-be17-b64069678b56",
   "metadata": {},
   "outputs": [],
   "source": [
    "train_data = all_encoded_data.skip(VALIDATION_SIZE).shuffle(BUFFER_SIZE)\n",
    "validation_data = all_encoded_data.take(VALIDATION_SIZE)"
   ]
  },
  {
   "cell_type": "code",
   "execution_count": 54,
   "id": "778057cb-3568-4159-820a-838d0e3de202",
   "metadata": {},
   "outputs": [],
   "source": [
    "train_data = train_data.padded_batch(BATCH_SIZE)\n",
    "validation_data = validation_data.padded_batch(BATCH_SIZE)"
   ]
  },
  {
   "cell_type": "code",
   "execution_count": 55,
   "id": "2856fb99-27a1-4403-b550-158bf7f9561b",
   "metadata": {},
   "outputs": [
    {
     "name": "stderr",
     "output_type": "stream",
     "text": [
      "2023-05-19 08:09:24.152026: I tensorflow/core/common_runtime/executor.cc:1197] [/device:CPU:0] (DEBUG INFO) Executor start aborting (this does not indicate an error and you can ignore this message): INVALID_ARGUMENT: You must feed a value for placeholder tensor 'Placeholder/_4' with dtype string and shape [1]\n",
      "\t [[{{node Placeholder/_4}}]]\n",
      "2023-05-19 08:09:24.155205: I tensorflow/core/common_runtime/executor.cc:1197] [/device:CPU:0] (DEBUG INFO) Executor start aborting (this does not indicate an error and you can ignore this message): INVALID_ARGUMENT: You must feed a value for placeholder tensor 'Placeholder/_9' with dtype string and shape [1]\n",
      "\t [[{{node Placeholder/_9}}]]\n"
     ]
    },
    {
     "name": "stdout",
     "output_type": "stream",
     "text": [
      "Text batch shape:  (64, 17)\n",
      "Label batch shape:  (64,)\n",
      "First text example:  tf.Tensor(\n",
      "[ 359    3   68    2    4  162  257 1139   34    3  749  112    6    3\n",
      "  537   52    0], shape=(17,), dtype=int64)\n",
      "First label example:  tf.Tensor(2, shape=(), dtype=int64)\n"
     ]
    }
   ],
   "source": [
    "sample_text, sample_labels = next(iter(validation_data))\n",
    "print(\"Text batch shape: \", sample_text.shape)\n",
    "print(\"Label batch shape: \", sample_labels.shape)\n",
    "print(\"First text example: \", sample_text[0])\n",
    "print(\"First label example: \", sample_labels[0])"
   ]
  },
  {
   "cell_type": "code",
   "execution_count": 56,
   "id": "3deb0d19-4e6b-40b8-a97a-d6c3c46ac7eb",
   "metadata": {},
   "outputs": [],
   "source": [
    "vocab_size += 2"
   ]
  },
  {
   "cell_type": "code",
   "execution_count": 57,
   "id": "5f2fa678-2e90-402f-825a-9e2549ffd13a",
   "metadata": {},
   "outputs": [],
   "source": [
    "train_data = configure_dataset(train_data)\n",
    "validation_data = configure_dataset(validation_data)"
   ]
  },
  {
   "cell_type": "markdown",
   "id": "662a62df-16c5-4427-8ed9-db15310119ae",
   "metadata": {},
   "source": [
    "### Training"
   ]
  },
  {
   "cell_type": "code",
   "execution_count": 58,
   "id": "23638513-31c7-4593-bcbc-94ab96e8da0c",
   "metadata": {},
   "outputs": [
    {
     "name": "stdout",
     "output_type": "stream",
     "text": [
      "Epoch 1/3\n"
     ]
    },
    {
     "name": "stderr",
     "output_type": "stream",
     "text": [
      "2023-05-19 08:09:46.424592: I tensorflow/core/common_runtime/executor.cc:1197] [/device:CPU:0] (DEBUG INFO) Executor start aborting (this does not indicate an error and you can ignore this message): INVALID_ARGUMENT: You must feed a value for placeholder tensor 'Placeholder/_4' with dtype string and shape [1]\n",
      "\t [[{{node Placeholder/_4}}]]\n",
      "2023-05-19 08:09:46.425202: I tensorflow/core/common_runtime/executor.cc:1197] [/device:CPU:0] (DEBUG INFO) Executor start aborting (this does not indicate an error and you can ignore this message): INVALID_ARGUMENT: You must feed a value for placeholder tensor 'Placeholder/_0' with dtype string and shape [1]\n",
      "\t [[{{node Placeholder/_0}}]]\n",
      "2023-05-19 08:09:57.141756: I tensorflow/core/kernels/data/shuffle_dataset_op.cc:392] Filling up shuffle buffer (this may take a while): 5189 of 50000\n",
      "2023-05-19 08:10:07.140888: I tensorflow/core/kernels/data/shuffle_dataset_op.cc:392] Filling up shuffle buffer (this may take a while): 17181 of 50000\n",
      "2023-05-19 08:10:17.140815: I tensorflow/core/kernels/data/shuffle_dataset_op.cc:392] Filling up shuffle buffer (this may take a while): 27947 of 50000\n",
      "2023-05-19 08:10:27.140919: I tensorflow/core/kernels/data/shuffle_dataset_op.cc:392] Filling up shuffle buffer (this may take a while): 38688 of 50000\n"
     ]
    },
    {
     "name": "stdout",
     "output_type": "stream",
     "text": [
      "     28/Unknown - 45s 6ms/step - loss: 1.0405 - accuracy: 0.4023"
     ]
    },
    {
     "name": "stderr",
     "output_type": "stream",
     "text": [
      "2023-05-19 08:10:31.564174: I tensorflow/core/kernels/data/shuffle_dataset_op.cc:417] Shuffle buffer filled.\n"
     ]
    },
    {
     "name": "stdout",
     "output_type": "stream",
     "text": [
      "    688/Unknown - 49s 5ms/step - loss: 0.5192 - accuracy: 0.7669"
     ]
    },
    {
     "name": "stderr",
     "output_type": "stream",
     "text": [
      "2023-05-19 08:10:35.621754: I tensorflow/core/common_runtime/executor.cc:1197] [/device:CPU:0] (DEBUG INFO) Executor start aborting (this does not indicate an error and you can ignore this message): INVALID_ARGUMENT: You must feed a value for placeholder tensor 'Placeholder/_20' with dtype int64\n",
      "\t [[{{node Placeholder/_20}}]]\n",
      "2023-05-19 08:10:35.622283: I tensorflow/core/common_runtime/executor.cc:1197] [/device:CPU:0] (DEBUG INFO) Executor start aborting (this does not indicate an error and you can ignore this message): INVALID_ARGUMENT: You must feed a value for placeholder tensor 'Placeholder/_19' with dtype resource\n",
      "\t [[{{node Placeholder/_19}}]]\n"
     ]
    },
    {
     "name": "stdout",
     "output_type": "stream",
     "text": [
      "697/697 [==============================] - 56s 16ms/step - loss: 0.5173 - accuracy: 0.7678 - val_loss: 0.3671 - val_accuracy: 0.8426\n",
      "Epoch 2/3\n",
      "697/697 [==============================] - 4s 5ms/step - loss: 0.2788 - accuracy: 0.8881 - val_loss: 0.3507 - val_accuracy: 0.8512\n",
      "Epoch 3/3\n",
      "697/697 [==============================] - 4s 6ms/step - loss: 0.1838 - accuracy: 0.9309 - val_loss: 0.3787 - val_accuracy: 0.8490\n"
     ]
    }
   ],
   "source": [
    "model = create_model(vocab_size=vocab_size, num_labels=3)\n",
    "\n",
    "model.compile(\n",
    "    optimizer=\"adam\",\n",
    "    loss=losses.SparseCategoricalCrossentropy(from_logits=True),\n",
    "    metrics=[\"accuracy\"],\n",
    ")\n",
    "\n",
    "history = model.fit(train_data, validation_data=validation_data, epochs=3)"
   ]
  },
  {
   "cell_type": "code",
   "execution_count": 59,
   "id": "c2d81f49-9240-4b0e-a841-792ea3bdba8c",
   "metadata": {},
   "outputs": [
    {
     "name": "stdout",
     "output_type": "stream",
     "text": [
      "79/79 [==============================] - 0s 2ms/step - loss: 0.3787 - accuracy: 0.8490\n",
      "Loss:  0.37869754433631897\n",
      "Accuracy: 84.90%\n"
     ]
    }
   ],
   "source": [
    "loss, accuracy = model.evaluate(validation_data)\n",
    "\n",
    "print(\"Loss: \", loss)\n",
    "print(f\"Accuracy: {accuracy:2.2%}\")"
   ]
  },
  {
   "cell_type": "markdown",
   "id": "34370d11-bf62-48a1-98b8-2e606c42b866",
   "metadata": {},
   "source": [
    "### Export model"
   ]
  },
  {
   "cell_type": "code",
   "execution_count": 60,
   "id": "561d2a43-e0b4-41fe-8fdd-26ebbcf0b415",
   "metadata": {},
   "outputs": [],
   "source": [
    "preprocess_layer = TextVectorization(\n",
    "    max_tokens=vocab_size,\n",
    "    standardize=tf_text.case_fold_utf8,\n",
    "    split=tokenizer.tokenize,\n",
    "    output_mode=\"int\",\n",
    "    output_sequence_length=MAX_SEQUENCE_LENGTH,\n",
    ")\n",
    "\n",
    "preprocess_layer.set_vocabulary(vocab)"
   ]
  },
  {
   "cell_type": "code",
   "execution_count": 61,
   "id": "604e4482-2f1a-4f39-927b-a5819203c2ba",
   "metadata": {},
   "outputs": [],
   "source": [
    "export_model = tf.keras.Sequential(\n",
    "    [preprocess_layer, model, layers.Activation(\"sigmoid\")]\n",
    ")\n",
    "\n",
    "export_model.compile(\n",
    "    loss=losses.SparseCategoricalCrossentropy(from_logits=False),\n",
    "    optimizer=\"adam\",\n",
    "    metrics=[\"accuracy\"],\n",
    ")"
   ]
  },
  {
   "cell_type": "code",
   "execution_count": 62,
   "id": "6e4f377a-12b4-493b-bf63-674c247743ac",
   "metadata": {},
   "outputs": [
    {
     "name": "stderr",
     "output_type": "stream",
     "text": [
      "2023-05-19 08:10:51.000393: I tensorflow/core/common_runtime/executor.cc:1197] [/device:CPU:0] (DEBUG INFO) Executor start aborting (this does not indicate an error and you can ignore this message): INVALID_ARGUMENT: You must feed a value for placeholder tensor 'Placeholder/_0' with dtype string and shape [1]\n",
      "\t [[{{node Placeholder/_0}}]]\n",
      "2023-05-19 08:10:51.331143: I tensorflow/core/common_runtime/executor.cc:1197] [/device:CPU:0] (DEBUG INFO) Executor start aborting (this does not indicate an error and you can ignore this message): INVALID_ARGUMENT: You must feed a value for placeholder tensor 'text_vectorization_2/UnicodeScriptTokenize/RaggedGather/cond/zeros/Reshape/text_vectorization_2/UnicodeScriptTokenize/RaggedGather/strided_slice' with dtype int64\n",
      "\t [[{{node text_vectorization_2/UnicodeScriptTokenize/RaggedGather/cond/zeros/Reshape/text_vectorization_2/UnicodeScriptTokenize/RaggedGather/strided_slice}}]]\n",
      "2023-05-19 08:10:51.336467: I tensorflow/core/common_runtime/executor.cc:1197] [/device:CPU:0] (DEBUG INFO) Executor start aborting (this does not indicate an error and you can ignore this message): INVALID_ARGUMENT: You must feed a value for placeholder tensor 'text_vectorization_2/UnicodeScriptTokenize/RaggedGather/cond/cond/range/text_vectorization_2/UnicodeScriptTokenize/RaggedGather/sub_1' with dtype int64\n",
      "\t [[{{node text_vectorization_2/UnicodeScriptTokenize/RaggedGather/cond/cond/range/text_vectorization_2/UnicodeScriptTokenize/RaggedGather/sub_1}}]]\n",
      "2023-05-19 08:10:51.341702: I tensorflow/core/common_runtime/executor.cc:1197] [/device:CPU:0] (DEBUG INFO) Executor start aborting (this does not indicate an error and you can ignore this message): INVALID_ARGUMENT: You must feed a value for placeholder tensor 'text_vectorization_2/UnicodeScriptTokenize/RaggedGather/cond/cond/range/text_vectorization_2/UnicodeScriptTokenize/RaggedGather/sub_1' with dtype int64\n",
      "\t [[{{node text_vectorization_2/UnicodeScriptTokenize/RaggedGather/cond/cond/range/text_vectorization_2/UnicodeScriptTokenize/RaggedGather/sub_1}}]]\n",
      "2023-05-19 08:10:51.344319: I tensorflow/core/common_runtime/executor.cc:1197] [/device:CPU:0] (DEBUG INFO) Executor start aborting (this does not indicate an error and you can ignore this message): INVALID_ARGUMENT: You must feed a value for placeholder tensor 'text_vectorization_2/UnicodeScriptTokenize/RaggedGather/cond/cond/range_1/text_vectorization_2/UnicodeScriptTokenize/RaggedGather/strided_slice' with dtype int64\n",
      "\t [[{{node text_vectorization_2/UnicodeScriptTokenize/RaggedGather/cond/cond/range_1/text_vectorization_2/UnicodeScriptTokenize/RaggedGather/strided_slice}}]]\n",
      "2023-05-19 08:10:51.714693: I tensorflow/core/common_runtime/executor.cc:1197] [/device:CPU:0] (DEBUG INFO) Executor start aborting (this does not indicate an error and you can ignore this message): INVALID_ARGUMENT: You must feed a value for placeholder tensor 'text_vectorization_2/UnicodeScriptTokenize/RaggedGather_1/cond/zeros/Reshape/text_vectorization_2/UnicodeScriptTokenize/RaggedGather_1/strided_slice' with dtype int64\n",
      "\t [[{{node text_vectorization_2/UnicodeScriptTokenize/RaggedGather_1/cond/zeros/Reshape/text_vectorization_2/UnicodeScriptTokenize/RaggedGather_1/strided_slice}}]]\n",
      "2023-05-19 08:10:51.720472: I tensorflow/core/common_runtime/executor.cc:1197] [/device:CPU:0] (DEBUG INFO) Executor start aborting (this does not indicate an error and you can ignore this message): INVALID_ARGUMENT: You must feed a value for placeholder tensor 'text_vectorization_2/UnicodeScriptTokenize/RaggedGather_1/cond/cond/range/text_vectorization_2/UnicodeScriptTokenize/RaggedGather_1/sub_1' with dtype int64\n",
      "\t [[{{node text_vectorization_2/UnicodeScriptTokenize/RaggedGather_1/cond/cond/range/text_vectorization_2/UnicodeScriptTokenize/RaggedGather_1/sub_1}}]]\n",
      "2023-05-19 08:10:51.726347: I tensorflow/core/common_runtime/executor.cc:1197] [/device:CPU:0] (DEBUG INFO) Executor start aborting (this does not indicate an error and you can ignore this message): INVALID_ARGUMENT: You must feed a value for placeholder tensor 'text_vectorization_2/UnicodeScriptTokenize/RaggedGather_1/cond/cond/range/text_vectorization_2/UnicodeScriptTokenize/RaggedGather_1/sub_1' with dtype int64\n",
      "\t [[{{node text_vectorization_2/UnicodeScriptTokenize/RaggedGather_1/cond/cond/range/text_vectorization_2/UnicodeScriptTokenize/RaggedGather_1/sub_1}}]]\n",
      "2023-05-19 08:10:51.729494: I tensorflow/core/common_runtime/executor.cc:1197] [/device:CPU:0] (DEBUG INFO) Executor start aborting (this does not indicate an error and you can ignore this message): INVALID_ARGUMENT: You must feed a value for placeholder tensor 'text_vectorization_2/UnicodeScriptTokenize/RaggedGather_1/cond/cond/range_1/text_vectorization_2/UnicodeScriptTokenize/RaggedGather_1/strided_slice' with dtype int64\n",
      "\t [[{{node text_vectorization_2/UnicodeScriptTokenize/RaggedGather_1/cond/cond/range_1/text_vectorization_2/UnicodeScriptTokenize/RaggedGather_1/strided_slice}}]]\n",
      "2023-05-19 08:10:52.233310: I tensorflow/core/common_runtime/executor.cc:1197] [/device:CPU:0] (DEBUG INFO) Executor start aborting (this does not indicate an error and you can ignore this message): INVALID_ARGUMENT: You must feed a value for placeholder tensor 'sequential_4/text_vectorization_2/UnicodeScriptTokenize/RaggedGather/cond/zeros/Reshape/sequential_4/text_vectorization_2/UnicodeScriptTokenize/RaggedGather/strided_slice' with dtype int64\n",
      "\t [[{{node sequential_4/text_vectorization_2/UnicodeScriptTokenize/RaggedGather/cond/zeros/Reshape/sequential_4/text_vectorization_2/UnicodeScriptTokenize/RaggedGather/strided_slice}}]]\n",
      "2023-05-19 08:10:52.239799: I tensorflow/core/common_runtime/executor.cc:1197] [/device:CPU:0] (DEBUG INFO) Executor start aborting (this does not indicate an error and you can ignore this message): INVALID_ARGUMENT: You must feed a value for placeholder tensor 'sequential_4/text_vectorization_2/UnicodeScriptTokenize/RaggedGather/cond/cond/range/sequential_4/text_vectorization_2/UnicodeScriptTokenize/RaggedGather/sub_1' with dtype int64\n",
      "\t [[{{node sequential_4/text_vectorization_2/UnicodeScriptTokenize/RaggedGather/cond/cond/range/sequential_4/text_vectorization_2/UnicodeScriptTokenize/RaggedGather/sub_1}}]]\n",
      "2023-05-19 08:10:52.247028: I tensorflow/core/common_runtime/executor.cc:1197] [/device:CPU:0] (DEBUG INFO) Executor start aborting (this does not indicate an error and you can ignore this message): INVALID_ARGUMENT: You must feed a value for placeholder tensor 'sequential_4/text_vectorization_2/UnicodeScriptTokenize/RaggedGather/cond/cond/range/sequential_4/text_vectorization_2/UnicodeScriptTokenize/RaggedGather/sub_1' with dtype int64\n",
      "\t [[{{node sequential_4/text_vectorization_2/UnicodeScriptTokenize/RaggedGather/cond/cond/range/sequential_4/text_vectorization_2/UnicodeScriptTokenize/RaggedGather/sub_1}}]]\n",
      "2023-05-19 08:10:52.249520: I tensorflow/core/common_runtime/executor.cc:1197] [/device:CPU:0] (DEBUG INFO) Executor start aborting (this does not indicate an error and you can ignore this message): INVALID_ARGUMENT: You must feed a value for placeholder tensor 'sequential_4/text_vectorization_2/UnicodeScriptTokenize/RaggedGather/cond/cond/range_1/sequential_4/text_vectorization_2/UnicodeScriptTokenize/RaggedGather/strided_slice' with dtype int64\n",
      "\t [[{{node sequential_4/text_vectorization_2/UnicodeScriptTokenize/RaggedGather/cond/cond/range_1/sequential_4/text_vectorization_2/UnicodeScriptTokenize/RaggedGather/strided_slice}}]]\n",
      "2023-05-19 08:10:52.636863: I tensorflow/core/common_runtime/executor.cc:1197] [/device:CPU:0] (DEBUG INFO) Executor start aborting (this does not indicate an error and you can ignore this message): INVALID_ARGUMENT: You must feed a value for placeholder tensor 'sequential_4/text_vectorization_2/UnicodeScriptTokenize/RaggedGather_1/cond/zeros/Reshape/sequential_4/text_vectorization_2/UnicodeScriptTokenize/RaggedGather_1/strided_slice' with dtype int64\n",
      "\t [[{{node sequential_4/text_vectorization_2/UnicodeScriptTokenize/RaggedGather_1/cond/zeros/Reshape/sequential_4/text_vectorization_2/UnicodeScriptTokenize/RaggedGather_1/strided_slice}}]]\n",
      "2023-05-19 08:10:52.644871: I tensorflow/core/common_runtime/executor.cc:1197] [/device:CPU:0] (DEBUG INFO) Executor start aborting (this does not indicate an error and you can ignore this message): INVALID_ARGUMENT: You must feed a value for placeholder tensor 'sequential_4/text_vectorization_2/UnicodeScriptTokenize/RaggedGather_1/cond/cond/range/sequential_4/text_vectorization_2/UnicodeScriptTokenize/RaggedGather_1/sub_1' with dtype int64\n",
      "\t [[{{node sequential_4/text_vectorization_2/UnicodeScriptTokenize/RaggedGather_1/cond/cond/range/sequential_4/text_vectorization_2/UnicodeScriptTokenize/RaggedGather_1/sub_1}}]]\n",
      "2023-05-19 08:10:52.651271: I tensorflow/core/common_runtime/executor.cc:1197] [/device:CPU:0] (DEBUG INFO) Executor start aborting (this does not indicate an error and you can ignore this message): INVALID_ARGUMENT: You must feed a value for placeholder tensor 'sequential_4/text_vectorization_2/UnicodeScriptTokenize/RaggedGather_1/cond/cond/range/sequential_4/text_vectorization_2/UnicodeScriptTokenize/RaggedGather_1/sub_1' with dtype int64\n",
      "\t [[{{node sequential_4/text_vectorization_2/UnicodeScriptTokenize/RaggedGather_1/cond/cond/range/sequential_4/text_vectorization_2/UnicodeScriptTokenize/RaggedGather_1/sub_1}}]]\n",
      "2023-05-19 08:10:52.654451: I tensorflow/core/common_runtime/executor.cc:1197] [/device:CPU:0] (DEBUG INFO) Executor start aborting (this does not indicate an error and you can ignore this message): INVALID_ARGUMENT: You must feed a value for placeholder tensor 'sequential_4/text_vectorization_2/UnicodeScriptTokenize/RaggedGather_1/cond/cond/range_1/sequential_4/text_vectorization_2/UnicodeScriptTokenize/RaggedGather_1/strided_slice' with dtype int64\n",
      "\t [[{{node sequential_4/text_vectorization_2/UnicodeScriptTokenize/RaggedGather_1/cond/cond/range_1/sequential_4/text_vectorization_2/UnicodeScriptTokenize/RaggedGather_1/strided_slice}}]]\n",
      "2023-05-19 08:10:53.350410: I tensorflow/core/common_runtime/executor.cc:1197] [/device:CPU:0] (DEBUG INFO) Executor start aborting (this does not indicate an error and you can ignore this message): INVALID_ARGUMENT: You must feed a value for placeholder tensor 'sequential_4/text_vectorization_2/UnicodeScriptTokenize/RaggedGather/cond/zeros/Reshape/sequential_4/text_vectorization_2/UnicodeScriptTokenize/RaggedGather/strided_slice' with dtype int64\n",
      "\t [[{{node sequential_4/text_vectorization_2/UnicodeScriptTokenize/RaggedGather/cond/zeros/Reshape/sequential_4/text_vectorization_2/UnicodeScriptTokenize/RaggedGather/strided_slice}}]]\n",
      "2023-05-19 08:10:53.358247: I tensorflow/core/common_runtime/executor.cc:1197] [/device:CPU:0] (DEBUG INFO) Executor start aborting (this does not indicate an error and you can ignore this message): INVALID_ARGUMENT: You must feed a value for placeholder tensor 'sequential_4/text_vectorization_2/UnicodeScriptTokenize/RaggedGather/cond/cond/range/sequential_4/text_vectorization_2/UnicodeScriptTokenize/RaggedGather/sub_1' with dtype int64\n",
      "\t [[{{node sequential_4/text_vectorization_2/UnicodeScriptTokenize/RaggedGather/cond/cond/range/sequential_4/text_vectorization_2/UnicodeScriptTokenize/RaggedGather/sub_1}}]]\n",
      "2023-05-19 08:10:53.366085: I tensorflow/core/common_runtime/executor.cc:1197] [/device:CPU:0] (DEBUG INFO) Executor start aborting (this does not indicate an error and you can ignore this message): INVALID_ARGUMENT: You must feed a value for placeholder tensor 'sequential_4/text_vectorization_2/UnicodeScriptTokenize/RaggedGather/cond/cond/range/sequential_4/text_vectorization_2/UnicodeScriptTokenize/RaggedGather/sub_1' with dtype int64\n",
      "\t [[{{node sequential_4/text_vectorization_2/UnicodeScriptTokenize/RaggedGather/cond/cond/range/sequential_4/text_vectorization_2/UnicodeScriptTokenize/RaggedGather/sub_1}}]]\n",
      "2023-05-19 08:10:53.369786: I tensorflow/core/common_runtime/executor.cc:1197] [/device:CPU:0] (DEBUG INFO) Executor start aborting (this does not indicate an error and you can ignore this message): INVALID_ARGUMENT: You must feed a value for placeholder tensor 'sequential_4/text_vectorization_2/UnicodeScriptTokenize/RaggedGather/cond/cond/range_1/sequential_4/text_vectorization_2/UnicodeScriptTokenize/RaggedGather/strided_slice' with dtype int64\n",
      "\t [[{{node sequential_4/text_vectorization_2/UnicodeScriptTokenize/RaggedGather/cond/cond/range_1/sequential_4/text_vectorization_2/UnicodeScriptTokenize/RaggedGather/strided_slice}}]]\n",
      "2023-05-19 08:10:53.868929: I tensorflow/core/common_runtime/executor.cc:1197] [/device:CPU:0] (DEBUG INFO) Executor start aborting (this does not indicate an error and you can ignore this message): INVALID_ARGUMENT: You must feed a value for placeholder tensor 'sequential_4/text_vectorization_2/UnicodeScriptTokenize/RaggedGather_1/cond/zeros/Reshape/sequential_4/text_vectorization_2/UnicodeScriptTokenize/RaggedGather_1/strided_slice' with dtype int64\n",
      "\t [[{{node sequential_4/text_vectorization_2/UnicodeScriptTokenize/RaggedGather_1/cond/zeros/Reshape/sequential_4/text_vectorization_2/UnicodeScriptTokenize/RaggedGather_1/strided_slice}}]]\n",
      "2023-05-19 08:10:53.877065: I tensorflow/core/common_runtime/executor.cc:1197] [/device:CPU:0] (DEBUG INFO) Executor start aborting (this does not indicate an error and you can ignore this message): INVALID_ARGUMENT: You must feed a value for placeholder tensor 'sequential_4/text_vectorization_2/UnicodeScriptTokenize/RaggedGather_1/cond/cond/range/sequential_4/text_vectorization_2/UnicodeScriptTokenize/RaggedGather_1/sub_1' with dtype int64\n",
      "\t [[{{node sequential_4/text_vectorization_2/UnicodeScriptTokenize/RaggedGather_1/cond/cond/range/sequential_4/text_vectorization_2/UnicodeScriptTokenize/RaggedGather_1/sub_1}}]]\n",
      "2023-05-19 08:10:53.886041: I tensorflow/core/common_runtime/executor.cc:1197] [/device:CPU:0] (DEBUG INFO) Executor start aborting (this does not indicate an error and you can ignore this message): INVALID_ARGUMENT: You must feed a value for placeholder tensor 'sequential_4/text_vectorization_2/UnicodeScriptTokenize/RaggedGather_1/cond/cond/range/sequential_4/text_vectorization_2/UnicodeScriptTokenize/RaggedGather_1/sub_1' with dtype int64\n",
      "\t [[{{node sequential_4/text_vectorization_2/UnicodeScriptTokenize/RaggedGather_1/cond/cond/range/sequential_4/text_vectorization_2/UnicodeScriptTokenize/RaggedGather_1/sub_1}}]]\n",
      "2023-05-19 08:10:53.888964: I tensorflow/core/common_runtime/executor.cc:1197] [/device:CPU:0] (DEBUG INFO) Executor start aborting (this does not indicate an error and you can ignore this message): INVALID_ARGUMENT: You must feed a value for placeholder tensor 'sequential_4/text_vectorization_2/UnicodeScriptTokenize/RaggedGather_1/cond/cond/range_1/sequential_4/text_vectorization_2/UnicodeScriptTokenize/RaggedGather_1/strided_slice' with dtype int64\n",
      "\t [[{{node sequential_4/text_vectorization_2/UnicodeScriptTokenize/RaggedGather_1/cond/cond/range_1/sequential_4/text_vectorization_2/UnicodeScriptTokenize/RaggedGather_1/strided_slice}}]]\n"
     ]
    },
    {
     "name": "stdout",
     "output_type": "stream",
     "text": [
      "79/79 [==============================] - 6s 5ms/step - loss: 0.5040 - accuracy: 0.8002\n",
      "Loss:  0.5040056705474854\n",
      "Accuracy: 80.02%\n"
     ]
    }
   ],
   "source": [
    "test_ds = all_labeled_data.take(VALIDATION_SIZE).batch(BATCH_SIZE)\n",
    "test_ds = configure_dataset(test_ds)\n",
    "\n",
    "loss, accuracy = export_model.evaluate(test_ds)\n",
    "\n",
    "print(\"Loss: \", loss)\n",
    "print(f\"Accuracy: {accuracy:2.2%}\")"
   ]
  },
  {
   "cell_type": "markdown",
   "id": "8538e782-0d1f-450a-9e03-a82a5c21b3ef",
   "metadata": {},
   "source": [
    "### Inference"
   ]
  },
  {
   "cell_type": "code",
   "execution_count": 63,
   "id": "c53f19a6-0c65-4b0e-a07a-9c04d6d060a8",
   "metadata": {},
   "outputs": [
    {
     "name": "stderr",
     "output_type": "stream",
     "text": [
      "2023-05-19 08:10:57.682583: I tensorflow/core/common_runtime/executor.cc:1197] [/device:CPU:0] (DEBUG INFO) Executor start aborting (this does not indicate an error and you can ignore this message): INVALID_ARGUMENT: You must feed a value for placeholder tensor 'sequential_4/text_vectorization_2/UnicodeScriptTokenize/RaggedGather/cond/zeros/Reshape/sequential_4/text_vectorization_2/UnicodeScriptTokenize/RaggedGather/strided_slice' with dtype int64\n",
      "\t [[{{node sequential_4/text_vectorization_2/UnicodeScriptTokenize/RaggedGather/cond/zeros/Reshape/sequential_4/text_vectorization_2/UnicodeScriptTokenize/RaggedGather/strided_slice}}]]\n",
      "2023-05-19 08:10:57.689666: I tensorflow/core/common_runtime/executor.cc:1197] [/device:CPU:0] (DEBUG INFO) Executor start aborting (this does not indicate an error and you can ignore this message): INVALID_ARGUMENT: You must feed a value for placeholder tensor 'sequential_4/text_vectorization_2/UnicodeScriptTokenize/RaggedGather/cond/cond/range/sequential_4/text_vectorization_2/UnicodeScriptTokenize/RaggedGather/sub_1' with dtype int64\n",
      "\t [[{{node sequential_4/text_vectorization_2/UnicodeScriptTokenize/RaggedGather/cond/cond/range/sequential_4/text_vectorization_2/UnicodeScriptTokenize/RaggedGather/sub_1}}]]\n",
      "2023-05-19 08:10:57.696919: I tensorflow/core/common_runtime/executor.cc:1197] [/device:CPU:0] (DEBUG INFO) Executor start aborting (this does not indicate an error and you can ignore this message): INVALID_ARGUMENT: You must feed a value for placeholder tensor 'sequential_4/text_vectorization_2/UnicodeScriptTokenize/RaggedGather/cond/cond/range/sequential_4/text_vectorization_2/UnicodeScriptTokenize/RaggedGather/sub_1' with dtype int64\n",
      "\t [[{{node sequential_4/text_vectorization_2/UnicodeScriptTokenize/RaggedGather/cond/cond/range/sequential_4/text_vectorization_2/UnicodeScriptTokenize/RaggedGather/sub_1}}]]\n",
      "2023-05-19 08:10:57.699883: I tensorflow/core/common_runtime/executor.cc:1197] [/device:CPU:0] (DEBUG INFO) Executor start aborting (this does not indicate an error and you can ignore this message): INVALID_ARGUMENT: You must feed a value for placeholder tensor 'sequential_4/text_vectorization_2/UnicodeScriptTokenize/RaggedGather/cond/cond/range_1/sequential_4/text_vectorization_2/UnicodeScriptTokenize/RaggedGather/strided_slice' with dtype int64\n",
      "\t [[{{node sequential_4/text_vectorization_2/UnicodeScriptTokenize/RaggedGather/cond/cond/range_1/sequential_4/text_vectorization_2/UnicodeScriptTokenize/RaggedGather/strided_slice}}]]\n",
      "2023-05-19 08:10:58.066761: I tensorflow/core/common_runtime/executor.cc:1197] [/device:CPU:0] (DEBUG INFO) Executor start aborting (this does not indicate an error and you can ignore this message): INVALID_ARGUMENT: You must feed a value for placeholder tensor 'sequential_4/text_vectorization_2/UnicodeScriptTokenize/RaggedGather_1/cond/zeros/Reshape/sequential_4/text_vectorization_2/UnicodeScriptTokenize/RaggedGather_1/strided_slice' with dtype int64\n",
      "\t [[{{node sequential_4/text_vectorization_2/UnicodeScriptTokenize/RaggedGather_1/cond/zeros/Reshape/sequential_4/text_vectorization_2/UnicodeScriptTokenize/RaggedGather_1/strided_slice}}]]\n",
      "2023-05-19 08:10:58.074062: I tensorflow/core/common_runtime/executor.cc:1197] [/device:CPU:0] (DEBUG INFO) Executor start aborting (this does not indicate an error and you can ignore this message): INVALID_ARGUMENT: You must feed a value for placeholder tensor 'sequential_4/text_vectorization_2/UnicodeScriptTokenize/RaggedGather_1/cond/cond/range/sequential_4/text_vectorization_2/UnicodeScriptTokenize/RaggedGather_1/sub_1' with dtype int64\n",
      "\t [[{{node sequential_4/text_vectorization_2/UnicodeScriptTokenize/RaggedGather_1/cond/cond/range/sequential_4/text_vectorization_2/UnicodeScriptTokenize/RaggedGather_1/sub_1}}]]\n",
      "2023-05-19 08:10:58.080674: I tensorflow/core/common_runtime/executor.cc:1197] [/device:CPU:0] (DEBUG INFO) Executor start aborting (this does not indicate an error and you can ignore this message): INVALID_ARGUMENT: You must feed a value for placeholder tensor 'sequential_4/text_vectorization_2/UnicodeScriptTokenize/RaggedGather_1/cond/cond/range/sequential_4/text_vectorization_2/UnicodeScriptTokenize/RaggedGather_1/sub_1' with dtype int64\n",
      "\t [[{{node sequential_4/text_vectorization_2/UnicodeScriptTokenize/RaggedGather_1/cond/cond/range/sequential_4/text_vectorization_2/UnicodeScriptTokenize/RaggedGather_1/sub_1}}]]\n",
      "2023-05-19 08:10:58.083269: I tensorflow/core/common_runtime/executor.cc:1197] [/device:CPU:0] (DEBUG INFO) Executor start aborting (this does not indicate an error and you can ignore this message): INVALID_ARGUMENT: You must feed a value for placeholder tensor 'sequential_4/text_vectorization_2/UnicodeScriptTokenize/RaggedGather_1/cond/cond/range_1/sequential_4/text_vectorization_2/UnicodeScriptTokenize/RaggedGather_1/strided_slice' with dtype int64\n",
      "\t [[{{node sequential_4/text_vectorization_2/UnicodeScriptTokenize/RaggedGather_1/cond/cond/range_1/sequential_4/text_vectorization_2/UnicodeScriptTokenize/RaggedGather_1/strided_slice}}]]\n"
     ]
    },
    {
     "name": "stdout",
     "output_type": "stream",
     "text": [
      "1/1 [==============================] - 2s 2s/step\n",
      "Question:  Join'd to th' Ionians with their flowing robes,\n",
      "Predicted label:  1\n",
      "Question:  the allies, and his armour flashed about him so that he seemed to all\n",
      "Predicted label:  2\n",
      "Question:  And with loud clangor of his arms he fell.\n",
      "Predicted label:  0\n"
     ]
    }
   ],
   "source": [
    "inputs = [\n",
    "    \"Join'd to th' Ionians with their flowing robes,\",  # Label: 1\n",
    "    \"the allies, and his armour flashed about him so that he seemed to all\",  # Label: 2\n",
    "    \"And with loud clangor of his arms he fell.\",  # Label: 0\n",
    "]\n",
    "\n",
    "predicted_scores = export_model.predict(inputs)\n",
    "predicted_labels = tf.math.argmax(predicted_scores, axis=1)\n",
    "\n",
    "for input, label in zip(inputs, predicted_labels):\n",
    "    print(\"Question: \", input)\n",
    "    print(\"Predicted label: \", label.numpy())"
   ]
  },
  {
   "cell_type": "code",
   "execution_count": null,
   "id": "67eb485b-68e6-47ae-b0a5-8fd4242739ac",
   "metadata": {},
   "outputs": [],
   "source": []
  }
 ],
 "metadata": {
  "kernelspec": {
   "display_name": "Python 3 (ipykernel)",
   "language": "python",
   "name": "python3"
  },
  "language_info": {
   "codemirror_mode": {
    "name": "ipython",
    "version": 3
   },
   "file_extension": ".py",
   "mimetype": "text/x-python",
   "name": "python",
   "nbconvert_exporter": "python",
   "pygments_lexer": "ipython3",
   "version": "3.9.7"
  }
 },
 "nbformat": 4,
 "nbformat_minor": 5
}
