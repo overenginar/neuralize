{
 "cells": [
  {
   "cell_type": "markdown",
   "id": "956ae090-57f9-473b-b471-b85276d1d48b",
   "metadata": {},
   "source": [
    "### Importing Libs"
   ]
  },
  {
   "cell_type": "code",
   "execution_count": 4,
   "id": "f9171511-95a7-4fed-96ed-facfbc887495",
   "metadata": {},
   "outputs": [
    {
     "name": "stderr",
     "output_type": "stream",
     "text": [
      "2023-05-19 09:18:50.949704: I tensorflow/tsl/cuda/cudart_stub.cc:28] Could not find cuda drivers on your machine, GPU will not be used.\n",
      "2023-05-19 09:18:51.046773: I tensorflow/tsl/cuda/cudart_stub.cc:28] Could not find cuda drivers on your machine, GPU will not be used.\n",
      "2023-05-19 09:18:51.047641: I tensorflow/core/platform/cpu_feature_guard.cc:182] This TensorFlow binary is optimized to use available CPU instructions in performance-critical operations.\n",
      "To enable the following instructions: AVX2 FMA, in other operations, rebuild TensorFlow with the appropriate compiler flags.\n",
      "2023-05-19 09:18:52.234645: W tensorflow/compiler/tf2tensorrt/utils/py_utils.cc:38] TF-TRT Warning: Could not find TensorRT\n"
     ]
    }
   ],
   "source": [
    "import os\n",
    "import shutil\n",
    "\n",
    "import pandas as pd\n",
    "import tensorflow as tf\n",
    "from keras import Input\n",
    "from keras.layers import TextVectorization\n",
    "from tensorflow.keras.callbacks import EarlyStopping, TensorBoard\n",
    "from tensorflow.keras.layers import (\n",
    "    GRU,\n",
    "    Conv1D,\n",
    "    Dense,\n",
    "    Embedding,\n",
    "    Flatten,\n",
    "    Lambda,\n",
    ")\n",
    "from tensorflow.keras.models import Sequential\n",
    "from tensorflow.keras.utils import to_categorical"
   ]
  },
  {
   "cell_type": "code",
   "execution_count": 1,
   "id": "cc4b6a25-934d-4719-ab55-b688326b8ebf",
   "metadata": {},
   "outputs": [],
   "source": [
    "%matplotlib inline"
   ]
  },
  {
   "cell_type": "code",
   "execution_count": 7,
   "id": "1f55cbd8-a52b-4902-b16c-03d28a4e8573",
   "metadata": {},
   "outputs": [],
   "source": [
    "LOGDIR = \"./text_models\"\n",
    "DATA_DIR = \"../datasets\""
   ]
  },
  {
   "cell_type": "markdown",
   "id": "d2f7b9bb-6db6-4d0a-b163-d61770d4a880",
   "metadata": {},
   "source": [
    "### Load data"
   ]
  },
  {
   "cell_type": "code",
   "execution_count": 8,
   "id": "76e9eace-d935-4ce7-8715-d292ac33da91",
   "metadata": {},
   "outputs": [
    {
     "data": {
      "text/html": [
       "<div>\n",
       "<style scoped>\n",
       "    .dataframe tbody tr th:only-of-type {\n",
       "        vertical-align: middle;\n",
       "    }\n",
       "\n",
       "    .dataframe tbody tr th {\n",
       "        vertical-align: top;\n",
       "    }\n",
       "\n",
       "    .dataframe thead th {\n",
       "        text-align: right;\n",
       "    }\n",
       "</style>\n",
       "<table border=\"1\" class=\"dataframe\">\n",
       "  <thead>\n",
       "    <tr style=\"text-align: right;\">\n",
       "      <th></th>\n",
       "      <th>title</th>\n",
       "      <th>source</th>\n",
       "    </tr>\n",
       "  </thead>\n",
       "  <tbody>\n",
       "    <tr>\n",
       "      <th>0</th>\n",
       "      <td>holy cash cow  batman - content is back</td>\n",
       "      <td>nytimes</td>\n",
       "    </tr>\n",
       "    <tr>\n",
       "      <th>1</th>\n",
       "      <td>show hn  a simple and configurable deployment ...</td>\n",
       "      <td>github</td>\n",
       "    </tr>\n",
       "    <tr>\n",
       "      <th>2</th>\n",
       "      <td>show hn  neural turing machine in pure numpy. ...</td>\n",
       "      <td>github</td>\n",
       "    </tr>\n",
       "    <tr>\n",
       "      <th>3</th>\n",
       "      <td>close look at a flu outbreak upends some commo...</td>\n",
       "      <td>nytimes</td>\n",
       "    </tr>\n",
       "    <tr>\n",
       "      <th>4</th>\n",
       "      <td>lambdalite  a functional  relational lisp data...</td>\n",
       "      <td>github</td>\n",
       "    </tr>\n",
       "  </tbody>\n",
       "</table>\n",
       "</div>"
      ],
      "text/plain": [
       "                                               title   source\n",
       "0            holy cash cow  batman - content is back  nytimes\n",
       "1  show hn  a simple and configurable deployment ...   github\n",
       "2  show hn  neural turing machine in pure numpy. ...   github\n",
       "3  close look at a flu outbreak upends some commo...  nytimes\n",
       "4  lambdalite  a functional  relational lisp data...   github"
      ]
     },
     "execution_count": 8,
     "metadata": {},
     "output_type": "execute_result"
    }
   ],
   "source": [
    "DATASET_NAME = \"titles_full.csv\"\n",
    "TITLE_SAMPLE_PATH = os.path.join(DATA_DIR, DATASET_NAME)\n",
    "COLUMNS = [\"title\", \"source\"]\n",
    "\n",
    "titles_df = pd.read_csv(TITLE_SAMPLE_PATH, header=None, names=COLUMNS)\n",
    "titles_df.head()"
   ]
  },
  {
   "cell_type": "code",
   "execution_count": 9,
   "id": "f8b5cd9f-bcca-4e15-90d0-028685b7d06c",
   "metadata": {},
   "outputs": [],
   "source": [
    "CLASSES = {\"github\": 0, \"nytimes\": 1, \"techcrunch\": 2}\n",
    "N_CLASSES = len(CLASSES)"
   ]
  },
  {
   "cell_type": "code",
   "execution_count": 10,
   "id": "af018276-d223-4d20-9fb0-7d8567d74bd4",
   "metadata": {},
   "outputs": [],
   "source": [
    "def encode_labels(sources):\n",
    "    classes = [CLASSES[source] for source in sources]\n",
    "    one_hots = to_categorical(classes)\n",
    "    return one_hots"
   ]
  },
  {
   "cell_type": "code",
   "execution_count": 11,
   "id": "88b22244-0d5b-4104-8555-67ab37c74e8f",
   "metadata": {},
   "outputs": [
    {
     "data": {
      "text/plain": [
       "array([[0., 1.],\n",
       "       [1., 0.],\n",
       "       [1., 0.],\n",
       "       [0., 1.]], dtype=float32)"
      ]
     },
     "execution_count": 11,
     "metadata": {},
     "output_type": "execute_result"
    }
   ],
   "source": [
    "encode_labels(titles_df.source[:4])"
   ]
  },
  {
   "cell_type": "markdown",
   "id": "06a97ba6-e49a-4f2e-a313-741483c04adb",
   "metadata": {},
   "source": [
    "### Data Prep"
   ]
  },
  {
   "cell_type": "code",
   "execution_count": 13,
   "id": "fe78acc6-5a8d-488e-ba45-1f4e8edb89b7",
   "metadata": {},
   "outputs": [],
   "source": [
    "DATASET_SIZE = titles_df.shape[0]\n",
    "N_TRAIN = int(DATASET_SIZE * 0.80)\n",
    "\n",
    "titles_train, sources_train = (\n",
    "    titles_df.title[:N_TRAIN],\n",
    "    titles_df.source[:N_TRAIN],\n",
    ")\n",
    "\n",
    "titles_valid, sources_valid = (\n",
    "    titles_df.title[N_TRAIN:],\n",
    "    titles_df.source[N_TRAIN:],\n",
    ")"
   ]
  },
  {
   "cell_type": "code",
   "execution_count": 14,
   "id": "d81079b9-042f-4e52-b3da-6300b289430d",
   "metadata": {},
   "outputs": [
    {
     "data": {
      "text/plain": [
       "github        29175\n",
       "techcrunch    24784\n",
       "nytimes       23003\n",
       "Name: source, dtype: int64"
      ]
     },
     "execution_count": 14,
     "metadata": {},
     "output_type": "execute_result"
    }
   ],
   "source": [
    "sources_train.value_counts()"
   ]
  },
  {
   "cell_type": "code",
   "execution_count": 15,
   "id": "e2345d33-0bf5-449a-9ff7-6f226d3b77c5",
   "metadata": {},
   "outputs": [
    {
     "data": {
      "text/plain": [
       "github        7350\n",
       "techcrunch    6107\n",
       "nytimes       5784\n",
       "Name: source, dtype: int64"
      ]
     },
     "execution_count": 15,
     "metadata": {},
     "output_type": "execute_result"
    }
   ],
   "source": [
    "sources_valid.value_counts()"
   ]
  },
  {
   "cell_type": "code",
   "execution_count": 16,
   "id": "53be0394-6196-487f-af12-8f846f55e1bf",
   "metadata": {},
   "outputs": [],
   "source": [
    "Y_train = encode_labels(sources_train)\n",
    "Y_valid = encode_labels(sources_valid)"
   ]
  },
  {
   "cell_type": "markdown",
   "id": "43bd0f52-3fa5-4290-b873-1867bc256ed9",
   "metadata": {},
   "source": [
    "### Preprocessing"
   ]
  },
  {
   "cell_type": "code",
   "execution_count": 18,
   "id": "a3ad1dee-ada0-4c65-ae33-7a55c89dc3dc",
   "metadata": {},
   "outputs": [],
   "source": [
    "MAX_LEN = 26\n",
    "MAX_TOKENS = 20000\n",
    "\n",
    "preprocessing_layer = TextVectorization(\n",
    "    output_sequence_length=MAX_LEN, max_tokens=MAX_TOKENS\n",
    ")"
   ]
  },
  {
   "cell_type": "code",
   "execution_count": 19,
   "id": "d847db55-b88d-46a3-9102-8c3275906b57",
   "metadata": {},
   "outputs": [],
   "source": [
    "preprocessing_layer.adapt(titles_df.title)"
   ]
  },
  {
   "cell_type": "code",
   "execution_count": 20,
   "id": "2ae60777-27c4-4bb0-9600-895d0993df20",
   "metadata": {},
   "outputs": [
    {
     "data": {
      "text/plain": [
       "0              holy cash cow  batman - content is back\n",
       "1    show hn  a simple and configurable deployment ...\n",
       "2    show hn  neural turing machine in pure numpy. ...\n",
       "3    close look at a flu outbreak upends some commo...\n",
       "4    lambdalite  a functional  relational lisp data...\n",
       "Name: title, dtype: object"
      ]
     },
     "execution_count": 20,
     "metadata": {},
     "output_type": "execute_result"
    }
   ],
   "source": [
    "X_train, X_valid = titles_train, titles_valid\n",
    "X_train[:5]"
   ]
  },
  {
   "cell_type": "code",
   "execution_count": 21,
   "id": "09d6f3f2-b036-46d8-a0da-569899a63bf1",
   "metadata": {},
   "outputs": [
    {
     "data": {
      "text/plain": [
       "<tf.Tensor: shape=(5, 26), dtype=int64, numpy=\n",
       "array([[ 6236,   538,  9221,     1,   295,    14,   162,     0,     0,\n",
       "            0,     0,     0,     0,     0,     0,     0,     0,     0,\n",
       "            0,     0,     0,     0,     0,     0,     0,     0],\n",
       "       [   12,    13,     4,    47,     8,  3862,  1252,    79,     5,\n",
       "           30,   454,     0,     0,     0,     0,     0,     0,     0,\n",
       "            0,     0,     0,     0,     0,     0,     0,     0],\n",
       "       [   12,    13,  1484,  2853,   315,     6,   584,  8144,  5553,\n",
       "           75,   242,  1942,    18,  1169,     0,     0,     0,     0,\n",
       "            0,     0,     0,     0,     0,     0,     0,     0],\n",
       "       [ 1034,   304,    23,     4,  3713,  7509, 14383,   199,   678,\n",
       "         4512,     0,     0,     0,     0,     0,     0,     0,     0,\n",
       "            0,     0,     0,     0,     0,     0,     0,     0],\n",
       "       [    1,     4,   604,  4221,   553,   280,     6,  2052,   491,\n",
       "            7,   678,   553,     0,     0,     0,     0,     0,     0,\n",
       "            0,     0,     0,     0,     0,     0,     0,     0]])>"
      ]
     },
     "execution_count": 21,
     "metadata": {},
     "output_type": "execute_result"
    }
   ],
   "source": [
    "integers = preprocessing_layer(X_train[:5])\n",
    "integers"
   ]
  },
  {
   "cell_type": "code",
   "execution_count": 22,
   "id": "4f8b4d1e-d0c3-4510-9932-cb85efa6172f",
   "metadata": {},
   "outputs": [
    {
     "data": {
      "text/plain": [
       "20000"
      ]
     },
     "execution_count": 22,
     "metadata": {},
     "output_type": "execute_result"
    }
   ],
   "source": [
    "VOCAB_SIZE = len(preprocessing_layer.get_vocabulary())\n",
    "VOCAB_SIZE"
   ]
  },
  {
   "cell_type": "markdown",
   "id": "1db685a5-61a9-4041-94e6-de07e52caa2b",
   "metadata": {},
   "source": [
    "### Building DNN model"
   ]
  },
  {
   "cell_type": "code",
   "execution_count": 24,
   "id": "d8f8fcb2-7d20-4c7c-979b-fa2ce3ad3077",
   "metadata": {},
   "outputs": [],
   "source": [
    "def build_dnn_model(embed_dim):\n",
    "    model = Sequential(\n",
    "        [\n",
    "            Input(shape=(1,), dtype=tf.string),\n",
    "            preprocessing_layer,\n",
    "            Embedding(\n",
    "                VOCAB_SIZE + 1, embed_dim, input_shape=[MAX_LEN]\n",
    "            ),\n",
    "            Lambda(lambda x: tf.reduce_mean(x, axis=1)),\n",
    "            Dense(N_CLASSES, activation=\"softmax\"),\n",
    "        ]\n",
    "    )\n",
    "\n",
    "    model.compile(\n",
    "        optimizer=\"adam\", loss=\"categorical_crossentropy\", metrics=[\"accuracy\"]\n",
    "    )\n",
    "    return model"
   ]
  },
  {
   "cell_type": "code",
   "execution_count": 25,
   "id": "0c8a501b-2e31-4abc-9d47-14a1d7110dfe",
   "metadata": {},
   "outputs": [
    {
     "name": "stdout",
     "output_type": "stream",
     "text": [
      "Epoch 1/100\n",
      "257/257 [==============================] - 2s 6ms/step - loss: 1.0636 - accuracy: 0.3956 - val_loss: 1.0067 - val_accuracy: 0.5196\n",
      "Epoch 2/100\n",
      "257/257 [==============================] - 1s 5ms/step - loss: 0.9195 - accuracy: 0.6569 - val_loss: 0.8348 - val_accuracy: 0.7052\n",
      "Epoch 3/100\n",
      "257/257 [==============================] - 1s 6ms/step - loss: 0.7635 - accuracy: 0.7631 - val_loss: 0.7083 - val_accuracy: 0.7685\n",
      "Epoch 4/100\n",
      "257/257 [==============================] - 1s 5ms/step - loss: 0.6547 - accuracy: 0.7944 - val_loss: 0.6202 - val_accuracy: 0.7930\n",
      "Epoch 5/100\n",
      "257/257 [==============================] - 1s 5ms/step - loss: 0.5750 - accuracy: 0.8128 - val_loss: 0.5560 - val_accuracy: 0.8104\n",
      "Epoch 6/100\n",
      "257/257 [==============================] - 1s 6ms/step - loss: 0.5156 - accuracy: 0.8264 - val_loss: 0.5095 - val_accuracy: 0.8184\n",
      "Epoch 7/100\n",
      "257/257 [==============================] - 1s 5ms/step - loss: 0.4708 - accuracy: 0.8381 - val_loss: 0.4754 - val_accuracy: 0.8277\n",
      "Epoch 8/100\n",
      "257/257 [==============================] - 1s 5ms/step - loss: 0.4365 - accuracy: 0.8468 - val_loss: 0.4506 - val_accuracy: 0.8344\n",
      "Epoch 9/100\n",
      "257/257 [==============================] - 1s 5ms/step - loss: 0.4096 - accuracy: 0.8540 - val_loss: 0.4308 - val_accuracy: 0.8384\n",
      "Epoch 10/100\n",
      "257/257 [==============================] - 1s 5ms/step - loss: 0.3877 - accuracy: 0.8603 - val_loss: 0.4160 - val_accuracy: 0.8412\n",
      "Epoch 11/100\n",
      "257/257 [==============================] - 2s 6ms/step - loss: 0.3696 - accuracy: 0.8654 - val_loss: 0.4044 - val_accuracy: 0.8439\n",
      "Epoch 12/100\n",
      "257/257 [==============================] - 2s 6ms/step - loss: 0.3539 - accuracy: 0.8706 - val_loss: 0.3957 - val_accuracy: 0.8462\n",
      "Epoch 13/100\n",
      "257/257 [==============================] - 2s 6ms/step - loss: 0.3405 - accuracy: 0.8751 - val_loss: 0.3875 - val_accuracy: 0.8479\n",
      "Epoch 14/100\n",
      "257/257 [==============================] - 1s 5ms/step - loss: 0.3285 - accuracy: 0.8793 - val_loss: 0.3816 - val_accuracy: 0.8493\n",
      "Epoch 15/100\n",
      "257/257 [==============================] - 1s 5ms/step - loss: 0.3177 - accuracy: 0.8830 - val_loss: 0.3768 - val_accuracy: 0.8503\n",
      "Epoch 16/100\n",
      "257/257 [==============================] - 1s 6ms/step - loss: 0.3082 - accuracy: 0.8866 - val_loss: 0.3730 - val_accuracy: 0.8513\n",
      "Epoch 17/100\n",
      "257/257 [==============================] - 1s 6ms/step - loss: 0.2993 - accuracy: 0.8901 - val_loss: 0.3700 - val_accuracy: 0.8528\n",
      "Epoch 18/100\n",
      "257/257 [==============================] - 1s 5ms/step - loss: 0.2912 - accuracy: 0.8931 - val_loss: 0.3677 - val_accuracy: 0.8539\n",
      "Epoch 19/100\n",
      "257/257 [==============================] - 1s 5ms/step - loss: 0.2837 - accuracy: 0.8958 - val_loss: 0.3662 - val_accuracy: 0.8544\n",
      "Epoch 20/100\n",
      "257/257 [==============================] - 1s 5ms/step - loss: 0.2767 - accuracy: 0.8983 - val_loss: 0.3651 - val_accuracy: 0.8544\n",
      "Epoch 21/100\n",
      "257/257 [==============================] - 1s 5ms/step - loss: 0.2703 - accuracy: 0.9001 - val_loss: 0.3649 - val_accuracy: 0.8544\n",
      "Epoch 22/100\n",
      "257/257 [==============================] - 1s 5ms/step - loss: 0.2642 - accuracy: 0.9022 - val_loss: 0.3646 - val_accuracy: 0.8553\n",
      "Epoch 23/100\n",
      "257/257 [==============================] - 1s 6ms/step - loss: 0.2585 - accuracy: 0.9042 - val_loss: 0.3648 - val_accuracy: 0.8545\n",
      "Epoch 24/100\n",
      "257/257 [==============================] - 1s 5ms/step - loss: 0.2531 - accuracy: 0.9062 - val_loss: 0.3655 - val_accuracy: 0.8542\n",
      "Epoch 25/100\n",
      "257/257 [==============================] - 1s 5ms/step - loss: 0.2481 - accuracy: 0.9080 - val_loss: 0.3663 - val_accuracy: 0.8542\n",
      "Epoch 26/100\n",
      "257/257 [==============================] - 1s 5ms/step - loss: 0.2432 - accuracy: 0.9099 - val_loss: 0.3677 - val_accuracy: 0.8542\n",
      "Epoch 27/100\n",
      "257/257 [==============================] - 1s 5ms/step - loss: 0.2388 - accuracy: 0.9115 - val_loss: 0.3692 - val_accuracy: 0.8534\n",
      "Model: \"sequential\"\n",
      "_________________________________________________________________\n",
      " Layer (type)                Output Shape              Param #   \n",
      "=================================================================\n",
      " text_vectorization (TextVec  (None, 26)               0         \n",
      " torization)                                                     \n",
      "                                                                 \n",
      " embedding (Embedding)       (None, 26, 10)            200010    \n",
      "                                                                 \n",
      " lambda (Lambda)             (None, 10)                0         \n",
      "                                                                 \n",
      " dense (Dense)               (None, 3)                 33        \n",
      "                                                                 \n",
      "=================================================================\n",
      "Total params: 200,043\n",
      "Trainable params: 200,043\n",
      "Non-trainable params: 0\n",
      "_________________________________________________________________\n",
      "CPU times: user 1min 6s, sys: 15.8 s, total: 1min 22s\n",
      "Wall time: 38.5 s\n"
     ]
    },
    {
     "data": {
      "image/png": "[encoded data removed]",
      "text/plain": [
       "<Figure size 640x480 with 1 Axes>"
      ]
     },
     "metadata": {},
     "output_type": "display_data"
    },
    {
     "data": {
      "image/png": "[encoded data removed]",
      "text/plain": [
       "<Figure size 640x480 with 1 Axes>"
      ]
     },
     "metadata": {},
     "output_type": "display_data"
    }
   ],
   "source": [
    "%%time\n",
    "\n",
    "tf.random.set_seed(33)\n",
    "\n",
    "MODEL_DIR = os.path.join(LOGDIR, \"dnn\")\n",
    "shutil.rmtree(MODEL_DIR, ignore_errors=True)\n",
    "\n",
    "BATCH_SIZE = 300\n",
    "EPOCHS = 100\n",
    "EMBED_DIM = 10\n",
    "PATIENCE = 5\n",
    "\n",
    "dnn_model = build_dnn_model(embed_dim=EMBED_DIM)\n",
    "\n",
    "dnn_history = dnn_model.fit(\n",
    "    X_train,\n",
    "    Y_train,\n",
    "    epochs=EPOCHS,\n",
    "    batch_size=BATCH_SIZE,\n",
    "    validation_data=(X_valid, Y_valid),\n",
    "    callbacks=[EarlyStopping(patience=PATIENCE), TensorBoard(MODEL_DIR)],\n",
    ")\n",
    "\n",
    "pd.DataFrame(dnn_history.history)[[\"loss\", \"val_loss\"]].plot()\n",
    "pd.DataFrame(dnn_history.history)[[\"accuracy\", \"val_accuracy\"]].plot()\n",
    "\n",
    "dnn_model.summary()"
   ]
  },
  {
   "cell_type": "code",
   "execution_count": 26,
   "id": "ac80e13b-9573-4602-9684-896c856198fc",
   "metadata": {},
   "outputs": [],
   "source": [
    "def get_predictions(model, instances):\n",
    "    prediction = model.predict(instances)\n",
    "    title_prediction = list(zip(instances, prediction))\n",
    "    for line, predict in title_prediction:\n",
    "        print(\n",
    "            \"Title: {} \\nGithub:{:.2%} \\nNYTimes:{:.2%} \\nTechCrunch:{:.2%}\".format(\n",
    "                line, float(predict[0]), float(predict[1]), float(predict[2])\n",
    "            )\n",
    "        )\n"
   ]
  },
  {
   "cell_type": "code",
   "execution_count": 27,
   "id": "0e21ffbf-7c5f-4764-af39-32cc200ad492",
   "metadata": {},
   "outputs": [
    {
     "name": "stdout",
     "output_type": "stream",
     "text": [
      "1/1 [==============================] - 0s 100ms/step\n",
      "Title: holy cash cow  batman - content is back \n",
      "Github:1.13% \n",
      "NYTimes:83.05% \n",
      "TechCrunch:15.82%\n",
      "Title: show hn  a simple and configurable deployment tool for github projects \n",
      "Github:100.00% \n",
      "NYTimes:0.00% \n",
      "TechCrunch:0.00%\n",
      "Title: show hn  neural turing machine in pure numpy. implements all 5 tasks from paper \n",
      "Github:100.00% \n",
      "NYTimes:0.00% \n",
      "TechCrunch:0.00%\n",
      "Title: close look at a flu outbreak upends some common wisdom \n",
      "Github:0.16% \n",
      "NYTimes:99.62% \n",
      "TechCrunch:0.21%\n",
      "Title: lambdalite  a functional  relational lisp database in 250 lines of common lisp \n",
      "Github:100.00% \n",
      "NYTimes:0.00% \n",
      "TechCrunch:0.00%\n"
     ]
    }
   ],
   "source": [
    "get_predictions(dnn_model, X_train[:5])"
   ]
  },
  {
   "cell_type": "markdown",
   "id": "7a11f982-12a1-45b8-92c6-16cc38c9f5da",
   "metadata": {},
   "source": [
    "### Building RNN model"
   ]
  },
  {
   "cell_type": "code",
   "execution_count": 29,
   "id": "d38a7a7f-dd1f-48bf-87cb-b8083699e9ea",
   "metadata": {},
   "outputs": [],
   "source": [
    "def build_rnn_model(embed_dim, units):\n",
    "    model = Sequential(\n",
    "        [\n",
    "            Input(shape=(1,), dtype=tf.string),\n",
    "            preprocessing_layer,\n",
    "            Embedding(\n",
    "                VOCAB_SIZE + 1, embed_dim, input_shape=[MAX_LEN], mask_zero=True\n",
    "            ), \n",
    "            GRU(units), \n",
    "            Dense(N_CLASSES, activation=\"softmax\"),\n",
    "        ]\n",
    "    )\n",
    "\n",
    "    model.compile(\n",
    "        optimizer=tf.keras.optimizers.Adam(learning_rate=0.0001),\n",
    "        loss=\"categorical_crossentropy\",\n",
    "        metrics=[\"accuracy\"],\n",
    "    )\n",
    "    return model"
   ]
  },
  {
   "cell_type": "code",
   "execution_count": 30,
   "id": "602f9214-2334-42ea-96f9-77168cd4ed2d",
   "metadata": {},
   "outputs": [
    {
     "name": "stdout",
     "output_type": "stream",
     "text": [
      "Epoch 1/100\n",
      "257/257 [==============================] - 12s 32ms/step - loss: 1.0923 - accuracy: 0.3750 - val_loss: 1.0830 - val_accuracy: 0.3820\n",
      "Epoch 2/100\n",
      "257/257 [==============================] - 6s 24ms/step - loss: 1.0488 - accuracy: 0.4527 - val_loss: 0.9763 - val_accuracy: 0.5691\n",
      "Epoch 3/100\n",
      "257/257 [==============================] - 6s 22ms/step - loss: 0.8099 - accuracy: 0.6193 - val_loss: 0.7000 - val_accuracy: 0.6378\n",
      "Epoch 4/100\n",
      "257/257 [==============================] - 6s 21ms/step - loss: 0.6498 - accuracy: 0.6514 - val_loss: 0.6320 - val_accuracy: 0.6578\n",
      "Epoch 5/100\n",
      "257/257 [==============================] - 5s 21ms/step - loss: 0.5973 - accuracy: 0.6857 - val_loss: 0.5981 - val_accuracy: 0.7086\n",
      "Epoch 6/100\n",
      "257/257 [==============================] - 6s 22ms/step - loss: 0.5640 - accuracy: 0.7286 - val_loss: 0.5736 - val_accuracy: 0.7329\n",
      "Epoch 7/100\n",
      "257/257 [==============================] - 5s 21ms/step - loss: 0.5366 - accuracy: 0.7552 - val_loss: 0.5522 - val_accuracy: 0.7553\n",
      "Epoch 8/100\n",
      "257/257 [==============================] - 5s 21ms/step - loss: 0.5111 - accuracy: 0.7764 - val_loss: 0.5324 - val_accuracy: 0.7705\n",
      "Epoch 9/100\n",
      "257/257 [==============================] - 6s 23ms/step - loss: 0.4864 - accuracy: 0.7930 - val_loss: 0.5144 - val_accuracy: 0.7799\n",
      "Epoch 10/100\n",
      "257/257 [==============================] - 5s 21ms/step - loss: 0.4628 - accuracy: 0.8055 - val_loss: 0.5007 - val_accuracy: 0.7867\n",
      "Epoch 11/100\n",
      "257/257 [==============================] - 5s 21ms/step - loss: 0.4411 - accuracy: 0.8166 - val_loss: 0.4878 - val_accuracy: 0.7948\n",
      "Epoch 12/100\n",
      "257/257 [==============================] - 5s 20ms/step - loss: 0.4215 - accuracy: 0.8257 - val_loss: 0.4795 - val_accuracy: 0.7990\n",
      "Epoch 13/100\n",
      "257/257 [==============================] - 6s 22ms/step - loss: 0.4040 - accuracy: 0.8344 - val_loss: 0.4720 - val_accuracy: 0.8041\n",
      "Epoch 14/100\n",
      "257/257 [==============================] - 5s 19ms/step - loss: 0.3878 - accuracy: 0.8417 - val_loss: 0.4660 - val_accuracy: 0.8089\n",
      "Epoch 15/100\n",
      "257/257 [==============================] - 5s 20ms/step - loss: 0.3726 - accuracy: 0.8496 - val_loss: 0.4622 - val_accuracy: 0.8118\n",
      "Epoch 16/100\n",
      "257/257 [==============================] - 6s 22ms/step - loss: 0.3584 - accuracy: 0.8563 - val_loss: 0.4568 - val_accuracy: 0.8153\n",
      "Epoch 17/100\n",
      "257/257 [==============================] - 6s 22ms/step - loss: 0.3443 - accuracy: 0.8640 - val_loss: 0.4523 - val_accuracy: 0.8181\n",
      "Epoch 18/100\n",
      "257/257 [==============================] - 6s 21ms/step - loss: 0.3311 - accuracy: 0.8714 - val_loss: 0.4485 - val_accuracy: 0.8227\n",
      "Epoch 19/100\n",
      "257/257 [==============================] - 5s 20ms/step - loss: 0.3183 - accuracy: 0.8781 - val_loss: 0.4429 - val_accuracy: 0.8255\n",
      "Epoch 20/100\n",
      "257/257 [==============================] - 5s 20ms/step - loss: 0.3062 - accuracy: 0.8843 - val_loss: 0.4386 - val_accuracy: 0.8295\n",
      "Epoch 21/100\n",
      "257/257 [==============================] - 5s 19ms/step - loss: 0.2950 - accuracy: 0.8901 - val_loss: 0.4352 - val_accuracy: 0.8329\n",
      "Epoch 22/100\n",
      "257/257 [==============================] - 5s 21ms/step - loss: 0.2845 - accuracy: 0.8949 - val_loss: 0.4308 - val_accuracy: 0.8360\n",
      "Epoch 23/100\n",
      "257/257 [==============================] - 5s 21ms/step - loss: 0.2749 - accuracy: 0.8989 - val_loss: 0.4303 - val_accuracy: 0.8383\n",
      "Epoch 24/100\n",
      "257/257 [==============================] - 5s 21ms/step - loss: 0.2660 - accuracy: 0.9031 - val_loss: 0.4278 - val_accuracy: 0.8397\n",
      "Epoch 25/100\n",
      "257/257 [==============================] - 5s 19ms/step - loss: 0.2580 - accuracy: 0.9065 - val_loss: 0.4277 - val_accuracy: 0.8410\n",
      "Epoch 26/100\n",
      "257/257 [==============================] - 5s 20ms/step - loss: 0.2507 - accuracy: 0.9099 - val_loss: 0.4285 - val_accuracy: 0.8412\n",
      "Epoch 27/100\n",
      "257/257 [==============================] - 6s 22ms/step - loss: 0.2441 - accuracy: 0.9123 - val_loss: 0.4292 - val_accuracy: 0.8412\n",
      "Model: \"sequential_1\"\n",
      "_________________________________________________________________\n",
      " Layer (type)                Output Shape              Param #   \n",
      "=================================================================\n",
      " text_vectorization (TextVec  (None, 26)               0         \n",
      " torization)                                                     \n",
      "                                                                 \n",
      " embedding_1 (Embedding)     (None, 26, 10)            200010    \n",
      "                                                                 \n",
      " gru (GRU)                   (None, 16)                1344      \n",
      "                                                                 \n",
      " dense_1 (Dense)             (None, 3)                 51        \n",
      "                                                                 \n",
      "=================================================================\n",
      "Total params: 201,405\n",
      "Trainable params: 201,405\n",
      "Non-trainable params: 0\n",
      "_________________________________________________________________\n",
      "CPU times: user 5min 39s, sys: 1min 22s, total: 7min 2s\n",
      "Wall time: 2min 33s\n"
     ]
    },
    {
     "data": {
      "image/png": "[encoded data removed]",
      "text/plain": [
       "<Figure size 640x480 with 1 Axes>"
      ]
     },
     "metadata": {},
     "output_type": "display_data"
    },
    {
     "data": {
      "image/png": "[encoded data removed]",
      "text/plain": [
       "<Figure size 640x480 with 1 Axes>"
      ]
     },
     "metadata": {},
     "output_type": "display_data"
    }
   ],
   "source": [
    "%%time\n",
    "\n",
    "tf.random.set_seed(33)\n",
    "\n",
    "MODEL_DIR = os.path.join(LOGDIR, \"rnn\")\n",
    "shutil.rmtree(MODEL_DIR, ignore_errors=True)\n",
    "\n",
    "EPOCHS = 100\n",
    "BATCH_SIZE = 300\n",
    "EMBED_DIM = 10\n",
    "UNITS = 16\n",
    "PATIENCE = 2\n",
    "\n",
    "rnn_model = build_rnn_model(embed_dim=EMBED_DIM, units=UNITS)\n",
    "\n",
    "history = rnn_model.fit(\n",
    "    X_train,\n",
    "    Y_train,\n",
    "    epochs=EPOCHS,\n",
    "    batch_size=BATCH_SIZE,\n",
    "    validation_data=(X_valid, Y_valid),\n",
    "    callbacks=[EarlyStopping(patience=PATIENCE), TensorBoard(MODEL_DIR)],\n",
    ")\n",
    "\n",
    "pd.DataFrame(history.history)[[\"loss\", \"val_loss\"]].plot()\n",
    "pd.DataFrame(history.history)[[\"accuracy\", \"val_accuracy\"]].plot()\n",
    "\n",
    "rnn_model.summary()"
   ]
  },
  {
   "cell_type": "code",
   "execution_count": 31,
   "id": "4c225be0-a764-473e-8c8b-0cf3dfe26fa9",
   "metadata": {},
   "outputs": [
    {
     "name": "stdout",
     "output_type": "stream",
     "text": [
      "1/1 [==============================] - 1s 1s/step\n",
      "Title: holy cash cow  batman - content is back \n",
      "Github:6.88% \n",
      "NYTimes:81.86% \n",
      "TechCrunch:11.26%\n",
      "Title: show hn  a simple and configurable deployment tool for github projects \n",
      "Github:100.00% \n",
      "NYTimes:0.00% \n",
      "TechCrunch:0.00%\n",
      "Title: show hn  neural turing machine in pure numpy. implements all 5 tasks from paper \n",
      "Github:99.97% \n",
      "NYTimes:0.01% \n",
      "TechCrunch:0.03%\n",
      "Title: close look at a flu outbreak upends some common wisdom \n",
      "Github:0.28% \n",
      "NYTimes:98.77% \n",
      "TechCrunch:0.94%\n",
      "Title: lambdalite  a functional  relational lisp database in 250 lines of common lisp \n",
      "Github:100.00% \n",
      "NYTimes:0.00% \n",
      "TechCrunch:0.00%\n"
     ]
    }
   ],
   "source": [
    "get_predictions(rnn_model, X_train[:5])"
   ]
  },
  {
   "cell_type": "markdown",
   "id": "94d13f76-f8d7-4637-98c7-a16ad0daa001",
   "metadata": {},
   "source": [
    "### Building CNN model"
   ]
  },
  {
   "cell_type": "code",
   "execution_count": 33,
   "id": "15cb7e52-b1b3-4cc9-862f-f18aa00b197b",
   "metadata": {},
   "outputs": [],
   "source": [
    "def build_cnn_model(embed_dim, filters, ksize, strides):\n",
    "    model = Sequential(\n",
    "        [\n",
    "            Input(shape=(1,), dtype=tf.string),\n",
    "            preprocessing_layer,\n",
    "            Embedding(\n",
    "                VOCAB_SIZE + 1, embed_dim, input_shape=[MAX_LEN], mask_zero=True\n",
    "            ),\n",
    "            Conv1D(\n",
    "                filters=filters,\n",
    "                kernel_size=ksize,\n",
    "                strides=strides,\n",
    "                activation=\"relu\",\n",
    "            ),\n",
    "            Flatten(),\n",
    "            Dense(N_CLASSES, activation=\"softmax\"),\n",
    "        ]\n",
    "    )\n",
    "\n",
    "    model.compile(\n",
    "        optimizer=tf.keras.optimizers.Adam(learning_rate=0.0001),\n",
    "        loss=\"categorical_crossentropy\",\n",
    "        metrics=[\"accuracy\"],\n",
    "    )\n",
    "    return model"
   ]
  },
  {
   "cell_type": "code",
   "execution_count": 34,
   "id": "82c068e6-4bec-4cb1-82de-1b10d13e16e0",
   "metadata": {},
   "outputs": [
    {
     "name": "stdout",
     "output_type": "stream",
     "text": [
      "Epoch 1/100\n",
      "257/257 [==============================] - 3s 9ms/step - loss: 1.0804 - accuracy: 0.4062 - val_loss: 1.0407 - val_accuracy: 0.4921\n",
      "Epoch 2/100\n",
      "257/257 [==============================] - 2s 9ms/step - loss: 0.9475 - accuracy: 0.5625 - val_loss: 0.8322 - val_accuracy: 0.6217\n",
      "Epoch 3/100\n",
      "257/257 [==============================] - 2s 10ms/step - loss: 0.7329 - accuracy: 0.6629 - val_loss: 0.6637 - val_accuracy: 0.6801\n",
      "Epoch 4/100\n",
      "257/257 [==============================] - 2s 9ms/step - loss: 0.6159 - accuracy: 0.7032 - val_loss: 0.5990 - val_accuracy: 0.7049\n",
      "Epoch 5/100\n",
      "257/257 [==============================] - 2s 9ms/step - loss: 0.5626 - accuracy: 0.7290 - val_loss: 0.5626 - val_accuracy: 0.7360\n",
      "Epoch 6/100\n",
      "257/257 [==============================] - 2s 9ms/step - loss: 0.5255 - accuracy: 0.7575 - val_loss: 0.5345 - val_accuracy: 0.7570\n",
      "Epoch 7/100\n",
      "257/257 [==============================] - 2s 8ms/step - loss: 0.4930 - accuracy: 0.7807 - val_loss: 0.5095 - val_accuracy: 0.7744\n",
      "Epoch 8/100\n",
      "257/257 [==============================] - 2s 9ms/step - loss: 0.4635 - accuracy: 0.7988 - val_loss: 0.4893 - val_accuracy: 0.7876\n",
      "Epoch 9/100\n",
      "257/257 [==============================] - 2s 9ms/step - loss: 0.4375 - accuracy: 0.8144 - val_loss: 0.4711 - val_accuracy: 0.7981\n",
      "Epoch 10/100\n",
      "257/257 [==============================] - 2s 9ms/step - loss: 0.4139 - accuracy: 0.8271 - val_loss: 0.4554 - val_accuracy: 0.8080\n",
      "Epoch 11/100\n",
      "257/257 [==============================] - 3s 11ms/step - loss: 0.3917 - accuracy: 0.8391 - val_loss: 0.4411 - val_accuracy: 0.8158\n",
      "Epoch 12/100\n",
      "257/257 [==============================] - 2s 8ms/step - loss: 0.3707 - accuracy: 0.8498 - val_loss: 0.4285 - val_accuracy: 0.8228\n",
      "Epoch 13/100\n",
      "257/257 [==============================] - 2s 8ms/step - loss: 0.3510 - accuracy: 0.8594 - val_loss: 0.4165 - val_accuracy: 0.8301\n",
      "Epoch 14/100\n",
      "257/257 [==============================] - 2s 8ms/step - loss: 0.3331 - accuracy: 0.8679 - val_loss: 0.4073 - val_accuracy: 0.8344\n",
      "Epoch 15/100\n",
      "257/257 [==============================] - 2s 9ms/step - loss: 0.3169 - accuracy: 0.8749 - val_loss: 0.3999 - val_accuracy: 0.8385\n",
      "Epoch 16/100\n",
      "257/257 [==============================] - 2s 8ms/step - loss: 0.3026 - accuracy: 0.8817 - val_loss: 0.3945 - val_accuracy: 0.8408\n",
      "Epoch 17/100\n",
      "257/257 [==============================] - 2s 9ms/step - loss: 0.2894 - accuracy: 0.8871 - val_loss: 0.3907 - val_accuracy: 0.8427\n",
      "Epoch 18/100\n",
      "257/257 [==============================] - 2s 8ms/step - loss: 0.2777 - accuracy: 0.8926 - val_loss: 0.3879 - val_accuracy: 0.8453\n",
      "Epoch 19/100\n",
      "257/257 [==============================] - 2s 8ms/step - loss: 0.2671 - accuracy: 0.8973 - val_loss: 0.3865 - val_accuracy: 0.8468\n",
      "Epoch 20/100\n",
      "257/257 [==============================] - 2s 9ms/step - loss: 0.2573 - accuracy: 0.9008 - val_loss: 0.3868 - val_accuracy: 0.8470\n",
      "Epoch 21/100\n",
      "257/257 [==============================] - 2s 8ms/step - loss: 0.2486 - accuracy: 0.9046 - val_loss: 0.3868 - val_accuracy: 0.8472\n",
      "Model: \"sequential_2\"\n",
      "_________________________________________________________________\n",
      " Layer (type)                Output Shape              Param #   \n",
      "=================================================================\n",
      " text_vectorization (TextVec  (None, 26)               0         \n",
      " torization)                                                     \n",
      "                                                                 \n",
      " embedding_2 (Embedding)     (None, 26, 5)             100005    \n",
      "                                                                 \n",
      " conv1d (Conv1D)             (None, 12, 200)           3200      \n",
      "                                                                 \n",
      " flatten (Flatten)           (None, 2400)              0         \n",
      "                                                                 \n",
      " dense_2 (Dense)             (None, 3)                 7203      \n",
      "                                                                 \n",
      "=================================================================\n",
      "Total params: 110,408\n",
      "Trainable params: 110,408\n",
      "Non-trainable params: 0\n",
      "_________________________________________________________________\n",
      "CPU times: user 1min 39s, sys: 17.5 s, total: 1min 56s\n",
      "Wall time: 47.9 s\n"
     ]
    },
    {
     "data": {
      "image/png": "[encoded data removed]",
      "text/plain": [
       "<Figure size 640x480 with 1 Axes>"
      ]
     },
     "metadata": {},
     "output_type": "display_data"
    },
    {
     "data": {
      "image/png": "[encoded data removed]",
      "text/plain": [
       "<Figure size 640x480 with 1 Axes>"
      ]
     },
     "metadata": {},
     "output_type": "display_data"
    }
   ],
   "source": [
    "%%time\n",
    "\n",
    "tf.random.set_seed(33)\n",
    "\n",
    "MODEL_DIR = os.path.join(LOGDIR, \"cnn\")\n",
    "shutil.rmtree(MODEL_DIR, ignore_errors=True)\n",
    "\n",
    "EPOCHS = 100\n",
    "BATCH_SIZE = 300\n",
    "EMBED_DIM = 5\n",
    "FILTERS = 200\n",
    "STRIDES = 2\n",
    "KSIZE = 3\n",
    "PATIENCE = 2\n",
    "\n",
    "\n",
    "cnn_model = build_cnn_model(\n",
    "    embed_dim=EMBED_DIM,\n",
    "    filters=FILTERS,\n",
    "    strides=STRIDES,\n",
    "    ksize=KSIZE,\n",
    ")\n",
    "\n",
    "cnn_history = cnn_model.fit(\n",
    "    X_train,\n",
    "    Y_train,\n",
    "    epochs=EPOCHS,\n",
    "    batch_size=BATCH_SIZE,\n",
    "    validation_data=(X_valid, Y_valid),\n",
    "    callbacks=[EarlyStopping(patience=PATIENCE), TensorBoard(MODEL_DIR)],\n",
    ")\n",
    "\n",
    "pd.DataFrame(cnn_history.history)[[\"loss\", \"val_loss\"]].plot()\n",
    "pd.DataFrame(cnn_history.history)[[\"accuracy\", \"val_accuracy\"]].plot()\n",
    "\n",
    "cnn_model.summary()"
   ]
  },
  {
   "cell_type": "code",
   "execution_count": 35,
   "id": "bf7fe5d2-e907-4b0e-8722-3f617736334b",
   "metadata": {},
   "outputs": [
    {
     "name": "stdout",
     "output_type": "stream",
     "text": [
      "1/1 [==============================] - 0s 84ms/step\n",
      "Title: holy cash cow  batman - content is back \n",
      "Github:2.91% \n",
      "NYTimes:73.75% \n",
      "TechCrunch:23.35%\n",
      "Title: show hn  a simple and configurable deployment tool for github projects \n",
      "Github:100.00% \n",
      "NYTimes:0.00% \n",
      "TechCrunch:0.00%\n",
      "Title: show hn  neural turing machine in pure numpy. implements all 5 tasks from paper \n",
      "Github:100.00% \n",
      "NYTimes:0.00% \n",
      "TechCrunch:0.00%\n",
      "Title: close look at a flu outbreak upends some common wisdom \n",
      "Github:0.05% \n",
      "NYTimes:98.58% \n",
      "TechCrunch:1.36%\n",
      "Title: lambdalite  a functional  relational lisp database in 250 lines of common lisp \n",
      "Github:100.00% \n",
      "NYTimes:0.00% \n",
      "TechCrunch:0.00%\n"
     ]
    }
   ],
   "source": [
    "get_predictions(cnn_model, X_train[:5])"
   ]
  },
  {
   "cell_type": "code",
   "execution_count": null,
   "id": "9571577d-f91d-4bf5-a8a9-a8716b761e42",
   "metadata": {},
   "outputs": [],
   "source": []
  }
 ],
 "metadata": {
  "kernelspec": {
   "display_name": "Python 3 (ipykernel)",
   "language": "python",
   "name": "python3"
  },
  "language_info": {
   "codemirror_mode": {
    "name": "ipython",
    "version": 3
   },
   "file_extension": ".py",
   "mimetype": "text/x-python",
   "name": "python",
   "nbconvert_exporter": "python",
   "pygments_lexer": "ipython3",
   "version": "3.9.7"
  }
 },
 "nbformat": 4,
 "nbformat_minor": 5
}
