{
 "cells": [
  {
   "cell_type": "markdown",
   "id": "603f2127-3bce-42de-8e45-e4a0b6562f91",
   "metadata": {},
   "source": [
    "### Importing Libs"
   ]
  },
  {
   "cell_type": "code",
   "execution_count": 1,
   "id": "1782f3ee-c2f2-448c-90f4-fb10def16f6c",
   "metadata": {},
   "outputs": [
    {
     "name": "stderr",
     "output_type": "stream",
     "text": [
      "2023-05-19 14:42:07.224152: I tensorflow/tsl/cuda/cudart_stub.cc:28] Could not find cuda drivers on your machine, GPU will not be used.\n",
      "2023-05-19 14:42:07.276130: I tensorflow/tsl/cuda/cudart_stub.cc:28] Could not find cuda drivers on your machine, GPU will not be used.\n",
      "2023-05-19 14:42:07.277166: I tensorflow/core/platform/cpu_feature_guard.cc:182] This TensorFlow binary is optimized to use available CPU instructions in performance-critical operations.\n",
      "To enable the following instructions: AVX2 FMA, in other operations, rebuild TensorFlow with the appropriate compiler flags.\n",
      "2023-05-19 14:42:08.322421: W tensorflow/compiler/tf2tensorrt/utils/py_utils.cc:38] TF-TRT Warning: Could not find TensorRT\n"
     ]
    }
   ],
   "source": [
    "import os\n",
    "import shutil\n",
    "\n",
    "import matplotlib.pyplot as plt\n",
    "import numpy as np\n",
    "import tensorflow as tf\n",
    "from tensorflow.keras import Sequential\n",
    "from tensorflow.keras.callbacks import ModelCheckpoint, TensorBoard\n",
    "from tensorflow.keras.layers import Dense, Flatten, Softmax\n"
   ]
  },
  {
   "cell_type": "markdown",
   "id": "93c5dbb2-d4af-4afa-bb5e-6c38048f8d91",
   "metadata": {},
   "source": [
    "### Explore"
   ]
  },
  {
   "cell_type": "code",
   "execution_count": 2,
   "id": "ac6f5857-6756-43ee-839e-4d43d5ce1163",
   "metadata": {},
   "outputs": [],
   "source": [
    "mnist = tf.keras.datasets.mnist.load_data()\n",
    "(x_train, y_train), (x_test, y_test) = mnist"
   ]
  },
  {
   "cell_type": "code",
   "execution_count": 3,
   "id": "635f0263-9d21-423d-8d06-6f8f1429ee65",
   "metadata": {},
   "outputs": [
    {
     "name": "stdout",
     "output_type": "stream",
     "text": [
      "Image height x width is 28 x 28\n",
      "There are 10 classes\n"
     ]
    }
   ],
   "source": [
    "HEIGHT, WIDTH = x_train[0].shape\n",
    "NCLASSES = tf.size(tf.unique(y_train).y)\n",
    "print(\"Image height x width is\", HEIGHT, \"x\", WIDTH)\n",
    "tf.print(\"There are\", NCLASSES, \"classes\")"
   ]
  },
  {
   "cell_type": "code",
   "execution_count": 4,
   "id": "18ff0972-65a9-409c-aedc-83b6aa68d92b",
   "metadata": {},
   "outputs": [
    {
     "name": "stdout",
     "output_type": "stream",
     "text": [
      "The label for image number 12 is 9\n"
     ]
    },
    {
     "data": {
      "image/png": "[encoded data removed]",
      "text/plain": [
       "<Figure size 640x480 with 1 Axes>"
      ]
     },
     "metadata": {},
     "output_type": "display_data"
    }
   ],
   "source": [
    "IMGNO = 12\n",
    "plt.imshow(x_test[IMGNO].reshape(HEIGHT, WIDTH))\n",
    "print(\"The label for image number\", IMGNO, \"is\", y_test[IMGNO])"
   ]
  },
  {
   "cell_type": "markdown",
   "id": "e261cdf8-5c70-4a12-b00f-70c0dc8b69da",
   "metadata": {},
   "source": [
    "### Build model"
   ]
  },
  {
   "cell_type": "code",
   "execution_count": 5,
   "id": "cd7caeeb-3809-4d31-93a9-90f71be65cc4",
   "metadata": {},
   "outputs": [],
   "source": [
    "def linear_model():\n",
    "    model = Sequential([Flatten(), Dense(NCLASSES), Softmax()])\n",
    "\n",
    "    model.compile(\n",
    "        optimizer=\"adam\", loss=\"categorical_crossentropy\", metrics=[\"accuracy\"]\n",
    "    )\n",
    "\n",
    "    return model"
   ]
  },
  {
   "cell_type": "markdown",
   "id": "a3a0f58e-0d03-482f-8085-797a56ef2352",
   "metadata": {},
   "source": [
    "### Input pipeline"
   ]
  },
  {
   "cell_type": "code",
   "execution_count": 6,
   "id": "0dddef8a-435c-490c-a1c4-a31afb0df0f5",
   "metadata": {},
   "outputs": [],
   "source": [
    "BUFFER_SIZE = 5000\n",
    "BATCH_SIZE = 100\n",
    "\n",
    "\n",
    "def scale(image, label):\n",
    "    image = tf.cast(image, tf.float32)\n",
    "    image /= 255\n",
    "    return image, label\n",
    "\n",
    "\n",
    "def load_dataset(training=True):\n",
    "    (x_train, y_train), (x_test, y_test) = mnist\n",
    "    x = x_train if training else x_test\n",
    "    y = y_train if training else y_test\n",
    "    # One-hot encode the classes\n",
    "    y = tf.keras.utils.to_categorical(y, NCLASSES)\n",
    "    dataset = tf.data.Dataset.from_tensor_slices((x, y))\n",
    "    dataset = dataset.map(scale).batch(BATCH_SIZE)\n",
    "    if training:\n",
    "        dataset = dataset.shuffle(BUFFER_SIZE).repeat()\n",
    "    return dataset"
   ]
  },
  {
   "cell_type": "code",
   "execution_count": 7,
   "id": "62b518e1-76ca-421c-8d60-0221e2eae0ca",
   "metadata": {},
   "outputs": [
    {
     "name": "stderr",
     "output_type": "stream",
     "text": [
      "2023-05-19 14:42:10.305607: I tensorflow/core/common_runtime/executor.cc:1197] [/device:CPU:0] (DEBUG INFO) Executor start aborting (this does not indicate an error and you can ignore this message): INVALID_ARGUMENT: You must feed a value for placeholder tensor 'Placeholder/_1' with dtype float and shape [60000,10]\n",
      "\t [[{{node Placeholder/_1}}]]\n",
      "2023-05-19 14:42:10.305934: I tensorflow/core/common_runtime/executor.cc:1197] [/device:CPU:0] (DEBUG INFO) Executor start aborting (this does not indicate an error and you can ignore this message): INVALID_ARGUMENT: You must feed a value for placeholder tensor 'Placeholder/_0' with dtype uint8 and shape [60000,28,28]\n",
      "\t [[{{node Placeholder/_0}}]]\n"
     ]
    },
    {
     "name": "stdout",
     "output_type": "stream",
     "text": [
      "Test for training passed!\n",
      "Test for eval passed!\n"
     ]
    },
    {
     "name": "stderr",
     "output_type": "stream",
     "text": [
      "2023-05-19 14:42:17.240770: I tensorflow/core/common_runtime/executor.cc:1197] [/device:CPU:0] (DEBUG INFO) Executor start aborting (this does not indicate an error and you can ignore this message): INVALID_ARGUMENT: You must feed a value for placeholder tensor 'Placeholder/_1' with dtype float and shape [10000,10]\n",
      "\t [[{{node Placeholder/_1}}]]\n"
     ]
    }
   ],
   "source": [
    "def create_shape_test(training):\n",
    "    dataset = load_dataset(training=training)\n",
    "    data_iter = dataset.__iter__()\n",
    "    (images, labels) = data_iter.get_next()\n",
    "    expected_image_shape = (BATCH_SIZE, HEIGHT, WIDTH)\n",
    "    expected_label_ndim = 2\n",
    "    assert images.shape == expected_image_shape\n",
    "    assert labels.numpy().ndim == expected_label_ndim\n",
    "    test_name = \"training\" if training else \"eval\"\n",
    "    print(\"Test for\", test_name, \"passed!\")\n",
    "\n",
    "\n",
    "create_shape_test(True)\n",
    "create_shape_test(False)"
   ]
  },
  {
   "cell_type": "markdown",
   "id": "13a9f1c6-4242-4588-b093-acd66f3ba217",
   "metadata": {},
   "source": [
    "### Training"
   ]
  },
  {
   "cell_type": "code",
   "execution_count": 8,
   "id": "4163a02b-10a2-4622-b14b-5b3553145579",
   "metadata": {},
   "outputs": [
    {
     "name": "stdout",
     "output_type": "stream",
     "text": [
      "Epoch 1/10\n"
     ]
    },
    {
     "name": "stderr",
     "output_type": "stream",
     "text": [
      "2023-05-19 14:42:17.385004: I tensorflow/core/common_runtime/executor.cc:1197] [/device:CPU:0] (DEBUG INFO) Executor start aborting (this does not indicate an error and you can ignore this message): INVALID_ARGUMENT: You must feed a value for placeholder tensor 'Placeholder/_0' with dtype uint8 and shape [60000,28,28]\n",
      "\t [[{{node Placeholder/_0}}]]\n",
      "2023-05-19 14:42:17.385271: I tensorflow/core/common_runtime/executor.cc:1197] [/device:CPU:0] (DEBUG INFO) Executor start aborting (this does not indicate an error and you can ignore this message): INVALID_ARGUMENT: You must feed a value for placeholder tensor 'Placeholder/_1' with dtype float and shape [60000,10]\n",
      "\t [[{{node Placeholder/_1}}]]\n",
      "2023-05-19 14:42:24.782113: I tensorflow/core/common_runtime/executor.cc:1197] [/device:CPU:0] (DEBUG INFO) Executor start aborting (this does not indicate an error and you can ignore this message): INVALID_ARGUMENT: You must feed a value for placeholder tensor 'Placeholder/_1' with dtype float and shape [10000,10]\n",
      "\t [[{{node Placeholder/_1}}]]\n"
     ]
    },
    {
     "name": "stdout",
     "output_type": "stream",
     "text": [
      "\n",
      "Epoch 1: saving model to mnist_linear/\n",
      "100/100 - 8s - loss: 1.3345 - accuracy: 0.6641 - val_loss: 0.8045 - val_accuracy: 0.8266 - 8s/epoch - 79ms/step\n",
      "Epoch 2/10\n",
      "\n",
      "Epoch 2: saving model to mnist_linear/\n",
      "100/100 - 1s - loss: 0.6711 - accuracy: 0.8495 - val_loss: 0.5634 - val_accuracy: 0.8688 - 523ms/epoch - 5ms/step\n",
      "Epoch 3/10\n",
      "\n",
      "Epoch 3: saving model to mnist_linear/\n",
      "100/100 - 1s - loss: 0.5459 - accuracy: 0.8641 - val_loss: 0.4780 - val_accuracy: 0.8830 - 543ms/epoch - 5ms/step\n",
      "Epoch 4/10\n",
      "\n",
      "Epoch 4: saving model to mnist_linear/\n",
      "100/100 - 1s - loss: 0.4631 - accuracy: 0.8791 - val_loss: 0.4230 - val_accuracy: 0.8928 - 533ms/epoch - 5ms/step\n",
      "Epoch 5/10\n",
      "\n",
      "Epoch 5: saving model to mnist_linear/\n",
      "100/100 - 0s - loss: 0.4403 - accuracy: 0.8871 - val_loss: 0.3916 - val_accuracy: 0.8979 - 451ms/epoch - 5ms/step\n",
      "Epoch 6/10\n",
      "\n",
      "Epoch 6: saving model to mnist_linear/\n",
      "100/100 - 0s - loss: 0.4025 - accuracy: 0.8934 - val_loss: 0.3716 - val_accuracy: 0.9018 - 461ms/epoch - 5ms/step\n",
      "Epoch 7/10\n",
      "\n",
      "Epoch 7: saving model to mnist_linear/\n",
      "100/100 - 3s - loss: 0.3707 - accuracy: 0.9049 - val_loss: 0.3575 - val_accuracy: 0.9034 - 3s/epoch - 26ms/step\n",
      "Epoch 8/10\n",
      "\n",
      "Epoch 8: saving model to mnist_linear/\n",
      "100/100 - 0s - loss: 0.3687 - accuracy: 0.8977 - val_loss: 0.3418 - val_accuracy: 0.9090 - 460ms/epoch - 5ms/step\n",
      "Epoch 9/10\n",
      "\n",
      "Epoch 9: saving model to mnist_linear/\n",
      "100/100 - 0s - loss: 0.3502 - accuracy: 0.9036 - val_loss: 0.3329 - val_accuracy: 0.9102 - 440ms/epoch - 4ms/step\n",
      "Epoch 10/10\n",
      "\n",
      "Epoch 10: saving model to mnist_linear/\n",
      "100/100 - 0s - loss: 0.3406 - accuracy: 0.9081 - val_loss: 0.3261 - val_accuracy: 0.9114 - 486ms/epoch - 5ms/step\n"
     ]
    }
   ],
   "source": [
    "NUM_EPOCHS = 10\n",
    "STEPS_PER_EPOCH = 100\n",
    "\n",
    "model = linear_model()\n",
    "train_data = load_dataset()\n",
    "validation_data = load_dataset(training=False)\n",
    "\n",
    "OUTDIR = \"mnist_linear/\"\n",
    "checkpoint_callback = ModelCheckpoint(OUTDIR, save_weights_only=True, verbose=1)\n",
    "tensorboard_callback = TensorBoard(log_dir=OUTDIR)\n",
    "\n",
    "history = model.fit(\n",
    "    train_data,\n",
    "    validation_data=validation_data,\n",
    "    epochs=NUM_EPOCHS,\n",
    "    steps_per_epoch=STEPS_PER_EPOCH,\n",
    "    verbose=2,\n",
    "    callbacks=[checkpoint_callback, tensorboard_callback],\n",
    ")"
   ]
  },
  {
   "cell_type": "code",
   "execution_count": 9,
   "id": "542fd9fb-6961-4656-ab3b-d078d4acfe53",
   "metadata": {},
   "outputs": [
    {
     "name": "stdout",
     "output_type": "stream",
     "text": [
      "Test to beat benchmark accuracy passed!\n",
      "Test model accuracy is improving passed!\n",
      "Test loss is decreasing passed!\n"
     ]
    }
   ],
   "source": [
    "BENCHMARK_ERROR = 0.12\n",
    "BENCHMARK_ACCURACY = 1 - BENCHMARK_ERROR\n",
    "\n",
    "accuracy = history.history[\"accuracy\"]\n",
    "val_accuracy = history.history[\"val_accuracy\"]\n",
    "loss = history.history[\"loss\"]\n",
    "val_loss = history.history[\"val_loss\"]\n",
    "\n",
    "assert accuracy[-1] > BENCHMARK_ACCURACY\n",
    "assert val_accuracy[-1] > BENCHMARK_ACCURACY\n",
    "print(\"Test to beat benchmark accuracy passed!\")\n",
    "\n",
    "assert accuracy[0] < accuracy[1]\n",
    "assert accuracy[1] < accuracy[-1]\n",
    "assert val_accuracy[0] < val_accuracy[1]\n",
    "assert val_accuracy[1] < val_accuracy[-1]\n",
    "print(\"Test model accuracy is improving passed!\")\n",
    "\n",
    "assert loss[0] > loss[1]\n",
    "assert loss[1] > loss[-1]\n",
    "assert val_loss[0] > val_loss[1]\n",
    "assert val_loss[1] > val_loss[-1]\n",
    "print(\"Test loss is decreasing passed!\")"
   ]
  },
  {
   "cell_type": "markdown",
   "id": "35e29096-8088-40d8-843a-adc27d6c0de1",
   "metadata": {},
   "source": [
    "### Inference"
   ]
  },
  {
   "cell_type": "code",
   "execution_count": 10,
   "id": "e33bec52-293e-41ca-b298-588b1f8f436a",
   "metadata": {},
   "outputs": [
    {
     "name": "stdout",
     "output_type": "stream",
     "text": [
      "1/1 [==============================] - 0s 64ms/step\n",
      "image number: 8\n",
      "the prediction was 6\n",
      "the actual label is 5\n",
      "\n"
     ]
    },
    {
     "name": "stderr",
     "output_type": "stream",
     "text": [
      "2023-05-19 14:42:38.302391: I tensorflow/core/common_runtime/executor.cc:1197] [/device:CPU:0] (DEBUG INFO) Executor start aborting (this does not indicate an error and you can ignore this message): INVALID_ARGUMENT: You must feed a value for placeholder tensor 'Placeholder/_1' with dtype uint8 and shape [10]\n",
      "\t [[{{node Placeholder/_1}}]]\n"
     ]
    }
   ],
   "source": [
    "image_numbers = range(0, 10, 1)\n",
    "\n",
    "\n",
    "def load_prediction_dataset():\n",
    "    dataset = (x_test[image_numbers], y_test[image_numbers])\n",
    "    dataset = tf.data.Dataset.from_tensor_slices(dataset)\n",
    "    dataset = dataset.map(scale).batch(len(image_numbers))\n",
    "    return dataset\n",
    "\n",
    "\n",
    "predicted_results = model.predict(load_prediction_dataset())\n",
    "for index, prediction in enumerate(predicted_results):\n",
    "    predicted_value = np.argmax(prediction)\n",
    "    actual_value = y_test[image_numbers[index]]\n",
    "    if actual_value != predicted_value:\n",
    "        print(\"image number: \" + str(image_numbers[index]))\n",
    "        print(\"the prediction was \" + str(predicted_value))\n",
    "        print(\"the actual label is \" + str(actual_value))\n",
    "        print(\"\")"
   ]
  },
  {
   "cell_type": "code",
   "execution_count": 11,
   "id": "4e642b5a-c574-4e53-81fe-143449c7d214",
   "metadata": {},
   "outputs": [
    {
     "data": {
      "image/png": "[encoded data removed]",
      "text/plain": [
       "<Figure size 640x480 with 1 Axes>"
      ]
     },
     "metadata": {},
     "output_type": "display_data"
    }
   ],
   "source": [
    "bad_image_number = 8\n",
    "plt.imshow(x_test[bad_image_number].reshape(HEIGHT, WIDTH));"
   ]
  },
  {
   "cell_type": "code",
   "execution_count": 12,
   "id": "07d0433d-e3ec-4b99-8305-04c44a2a39a2",
   "metadata": {},
   "outputs": [
    {
     "data": {
      "text/plain": [
       "<matplotlib.image.AxesImage at 0x7f7ee84b3430>"
      ]
     },
     "execution_count": 12,
     "metadata": {},
     "output_type": "execute_result"
    },
    {
     "data": {
      "image/png": "[encoded data removed]",
      "text/plain": [
       "<Figure size 640x480 with 1 Axes>"
      ]
     },
     "metadata": {},
     "output_type": "display_data"
    }
   ],
   "source": [
    "DIGIT = 0 \n",
    "LAYER = 1 \n",
    "WEIGHT_TYPE = 0 \n",
    "\n",
    "dense_layer_weights = model.layers[LAYER].get_weights()\n",
    "digit_weights = dense_layer_weights[WEIGHT_TYPE][:, DIGIT]\n",
    "plt.imshow(digit_weights.reshape((HEIGHT, WIDTH)))"
   ]
  },
  {
   "cell_type": "code",
   "execution_count": null,
   "id": "2c635f4f-3944-41ec-805e-09f4110ca69f",
   "metadata": {},
   "outputs": [],
   "source": []
  }
 ],
 "metadata": {
  "kernelspec": {
   "display_name": "Python 3 (ipykernel)",
   "language": "python",
   "name": "python3"
  },
  "language_info": {
   "codemirror_mode": {
    "name": "ipython",
    "version": 3
   },
   "file_extension": ".py",
   "mimetype": "text/x-python",
   "name": "python",
   "nbconvert_exporter": "python",
   "pygments_lexer": "ipython3",
   "version": "3.10.9"
  }
 },
 "nbformat": 4,
 "nbformat_minor": 5
}
