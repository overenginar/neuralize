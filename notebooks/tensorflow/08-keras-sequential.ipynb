{
 "cells": [
  {
   "cell_type": "markdown",
   "id": "a5f50aad-6591-453d-a764-afeb88315437",
   "metadata": {},
   "source": [
    "### Importing Libs"
   ]
  },
  {
   "cell_type": "code",
   "execution_count": 5,
   "id": "d3c630bc-274d-4d3d-931a-6e7dec8cc2a6",
   "metadata": {},
   "outputs": [],
   "source": [
    "import datetime\n",
    "import os\n",
    "import shutil\n",
    "\n",
    "import numpy as np\n",
    "import pandas as pd\n",
    "import tensorflow as tf\n",
    "from matplotlib import pyplot as plt\n",
    "from tensorflow import keras\n",
    "from tensorflow.keras.callbacks import TensorBoard\n",
    "from tensorflow.keras.layers import Dense\n",
    "from tensorflow.keras.models import Sequential"
   ]
  },
  {
   "cell_type": "markdown",
   "id": "857a6823-d5e0-4bb5-8a41-d9093459497a",
   "metadata": {},
   "source": [
    "### Building model"
   ]
  },
  {
   "cell_type": "code",
   "execution_count": 6,
   "id": "32f4eb81-2133-4d2f-ace7-83c508676774",
   "metadata": {},
   "outputs": [],
   "source": [
    "def parse_csv(row):\n",
    "    ds = tf.strings.split(row, \",\")\n",
    "    label = tf.strings.to_number(ds[0])\n",
    "    features = tf.strings.to_number(\n",
    "        ds[2:6]\n",
    "    )  # return pickup and drop off location only\n",
    "    return features, label\n",
    "\n",
    "\n",
    "def create_dataset(pattern, batch_size):\n",
    "    ds = tf.data.TextLineDataset(pattern)\n",
    "    ds = ds.map(parse_csv).batch(batch_size)\n",
    "    return ds"
   ]
  },
  {
   "cell_type": "code",
   "execution_count": 7,
   "id": "ef5564b4-9baf-42a2-b69b-3f1527b12ffd",
   "metadata": {},
   "outputs": [],
   "source": [
    "model = Sequential(\n",
    "    [\n",
    "        Dense(\n",
    "            units=32, input_shape=(4,), activation=\"relu\", name=\"input_layer\"\n",
    "        ),\n",
    "        Dense(units=8, activation=\"relu\", name=\"hidden\"),\n",
    "        Dense(units=1, activation=\"linear\", name=\"output\"),\n",
    "    ]\n",
    ")"
   ]
  },
  {
   "cell_type": "code",
   "execution_count": 8,
   "id": "5bcfecaf-cdc7-4601-ba71-5dd6983a7d08",
   "metadata": {},
   "outputs": [],
   "source": [
    "def rmse(y_true, y_pred):\n",
    "    return tf.sqrt(tf.reduce_mean(tf.square(y_pred - y_true)))\n",
    "\n",
    "model.compile(optimizer=\"adam\", loss=\"mse\", metrics=[rmse, \"mse\"])"
   ]
  },
  {
   "cell_type": "code",
   "execution_count": 9,
   "id": "9481d02d-75c3-4073-acd1-9210d323eeb1",
   "metadata": {},
   "outputs": [],
   "source": [
    "trainds = create_dataset(pattern=\"../datasets/taxi-train.csv\", batch_size=32)\n",
    "\n",
    "evalds = create_dataset(pattern=\"../datasets/taxi-valid.csv\", batch_size=32)"
   ]
  },
  {
   "cell_type": "code",
   "execution_count": 11,
   "id": "99f52f44-e71d-46f9-8c1f-4eff85d21647",
   "metadata": {},
   "outputs": [
    {
     "name": "stdout",
     "output_type": "stream",
     "text": [
      "Epoch 1/10\n",
      "230/230 [==============================] - 1s 3ms/step - loss: 95.8884 - rmse: 9.1403 - mse: 95.8884 - val_loss: 110.2174 - val_rmse: 9.7630 - val_mse: 110.2174\n",
      "Epoch 2/10\n",
      "230/230 [==============================] - 1s 3ms/step - loss: 95.8843 - rmse: 9.1400 - mse: 95.8843 - val_loss: 110.2172 - val_rmse: 9.7630 - val_mse: 110.2172\n",
      "Epoch 3/10\n",
      "230/230 [==============================] - 1s 3ms/step - loss: 95.8794 - rmse: 9.1397 - mse: 95.8794 - val_loss: 110.2170 - val_rmse: 9.7631 - val_mse: 110.2170\n",
      "Epoch 4/10\n",
      "230/230 [==============================] - 1s 3ms/step - loss: 95.8742 - rmse: 9.1394 - mse: 95.8742 - val_loss: 110.2167 - val_rmse: 9.7630 - val_mse: 110.2167\n",
      "Epoch 5/10\n",
      "230/230 [==============================] - 1s 3ms/step - loss: 95.8686 - rmse: 9.1390 - mse: 95.8686 - val_loss: 110.2163 - val_rmse: 9.7630 - val_mse: 110.2163\n",
      "Epoch 6/10\n",
      "230/230 [==============================] - 1s 3ms/step - loss: 95.8628 - rmse: 9.1386 - mse: 95.8628 - val_loss: 110.2160 - val_rmse: 9.7629 - val_mse: 110.2160\n",
      "Epoch 7/10\n",
      "230/230 [==============================] - 1s 4ms/step - loss: 95.8570 - rmse: 9.1383 - mse: 95.8570 - val_loss: 110.2156 - val_rmse: 9.7627 - val_mse: 110.2156\n",
      "Epoch 8/10\n",
      "230/230 [==============================] - 1s 3ms/step - loss: 95.8500 - rmse: 9.1378 - mse: 95.8500 - val_loss: 110.2126 - val_rmse: 9.7622 - val_mse: 110.2126\n",
      "Epoch 9/10\n",
      "230/230 [==============================] - 1s 4ms/step - loss: 95.8374 - rmse: 9.1369 - mse: 95.8374 - val_loss: 110.2128 - val_rmse: 9.7619 - val_mse: 110.2128\n",
      "Epoch 10/10\n",
      "230/230 [==============================] - 1s 4ms/step - loss: 95.8320 - rmse: 9.1366 - mse: 95.8320 - val_loss: 110.2129 - val_rmse: 9.7616 - val_mse: 110.2129\n",
      "CPU times: user 19.2 s, sys: 3.36 s, total: 22.6 s\n",
      "Wall time: 7.9 s\n"
     ]
    }
   ],
   "source": [
    "%%time\n",
    "\n",
    "LOGDIR = \"./taxi_trained\"\n",
    "history = model.fit(\n",
    "    x=trainds,\n",
    "    epochs=10,\n",
    "    validation_data=evalds,\n",
    "    callbacks=[TensorBoard(LOGDIR)],\n",
    ")"
   ]
  },
  {
   "cell_type": "code",
   "execution_count": 13,
   "id": "0ffed405-b301-4f58-b943-40f9819ec8d4",
   "metadata": {},
   "outputs": [
    {
     "name": "stdout",
     "output_type": "stream",
     "text": [
      "Model: \"sequential\"\n",
      "_________________________________________________________________\n",
      " Layer (type)                Output Shape              Param #   \n",
      "=================================================================\n",
      " input_layer (Dense)         (None, 32)                160       \n",
      "                                                                 \n",
      " hidden (Dense)              (None, 8)                 264       \n",
      "                                                                 \n",
      " output (Dense)              (None, 1)                 9         \n",
      "                                                                 \n",
      "=================================================================\n",
      "Total params: 433\n",
      "Trainable params: 433\n",
      "Non-trainable params: 0\n",
      "_________________________________________________________________\n"
     ]
    }
   ],
   "source": [
    "model.summary()"
   ]
  },
  {
   "cell_type": "code",
   "execution_count": 12,
   "id": "2ca2de1f-2bb6-47eb-b735-9e30bac5b94f",
   "metadata": {},
   "outputs": [
    {
     "data": {
      "text/plain": [
       "<Axes: >"
      ]
     },
     "execution_count": 12,
     "metadata": {},
     "output_type": "execute_result"
    },
    {
     "data": {
      "image/png": "[encoded data removed]",
      "text/plain": [
       "<Figure size 640x480 with 1 Axes>"
      ]
     },
     "metadata": {},
     "output_type": "display_data"
    }
   ],
   "source": [
    "RMSE_COLS = [\"rmse\", \"val_rmse\"]\n",
    "\n",
    "pd.DataFrame(history.history)[RMSE_COLS].plot()"
   ]
  },
  {
   "cell_type": "code",
   "execution_count": 14,
   "id": "f57aecf3-a125-4ef5-afc2-8b072f114410",
   "metadata": {},
   "outputs": [
    {
     "data": {
      "text/plain": [
       "<Axes: >"
      ]
     },
     "execution_count": 14,
     "metadata": {},
     "output_type": "execute_result"
    },
    {
     "data": {
      "image/png": "[encoded data removed]",
      "text/plain": [
       "<Figure size 640x480 with 1 Axes>"
      ]
     },
     "metadata": {},
     "output_type": "display_data"
    }
   ],
   "source": [
    "LOSS_COLS = [\"loss\", \"val_loss\"]\n",
    "\n",
    "pd.DataFrame(history.history)[LOSS_COLS].plot()"
   ]
  },
  {
   "cell_type": "code",
   "execution_count": 15,
   "id": "90feaa60-8278-40be-85d4-3a7ade3e7049",
   "metadata": {},
   "outputs": [
    {
     "name": "stdout",
     "output_type": "stream",
     "text": [
      "1/1 [==============================] - 0s 84ms/step\n"
     ]
    },
    {
     "data": {
      "text/plain": [
       "array([[11.7257185]], dtype=float32)"
      ]
     },
     "execution_count": 15,
     "metadata": {},
     "output_type": "execute_result"
    }
   ],
   "source": [
    "model.predict([[-73.982683, 40.742104, -73.983766, 40.755174]])"
   ]
  },
  {
   "cell_type": "markdown",
   "id": "aef7887e-4ca8-4a61-9ce9-84cc63d7b880",
   "metadata": {},
   "source": [
    "### Exporting Model"
   ]
  },
  {
   "cell_type": "code",
   "execution_count": 16,
   "id": "2f787aa0-c080-47de-a81d-a92b8e80621a",
   "metadata": {},
   "outputs": [
    {
     "name": "stderr",
     "output_type": "stream",
     "text": [
      "WARNING:absl:Found untraced functions such as _update_step_xla while saving (showing 1 of 1). These functions will not be directly callable after loading.\n"
     ]
    },
    {
     "name": "stdout",
     "output_type": "stream",
     "text": [
      "INFO:tensorflow:Assets written to: ./export/savedmodel/20230518212047/assets\n"
     ]
    },
    {
     "name": "stderr",
     "output_type": "stream",
     "text": [
      "INFO:tensorflow:Assets written to: ./export/savedmodel/20230518212047/assets\n"
     ]
    }
   ],
   "source": [
    "OUTPUT_DIR = \"./export/savedmodel\"\n",
    "shutil.rmtree(OUTPUT_DIR, ignore_errors=True)\n",
    "TIMESTAMP = datetime.datetime.now().strftime(\"%Y%m%d%H%M%S\")\n",
    "\n",
    "EXPORT_PATH = os.path.join(OUTPUT_DIR, TIMESTAMP)\n",
    "\n",
    "tf.saved_model.save(model, EXPORT_PATH)"
   ]
  },
  {
   "cell_type": "code",
   "execution_count": 17,
   "id": "354abe0d-9c69-4721-a22d-8a9778069a84",
   "metadata": {},
   "outputs": [
    {
     "name": "stdout",
     "output_type": "stream",
     "text": [
      "2023-05-18 21:20:57.472459: W tensorflow/compiler/tf2tensorrt/utils/py_utils.cc:38] TF-TRT Warning: Could not find TensorRT\n",
      "The given SavedModel SignatureDef contains the following input(s):\n",
      "  inputs['input_layer_input'] tensor_info:\n",
      "      dtype: DT_FLOAT\n",
      "      shape: (-1, 4)\n",
      "      name: serving_default_input_layer_input:0\n",
      "The given SavedModel SignatureDef contains the following output(s):\n",
      "  outputs['output'] tensor_info:\n",
      "      dtype: DT_FLOAT\n",
      "      shape: (-1, 1)\n",
      "      name: StatefulPartitionedCall:0\n",
      "Method name is: tensorflow/serving/predict\n",
      "./export/savedmodel/20230518212047\n",
      "./export/savedmodel/20230518212047/variables\n",
      "./export/savedmodel/20230518212047/variables/variables.data-00000-of-00001\n",
      "./export/savedmodel/20230518212047/variables/variables.index\n",
      "./export/savedmodel/20230518212047/assets\n",
      "./export/savedmodel/20230518212047/saved_model.pb\n",
      "./export/savedmodel/20230518212047/fingerprint.pb\n"
     ]
    }
   ],
   "source": [
    "!saved_model_cli show \\\n",
    "    --tag_set serve \\\n",
    "    --signature_def serving_default \\\n",
    "    --dir {EXPORT_PATH}\n",
    "\n",
    "!find {EXPORT_PATH}\n",
    "os.environ['EXPORT_PATH'] = EXPORT_PATH"
   ]
  },
  {
   "cell_type": "code",
   "execution_count": null,
   "id": "09685855-8b28-4c64-91aa-882337f6e07d",
   "metadata": {},
   "outputs": [],
   "source": []
  }
 ],
 "metadata": {
  "kernelspec": {
   "display_name": "Python 3 (ipykernel)",
   "language": "python",
   "name": "python3"
  },
  "language_info": {
   "codemirror_mode": {
    "name": "ipython",
    "version": 3
   },
   "file_extension": ".py",
   "mimetype": "text/x-python",
   "name": "python",
   "nbconvert_exporter": "python",
   "pygments_lexer": "ipython3",
   "version": "3.9.7"
  }
 },
 "nbformat": 4,
 "nbformat_minor": 5
}
