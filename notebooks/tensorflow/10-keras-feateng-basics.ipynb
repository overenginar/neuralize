{
 "cells": [
  {
   "cell_type": "markdown",
   "id": "73ae93ce-975f-420d-b849-98fcea4ce962",
   "metadata": {},
   "source": [
    "### Importing Libs"
   ]
  },
  {
   "cell_type": "code",
   "execution_count": 8,
   "id": "65f54cc5-f4fc-4ca4-93b4-051b36acc875",
   "metadata": {},
   "outputs": [],
   "source": [
    "import os\n",
    "\n",
    "import matplotlib.pyplot as plt\n",
    "import pandas as pd\n",
    "import tensorflow\n",
    "import tensorflow as tf\n",
    "from sklearn.model_selection import train_test_split\n",
    "from tensorflow import feature_column as fc\n",
    "from tensorflow.keras import layers"
   ]
  },
  {
   "cell_type": "markdown",
   "id": "c056f66a-0cbd-4fd7-875d-dce339568961",
   "metadata": {},
   "source": [
    "### Importing Data"
   ]
  },
  {
   "cell_type": "code",
   "execution_count": 5,
   "id": "092f9cca-d8a9-4a1e-979b-b3e4d9664f05",
   "metadata": {},
   "outputs": [
    {
     "data": {
      "text/html": [
       "<div>\n",
       "<style scoped>\n",
       "    .dataframe tbody tr th:only-of-type {\n",
       "        vertical-align: middle;\n",
       "    }\n",
       "\n",
       "    .dataframe tbody tr th {\n",
       "        vertical-align: top;\n",
       "    }\n",
       "\n",
       "    .dataframe thead th {\n",
       "        text-align: right;\n",
       "    }\n",
       "</style>\n",
       "<table border=\"1\" class=\"dataframe\">\n",
       "  <thead>\n",
       "    <tr style=\"text-align: right;\">\n",
       "      <th></th>\n",
       "      <th>longitude</th>\n",
       "      <th>latitude</th>\n",
       "      <th>housing_median_age</th>\n",
       "      <th>total_rooms</th>\n",
       "      <th>total_bedrooms</th>\n",
       "      <th>population</th>\n",
       "      <th>households</th>\n",
       "      <th>median_income</th>\n",
       "      <th>median_house_value</th>\n",
       "      <th>ocean_proximity</th>\n",
       "    </tr>\n",
       "  </thead>\n",
       "  <tbody>\n",
       "    <tr>\n",
       "      <th>0</th>\n",
       "      <td>-122.23</td>\n",
       "      <td>37.88</td>\n",
       "      <td>41.0</td>\n",
       "      <td>880.0</td>\n",
       "      <td>129.0</td>\n",
       "      <td>322.0</td>\n",
       "      <td>126.0</td>\n",
       "      <td>8.3252</td>\n",
       "      <td>452600.0</td>\n",
       "      <td>NEAR BAY</td>\n",
       "    </tr>\n",
       "    <tr>\n",
       "      <th>1</th>\n",
       "      <td>-122.22</td>\n",
       "      <td>37.86</td>\n",
       "      <td>21.0</td>\n",
       "      <td>7099.0</td>\n",
       "      <td>1106.0</td>\n",
       "      <td>2401.0</td>\n",
       "      <td>1138.0</td>\n",
       "      <td>8.3014</td>\n",
       "      <td>358500.0</td>\n",
       "      <td>NEAR BAY</td>\n",
       "    </tr>\n",
       "    <tr>\n",
       "      <th>2</th>\n",
       "      <td>-122.24</td>\n",
       "      <td>37.85</td>\n",
       "      <td>52.0</td>\n",
       "      <td>1467.0</td>\n",
       "      <td>190.0</td>\n",
       "      <td>496.0</td>\n",
       "      <td>177.0</td>\n",
       "      <td>7.2574</td>\n",
       "      <td>352100.0</td>\n",
       "      <td>NEAR BAY</td>\n",
       "    </tr>\n",
       "    <tr>\n",
       "      <th>3</th>\n",
       "      <td>-122.25</td>\n",
       "      <td>37.85</td>\n",
       "      <td>52.0</td>\n",
       "      <td>1274.0</td>\n",
       "      <td>235.0</td>\n",
       "      <td>558.0</td>\n",
       "      <td>219.0</td>\n",
       "      <td>5.6431</td>\n",
       "      <td>341300.0</td>\n",
       "      <td>NEAR BAY</td>\n",
       "    </tr>\n",
       "    <tr>\n",
       "      <th>4</th>\n",
       "      <td>-122.25</td>\n",
       "      <td>37.85</td>\n",
       "      <td>52.0</td>\n",
       "      <td>1627.0</td>\n",
       "      <td>280.0</td>\n",
       "      <td>565.0</td>\n",
       "      <td>259.0</td>\n",
       "      <td>3.8462</td>\n",
       "      <td>342200.0</td>\n",
       "      <td>NEAR BAY</td>\n",
       "    </tr>\n",
       "  </tbody>\n",
       "</table>\n",
       "</div>"
      ],
      "text/plain": [
       "   longitude  latitude  housing_median_age  total_rooms  total_bedrooms  \\\n",
       "0    -122.23     37.88                41.0        880.0           129.0   \n",
       "1    -122.22     37.86                21.0       7099.0          1106.0   \n",
       "2    -122.24     37.85                52.0       1467.0           190.0   \n",
       "3    -122.25     37.85                52.0       1274.0           235.0   \n",
       "4    -122.25     37.85                52.0       1627.0           280.0   \n",
       "\n",
       "   population  households  median_income  median_house_value ocean_proximity  \n",
       "0       322.0       126.0         8.3252            452600.0        NEAR BAY  \n",
       "1      2401.0      1138.0         8.3014            358500.0        NEAR BAY  \n",
       "2       496.0       177.0         7.2574            352100.0        NEAR BAY  \n",
       "3       558.0       219.0         5.6431            341300.0        NEAR BAY  \n",
       "4       565.0       259.0         3.8462            342200.0        NEAR BAY  "
      ]
     },
     "execution_count": 5,
     "metadata": {},
     "output_type": "execute_result"
    }
   ],
   "source": [
    "housing_df = pd.read_csv(\"../datasets/housing_pre-proc.csv\", on_bad_lines=\"skip\")\n",
    "housing_df.head()"
   ]
  },
  {
   "cell_type": "code",
   "execution_count": 6,
   "id": "5995b659-11f3-4100-904b-0d2958b06757",
   "metadata": {},
   "outputs": [
    {
     "data": {
      "text/html": [
       "<div>\n",
       "<style scoped>\n",
       "    .dataframe tbody tr th:only-of-type {\n",
       "        vertical-align: middle;\n",
       "    }\n",
       "\n",
       "    .dataframe tbody tr th {\n",
       "        vertical-align: top;\n",
       "    }\n",
       "\n",
       "    .dataframe thead th {\n",
       "        text-align: right;\n",
       "    }\n",
       "</style>\n",
       "<table border=\"1\" class=\"dataframe\">\n",
       "  <thead>\n",
       "    <tr style=\"text-align: right;\">\n",
       "      <th></th>\n",
       "      <th>longitude</th>\n",
       "      <th>latitude</th>\n",
       "      <th>housing_median_age</th>\n",
       "      <th>total_rooms</th>\n",
       "      <th>total_bedrooms</th>\n",
       "      <th>population</th>\n",
       "      <th>households</th>\n",
       "      <th>median_income</th>\n",
       "      <th>median_house_value</th>\n",
       "    </tr>\n",
       "  </thead>\n",
       "  <tbody>\n",
       "    <tr>\n",
       "      <th>count</th>\n",
       "      <td>20433.000000</td>\n",
       "      <td>20433.000000</td>\n",
       "      <td>20433.000000</td>\n",
       "      <td>20433.000000</td>\n",
       "      <td>20433.000000</td>\n",
       "      <td>20433.000000</td>\n",
       "      <td>20433.000000</td>\n",
       "      <td>20433.000000</td>\n",
       "      <td>20433.000000</td>\n",
       "    </tr>\n",
       "    <tr>\n",
       "      <th>mean</th>\n",
       "      <td>-119.570689</td>\n",
       "      <td>35.633221</td>\n",
       "      <td>28.633094</td>\n",
       "      <td>2636.504233</td>\n",
       "      <td>537.870553</td>\n",
       "      <td>1424.946949</td>\n",
       "      <td>499.433465</td>\n",
       "      <td>3.871162</td>\n",
       "      <td>206864.413155</td>\n",
       "    </tr>\n",
       "    <tr>\n",
       "      <th>std</th>\n",
       "      <td>2.003578</td>\n",
       "      <td>2.136348</td>\n",
       "      <td>12.591805</td>\n",
       "      <td>2185.269567</td>\n",
       "      <td>421.385070</td>\n",
       "      <td>1133.208490</td>\n",
       "      <td>382.299226</td>\n",
       "      <td>1.899291</td>\n",
       "      <td>115435.667099</td>\n",
       "    </tr>\n",
       "    <tr>\n",
       "      <th>min</th>\n",
       "      <td>-124.350000</td>\n",
       "      <td>32.540000</td>\n",
       "      <td>1.000000</td>\n",
       "      <td>2.000000</td>\n",
       "      <td>1.000000</td>\n",
       "      <td>3.000000</td>\n",
       "      <td>1.000000</td>\n",
       "      <td>0.499900</td>\n",
       "      <td>14999.000000</td>\n",
       "    </tr>\n",
       "    <tr>\n",
       "      <th>25%</th>\n",
       "      <td>-121.800000</td>\n",
       "      <td>33.930000</td>\n",
       "      <td>18.000000</td>\n",
       "      <td>1450.000000</td>\n",
       "      <td>296.000000</td>\n",
       "      <td>787.000000</td>\n",
       "      <td>280.000000</td>\n",
       "      <td>2.563700</td>\n",
       "      <td>119500.000000</td>\n",
       "    </tr>\n",
       "    <tr>\n",
       "      <th>50%</th>\n",
       "      <td>-118.490000</td>\n",
       "      <td>34.260000</td>\n",
       "      <td>29.000000</td>\n",
       "      <td>2127.000000</td>\n",
       "      <td>435.000000</td>\n",
       "      <td>1166.000000</td>\n",
       "      <td>409.000000</td>\n",
       "      <td>3.536500</td>\n",
       "      <td>179700.000000</td>\n",
       "    </tr>\n",
       "    <tr>\n",
       "      <th>75%</th>\n",
       "      <td>-118.010000</td>\n",
       "      <td>37.720000</td>\n",
       "      <td>37.000000</td>\n",
       "      <td>3143.000000</td>\n",
       "      <td>647.000000</td>\n",
       "      <td>1722.000000</td>\n",
       "      <td>604.000000</td>\n",
       "      <td>4.744000</td>\n",
       "      <td>264700.000000</td>\n",
       "    </tr>\n",
       "    <tr>\n",
       "      <th>max</th>\n",
       "      <td>-114.310000</td>\n",
       "      <td>41.950000</td>\n",
       "      <td>52.000000</td>\n",
       "      <td>39320.000000</td>\n",
       "      <td>6445.000000</td>\n",
       "      <td>35682.000000</td>\n",
       "      <td>6082.000000</td>\n",
       "      <td>15.000100</td>\n",
       "      <td>500001.000000</td>\n",
       "    </tr>\n",
       "  </tbody>\n",
       "</table>\n",
       "</div>"
      ],
      "text/plain": [
       "          longitude      latitude  housing_median_age   total_rooms  \\\n",
       "count  20433.000000  20433.000000        20433.000000  20433.000000   \n",
       "mean    -119.570689     35.633221           28.633094   2636.504233   \n",
       "std        2.003578      2.136348           12.591805   2185.269567   \n",
       "min     -124.350000     32.540000            1.000000      2.000000   \n",
       "25%     -121.800000     33.930000           18.000000   1450.000000   \n",
       "50%     -118.490000     34.260000           29.000000   2127.000000   \n",
       "75%     -118.010000     37.720000           37.000000   3143.000000   \n",
       "max     -114.310000     41.950000           52.000000  39320.000000   \n",
       "\n",
       "       total_bedrooms    population    households  median_income  \\\n",
       "count    20433.000000  20433.000000  20433.000000   20433.000000   \n",
       "mean       537.870553   1424.946949    499.433465       3.871162   \n",
       "std        421.385070   1133.208490    382.299226       1.899291   \n",
       "min          1.000000      3.000000      1.000000       0.499900   \n",
       "25%        296.000000    787.000000    280.000000       2.563700   \n",
       "50%        435.000000   1166.000000    409.000000       3.536500   \n",
       "75%        647.000000   1722.000000    604.000000       4.744000   \n",
       "max       6445.000000  35682.000000   6082.000000      15.000100   \n",
       "\n",
       "       median_house_value  \n",
       "count        20433.000000  \n",
       "mean        206864.413155  \n",
       "std         115435.667099  \n",
       "min          14999.000000  \n",
       "25%         119500.000000  \n",
       "50%         179700.000000  \n",
       "75%         264700.000000  \n",
       "max         500001.000000  "
      ]
     },
     "execution_count": 6,
     "metadata": {},
     "output_type": "execute_result"
    }
   ],
   "source": [
    "housing_df.describe()"
   ]
  },
  {
   "cell_type": "markdown",
   "id": "c61fadeb-014e-44df-aabd-50873fe26e89",
   "metadata": {},
   "source": [
    "### Splitting Data"
   ]
  },
  {
   "cell_type": "code",
   "execution_count": 10,
   "id": "f5fd8f6d-5b91-40dd-88d7-4ce62bd9da4f",
   "metadata": {},
   "outputs": [
    {
     "name": "stdout",
     "output_type": "stream",
     "text": [
      "13076 train examples\n",
      "3270 validation examples\n",
      "4087 test examples\n"
     ]
    }
   ],
   "source": [
    "train, test = train_test_split(housing_df, test_size=0.2)\n",
    "train, val = train_test_split(train, test_size=0.2)\n",
    "\n",
    "print(len(train), \"train examples\")\n",
    "print(len(val), \"validation examples\")\n",
    "print(len(test), \"test examples\")"
   ]
  },
  {
   "cell_type": "code",
   "execution_count": 12,
   "id": "548cb8b2-f425-4adf-9a0e-decff762b834",
   "metadata": {},
   "outputs": [],
   "source": [
    "train.to_csv(\"../datasets/housing-train.csv\", encoding=\"utf-8\", index=False)"
   ]
  },
  {
   "cell_type": "code",
   "execution_count": 13,
   "id": "9fdbb0f2-ee5c-43ad-8bf6-4dc5a0ad7a7f",
   "metadata": {},
   "outputs": [],
   "source": [
    "val.to_csv(\"../datasets/housing-val.csv\", encoding=\"utf-8\", index=False)"
   ]
  },
  {
   "cell_type": "code",
   "execution_count": 14,
   "id": "f33206cf-3d10-4a6a-8900-97d4f65bf6b2",
   "metadata": {},
   "outputs": [],
   "source": [
    "test.to_csv(\"../datasets/housing-test.csv\", encoding=\"utf-8\", index=False)"
   ]
  },
  {
   "cell_type": "markdown",
   "id": "d87f852f-0172-48b8-8d1e-30d997e6f142",
   "metadata": {},
   "source": [
    "### Input pipeline"
   ]
  },
  {
   "cell_type": "code",
   "execution_count": 16,
   "id": "085ad3ed-1e52-4ecf-9d9e-c78c95543f8d",
   "metadata": {},
   "outputs": [],
   "source": [
    "def df_to_dataset(dataframe, shuffle=True, batch_size=32):\n",
    "    dataframe = dataframe.copy()\n",
    "    labels = dataframe.pop(\"median_house_value\")\n",
    "    ds = tf.data.Dataset.from_tensor_slices((dict(dataframe), labels))\n",
    "    if shuffle:\n",
    "        ds = ds.shuffle(buffer_size=len(dataframe))\n",
    "    ds = ds.batch(batch_size)\n",
    "    return ds"
   ]
  },
  {
   "cell_type": "code",
   "execution_count": 17,
   "id": "07b014b0-f5c9-47ae-94cc-a8b423bac783",
   "metadata": {},
   "outputs": [],
   "source": [
    "batch_size = 32\n",
    "train_ds = df_to_dataset(train)\n",
    "val_ds = df_to_dataset(val, shuffle=False, batch_size=batch_size)"
   ]
  },
  {
   "cell_type": "code",
   "execution_count": 18,
   "id": "abe9e927-1f81-49cf-99fb-b0b1b963645a",
   "metadata": {},
   "outputs": [
    {
     "name": "stdout",
     "output_type": "stream",
     "text": [
      "Every feature: ['longitude', 'latitude', 'housing_median_age', 'total_rooms', 'total_bedrooms', 'population', 'households', 'median_income', 'ocean_proximity']\n",
      "A batch of households: tf.Tensor(\n",
      "[381. 335. 484. 778. 841. 669. 689. 433. 988. 228. 324. 470. 325. 316.\n",
      " 166. 384. 292. 284. 202. 571. 666. 627. 342. 538. 199. 428. 919. 766.\n",
      " 474. 477. 155. 290.], shape=(32,), dtype=float64)\n",
      "A batch of ocean_proximity: tf.Tensor(\n",
      "[b'NEAR OCEAN' b'INLAND' b'<1H OCEAN' b'INLAND' b'<1H OCEAN' b'NEAR BAY'\n",
      " b'<1H OCEAN' b'<1H OCEAN' b'<1H OCEAN' b'INLAND' b'<1H OCEAN'\n",
      " b'<1H OCEAN' b'<1H OCEAN' b'INLAND' b'NEAR BAY' b'<1H OCEAN' b'INLAND'\n",
      " b'<1H OCEAN' b'NEAR BAY' b'NEAR OCEAN' b'<1H OCEAN' b'INLAND'\n",
      " b'<1H OCEAN' b'NEAR BAY' b'INLAND' b'<1H OCEAN' b'INLAND' b'INLAND'\n",
      " b'INLAND' b'<1H OCEAN' b'INLAND' b'NEAR OCEAN'], shape=(32,), dtype=string)\n",
      "A batch of targets: tf.Tensor(\n",
      "[129700. 119800. 500001.  88300. 248300. 475000. 123800. 120400. 391200.\n",
      " 193800. 394900. 159500. 254400.  59100. 207100. 279200.  50500. 235500.\n",
      " 446200.  80500. 235500. 118500.  93400. 179900. 179500. 335900.  75400.\n",
      " 141300. 115200. 209100. 116100. 225000.], shape=(32,), dtype=float64)\n"
     ]
    },
    {
     "name": "stderr",
     "output_type": "stream",
     "text": [
      "2023-05-18 21:44:25.144377: I tensorflow/core/common_runtime/executor.cc:1197] [/device:CPU:0] (DEBUG INFO) Executor start aborting (this does not indicate an error and you can ignore this message): INVALID_ARGUMENT: You must feed a value for placeholder tensor 'Placeholder/_9' with dtype double and shape [13076]\n",
      "\t [[{{node Placeholder/_9}}]]\n",
      "2023-05-18 21:44:25.144989: I tensorflow/core/common_runtime/executor.cc:1197] [/device:CPU:0] (DEBUG INFO) Executor start aborting (this does not indicate an error and you can ignore this message): INVALID_ARGUMENT: You must feed a value for placeholder tensor 'Placeholder/_9' with dtype double and shape [13076]\n",
      "\t [[{{node Placeholder/_9}}]]\n"
     ]
    }
   ],
   "source": [
    "for feature_batch, label_batch in train_ds.take(1):\n",
    "    print(\"Every feature:\", list(feature_batch.keys()))\n",
    "    print(\"A batch of households:\", feature_batch[\"households\"])\n",
    "    print(\"A batch of ocean_proximity:\", feature_batch[\"ocean_proximity\"])\n",
    "    print(\"A batch of targets:\", label_batch)"
   ]
  },
  {
   "cell_type": "code",
   "execution_count": 19,
   "id": "b5ecce61-d73b-4972-a579-664412cb493c",
   "metadata": {},
   "outputs": [],
   "source": [
    "numeric_cols = [\n",
    "    \"longitude\",\n",
    "    \"latitude\",\n",
    "    \"housing_median_age\",\n",
    "    \"total_rooms\",\n",
    "    \"total_bedrooms\",\n",
    "    \"population\",\n",
    "    \"households\",\n",
    "    \"median_income\",\n",
    "]"
   ]
  },
  {
   "cell_type": "code",
   "execution_count": 20,
   "id": "c7759a4c-94de-4525-b2f9-405f48684b06",
   "metadata": {},
   "outputs": [],
   "source": [
    "def get_scal(feature):\n",
    "    def minmax(x):\n",
    "        mini = train[feature].min()\n",
    "        maxi = train[feature].max()\n",
    "        return (x - mini) / (maxi - mini)\n",
    "\n",
    "    return minmax"
   ]
  },
  {
   "cell_type": "code",
   "execution_count": 21,
   "id": "3d59c74d-f3d9-4918-8db0-c4bf32430139",
   "metadata": {},
   "outputs": [
    {
     "name": "stdout",
     "output_type": "stream",
     "text": [
      "WARNING:tensorflow:From /tmp/ipykernel_87/1115079708.py:5: numeric_column (from tensorflow.python.feature_column.feature_column_v2) is deprecated and will be removed in a future version.\n",
      "Instructions for updating:\n",
      "Use Keras preprocessing layers instead, either directly or via the `tf.keras.utils.FeatureSpace` utility. Each of `tf.feature_column.*` has a functional equivalent in `tf.keras.layers` for feature preprocessing when training a Keras model.\n"
     ]
    }
   ],
   "source": [
    "feature_columns = []\n",
    "for header in numeric_cols:\n",
    "    scal_input_fn = get_scal(header)\n",
    "    feature_columns.append(\n",
    "        fc.numeric_column(header, normalizer_fn=scal_input_fn)\n",
    "    )"
   ]
  },
  {
   "cell_type": "code",
   "execution_count": 22,
   "id": "3dca67f4-7c98-4984-aedc-3d43de9b9395",
   "metadata": {},
   "outputs": [
    {
     "name": "stdout",
     "output_type": "stream",
     "text": [
      "Total number of feature columns:  8\n"
     ]
    }
   ],
   "source": [
    "print(\"Total number of feature columns: \", len(feature_columns))"
   ]
  },
  {
   "cell_type": "markdown",
   "id": "a88e95cd-0e01-4402-bfea-7179a28923f8",
   "metadata": {},
   "source": [
    "### Training pipeline"
   ]
  },
  {
   "cell_type": "code",
   "execution_count": 26,
   "id": "9056d32e-6043-426b-9c63-9252b397fb38",
   "metadata": {},
   "outputs": [
    {
     "name": "stdout",
     "output_type": "stream",
     "text": [
      "Epoch 1/32\n",
      "WARNING:tensorflow:Layers in a Sequential model should only have a single input tensor. Received: inputs={'longitude': <tf.Tensor 'IteratorGetNext:3' shape=(None,) dtype=float64>, 'latitude': <tf.Tensor 'IteratorGetNext:2' shape=(None,) dtype=float64>, 'housing_median_age': <tf.Tensor 'IteratorGetNext:1' shape=(None,) dtype=float64>, 'total_rooms': <tf.Tensor 'IteratorGetNext:8' shape=(None,) dtype=float64>, 'total_bedrooms': <tf.Tensor 'IteratorGetNext:7' shape=(None,) dtype=float64>, 'population': <tf.Tensor 'IteratorGetNext:6' shape=(None,) dtype=float64>, 'households': <tf.Tensor 'IteratorGetNext:0' shape=(None,) dtype=float64>, 'median_income': <tf.Tensor 'IteratorGetNext:4' shape=(None,) dtype=float64>, 'ocean_proximity': <tf.Tensor 'IteratorGetNext:5' shape=(None,) dtype=string>}. Consider rewriting this model with the Functional API.\n"
     ]
    },
    {
     "name": "stderr",
     "output_type": "stream",
     "text": [
      "2023-05-18 21:47:17.071262: I tensorflow/core/common_runtime/executor.cc:1197] [/device:CPU:0] (DEBUG INFO) Executor start aborting (this does not indicate an error and you can ignore this message): INVALID_ARGUMENT: You must feed a value for placeholder tensor 'Placeholder/_8' with dtype double and shape [13076]\n",
      "\t [[{{node Placeholder/_8}}]]\n",
      "2023-05-18 21:47:17.072026: I tensorflow/core/common_runtime/executor.cc:1197] [/device:CPU:0] (DEBUG INFO) Executor start aborting (this does not indicate an error and you can ignore this message): INVALID_ARGUMENT: You must feed a value for placeholder tensor 'Placeholder/_6' with dtype double and shape [13076]\n",
      "\t [[{{node Placeholder/_6}}]]\n"
     ]
    },
    {
     "name": "stdout",
     "output_type": "stream",
     "text": [
      "WARNING:tensorflow:Layers in a Sequential model should only have a single input tensor. Received: inputs={'longitude': <tf.Tensor 'IteratorGetNext:3' shape=(None,) dtype=float64>, 'latitude': <tf.Tensor 'IteratorGetNext:2' shape=(None,) dtype=float64>, 'housing_median_age': <tf.Tensor 'IteratorGetNext:1' shape=(None,) dtype=float64>, 'total_rooms': <tf.Tensor 'IteratorGetNext:8' shape=(None,) dtype=float64>, 'total_bedrooms': <tf.Tensor 'IteratorGetNext:7' shape=(None,) dtype=float64>, 'population': <tf.Tensor 'IteratorGetNext:6' shape=(None,) dtype=float64>, 'households': <tf.Tensor 'IteratorGetNext:0' shape=(None,) dtype=float64>, 'median_income': <tf.Tensor 'IteratorGetNext:4' shape=(None,) dtype=float64>, 'ocean_proximity': <tf.Tensor 'IteratorGetNext:5' shape=(None,) dtype=string>}. Consider rewriting this model with the Functional API.\n",
      "401/409 [============================>.] - ETA: 0s - loss: 55934631936.0000 - mse: 55934631936.0000WARNING:tensorflow:Layers in a Sequential model should only have a single input tensor. Received: inputs={'longitude': <tf.Tensor 'IteratorGetNext:3' shape=(None,) dtype=float64>, 'latitude': <tf.Tensor 'IteratorGetNext:2' shape=(None,) dtype=float64>, 'housing_median_age': <tf.Tensor 'IteratorGetNext:1' shape=(None,) dtype=float64>, 'total_rooms': <tf.Tensor 'IteratorGetNext:8' shape=(None,) dtype=float64>, 'total_bedrooms': <tf.Tensor 'IteratorGetNext:7' shape=(None,) dtype=float64>, 'population': <tf.Tensor 'IteratorGetNext:6' shape=(None,) dtype=float64>, 'households': <tf.Tensor 'IteratorGetNext:0' shape=(None,) dtype=float64>, 'median_income': <tf.Tensor 'IteratorGetNext:4' shape=(None,) dtype=float64>, 'ocean_proximity': <tf.Tensor 'IteratorGetNext:5' shape=(None,) dtype=string>}. Consider rewriting this model with the Functional API.\n"
     ]
    },
    {
     "name": "stderr",
     "output_type": "stream",
     "text": [
      "2023-05-18 21:47:18.659572: I tensorflow/core/common_runtime/executor.cc:1197] [/device:CPU:0] (DEBUG INFO) Executor start aborting (this does not indicate an error and you can ignore this message): INVALID_ARGUMENT: You must feed a value for placeholder tensor 'Placeholder/_9' with dtype double and shape [3270]\n",
      "\t [[{{node Placeholder/_9}}]]\n"
     ]
    },
    {
     "name": "stdout",
     "output_type": "stream",
     "text": [
      "409/409 [==============================] - 2s 3ms/step - loss: 55987236864.0000 - mse: 55987236864.0000 - val_loss: 57273798656.0000 - val_mse: 57273798656.0000\n",
      "Epoch 2/32\n",
      "409/409 [==============================] - 1s 2ms/step - loss: 55939514368.0000 - mse: 55939514368.0000 - val_loss: 57172815872.0000 - val_mse: 57172815872.0000\n",
      "Epoch 3/32\n",
      "409/409 [==============================] - 1s 2ms/step - loss: 55762350080.0000 - mse: 55762350080.0000 - val_loss: 56908640256.0000 - val_mse: 56908640256.0000\n",
      "Epoch 4/32\n",
      "409/409 [==============================] - 1s 2ms/step - loss: 55398948864.0000 - mse: 55398948864.0000 - val_loss: 56428740608.0000 - val_mse: 56428740608.0000\n",
      "Epoch 5/32\n",
      "409/409 [==============================] - 1s 2ms/step - loss: 54794506240.0000 - mse: 54794506240.0000 - val_loss: 55691780096.0000 - val_mse: 55691780096.0000\n",
      "Epoch 6/32\n",
      "409/409 [==============================] - 1s 2ms/step - loss: 53930512384.0000 - mse: 53930512384.0000 - val_loss: 54689107968.0000 - val_mse: 54689107968.0000\n",
      "Epoch 7/32\n",
      "409/409 [==============================] - 1s 2ms/step - loss: 52801769472.0000 - mse: 52801769472.0000 - val_loss: 53420384256.0000 - val_mse: 53420384256.0000\n",
      "Epoch 8/32\n",
      "409/409 [==============================] - 1s 3ms/step - loss: 51410563072.0000 - mse: 51410563072.0000 - val_loss: 51890323456.0000 - val_mse: 51890323456.0000\n",
      "Epoch 9/32\n",
      "409/409 [==============================] - 1s 3ms/step - loss: 49767452672.0000 - mse: 49767452672.0000 - val_loss: 50114297856.0000 - val_mse: 50114297856.0000\n",
      "Epoch 10/32\n",
      "409/409 [==============================] - 1s 2ms/step - loss: 47855382528.0000 - mse: 47855382528.0000 - val_loss: 48036397056.0000 - val_mse: 48036397056.0000\n",
      "Epoch 11/32\n",
      "409/409 [==============================] - 1s 2ms/step - loss: 45669261312.0000 - mse: 45669261312.0000 - val_loss: 45720678400.0000 - val_mse: 45720678400.0000\n",
      "Epoch 12/32\n",
      "409/409 [==============================] - 1s 2ms/step - loss: 43265875968.0000 - mse: 43265875968.0000 - val_loss: 43202019328.0000 - val_mse: 43202019328.0000\n",
      "Epoch 13/32\n",
      "409/409 [==============================] - 1s 2ms/step - loss: 40681725952.0000 - mse: 40681725952.0000 - val_loss: 40519790592.0000 - val_mse: 40519790592.0000\n",
      "Epoch 14/32\n",
      "409/409 [==============================] - 1s 2ms/step - loss: 37956923392.0000 - mse: 37956923392.0000 - val_loss: 37717540864.0000 - val_mse: 37717540864.0000\n",
      "Epoch 15/32\n",
      "409/409 [==============================] - 1s 2ms/step - loss: 35142066176.0000 - mse: 35142066176.0000 - val_loss: 34846552064.0000 - val_mse: 34846552064.0000\n",
      "Epoch 16/32\n",
      "409/409 [==============================] - 1s 3ms/step - loss: 32278681600.0000 - mse: 32278681600.0000 - val_loss: 31949127680.0000 - val_mse: 31949127680.0000\n",
      "Epoch 17/32\n",
      "409/409 [==============================] - 1s 2ms/step - loss: 29425747968.0000 - mse: 29425747968.0000 - val_loss: 29090289664.0000 - val_mse: 29090289664.0000\n",
      "Epoch 18/32\n",
      "409/409 [==============================] - 1s 2ms/step - loss: 26642323456.0000 - mse: 26642323456.0000 - val_loss: 26329960448.0000 - val_mse: 26329960448.0000\n",
      "Epoch 19/32\n",
      "409/409 [==============================] - 1s 2ms/step - loss: 23988455424.0000 - mse: 23988455424.0000 - val_loss: 23720531968.0000 - val_mse: 23720531968.0000\n",
      "Epoch 20/32\n",
      "409/409 [==============================] - 1s 2ms/step - loss: 21523128320.0000 - mse: 21523128320.0000 - val_loss: 21335279616.0000 - val_mse: 21335279616.0000\n",
      "Epoch 21/32\n",
      "409/409 [==============================] - 1s 2ms/step - loss: 19298826240.0000 - mse: 19298826240.0000 - val_loss: 19208001536.0000 - val_mse: 19208001536.0000\n",
      "Epoch 22/32\n",
      "409/409 [==============================] - 1s 2ms/step - loss: 17363904512.0000 - mse: 17363904512.0000 - val_loss: 17395503104.0000 - val_mse: 17395503104.0000\n",
      "Epoch 23/32\n",
      "409/409 [==============================] - 1s 2ms/step - loss: 15756681216.0000 - mse: 15756681216.0000 - val_loss: 15919754240.0000 - val_mse: 15919754240.0000\n",
      "Epoch 24/32\n",
      "409/409 [==============================] - 1s 2ms/step - loss: 14485958656.0000 - mse: 14485958656.0000 - val_loss: 14777229312.0000 - val_mse: 14777229312.0000\n",
      "Epoch 25/32\n",
      "409/409 [==============================] - 1s 2ms/step - loss: 13545703424.0000 - mse: 13545703424.0000 - val_loss: 13958360064.0000 - val_mse: 13958360064.0000\n",
      "Epoch 26/32\n",
      "409/409 [==============================] - 1s 2ms/step - loss: 12906279936.0000 - mse: 12906279936.0000 - val_loss: 13422711808.0000 - val_mse: 13422711808.0000\n",
      "Epoch 27/32\n",
      "409/409 [==============================] - 1s 2ms/step - loss: 12516336640.0000 - mse: 12516336640.0000 - val_loss: 13102842880.0000 - val_mse: 13102842880.0000\n",
      "Epoch 28/32\n",
      "409/409 [==============================] - 1s 2ms/step - loss: 12295235584.0000 - mse: 12295235584.0000 - val_loss: 12920186880.0000 - val_mse: 12920186880.0000\n",
      "Epoch 29/32\n",
      "409/409 [==============================] - 1s 2ms/step - loss: 12175469568.0000 - mse: 12175469568.0000 - val_loss: 12815974400.0000 - val_mse: 12815974400.0000\n",
      "Epoch 30/32\n",
      "409/409 [==============================] - 1s 2ms/step - loss: 12106184704.0000 - mse: 12106184704.0000 - val_loss: 12750477312.0000 - val_mse: 12750477312.0000\n",
      "Epoch 31/32\n",
      "409/409 [==============================] - 1s 2ms/step - loss: 12056378368.0000 - mse: 12056378368.0000 - val_loss: 12696775680.0000 - val_mse: 12696775680.0000\n",
      "Epoch 32/32\n",
      "409/409 [==============================] - 1s 2ms/step - loss: 12012193792.0000 - mse: 12012193792.0000 - val_loss: 12648481792.0000 - val_mse: 12648481792.0000\n"
     ]
    }
   ],
   "source": [
    "feature_layer = tf.keras.layers.DenseFeatures(feature_columns, dtype=\"float64\")\n",
    "\n",
    "model = tf.keras.Sequential(\n",
    "    [\n",
    "        feature_layer,\n",
    "        layers.Dense(12, activation=\"relu\"),\n",
    "        layers.Dense(8, activation=\"relu\"),\n",
    "        layers.Dense(1, activation=\"linear\", name=\"median_house_value\"),\n",
    "    ]\n",
    ")\n",
    "\n",
    "model.compile(optimizer=\"adam\", loss=\"mse\", metrics=[\"mse\"])\n",
    "\n",
    "history = model.fit(train_ds, validation_data=val_ds, epochs=32)"
   ]
  },
  {
   "cell_type": "code",
   "execution_count": 27,
   "id": "8753c6de-24a4-4c4b-a591-e9fb03944b67",
   "metadata": {},
   "outputs": [
    {
     "name": "stdout",
     "output_type": "stream",
     "text": [
      "409/409 [==============================] - 1s 2ms/step - loss: 11989786624.0000 - mse: 11989786624.0000\n",
      "Mean Squared Error 11989786624.0\n"
     ]
    }
   ],
   "source": [
    "loss, mse = model.evaluate(train_ds)\n",
    "print(\"Mean Squared Error\", mse)"
   ]
  },
  {
   "cell_type": "code",
   "execution_count": 29,
   "id": "a47f85e6-7bba-4d74-a44b-140e84fe1186",
   "metadata": {},
   "outputs": [],
   "source": [
    "def plot_curves(history, metrics):\n",
    "    nrows = 1\n",
    "    ncols = 2\n",
    "    fig = plt.figure(figsize=(10, 5))\n",
    "\n",
    "    for idx, key in enumerate(metrics):\n",
    "        ax = fig.add_subplot(nrows, ncols, idx + 1)\n",
    "        plt.plot(history.history[key])\n",
    "        plt.plot(history.history[f\"val_{key}\"])\n",
    "        plt.title(f\"model {key}\")\n",
    "        plt.ylabel(key)\n",
    "        plt.xlabel(\"epoch\")\n",
    "        plt.legend([\"train\", \"validation\"], loc=\"upper left\");\n"
   ]
  },
  {
   "cell_type": "code",
   "execution_count": 30,
   "id": "d2b94deb-c72c-4915-a014-a9dcbfff28d2",
   "metadata": {},
   "outputs": [
    {
     "data": {
      "image/png": "[encoded data removed]",
      "text/plain": [
       "<Figure size 1000x500 with 2 Axes>"
      ]
     },
     "metadata": {},
     "output_type": "display_data"
    }
   ],
   "source": [
    "plot_curves(history, [\"loss\", \"mse\"])"
   ]
  },
  {
   "cell_type": "markdown",
   "id": "503369af-ac85-4d5e-8504-c47123a136e5",
   "metadata": {},
   "source": [
    "### Inference"
   ]
  },
  {
   "cell_type": "code",
   "execution_count": 33,
   "id": "04e4417a-513b-440d-b7d9-a099306427f1",
   "metadata": {},
   "outputs": [
    {
     "data": {
      "text/html": [
       "<div>\n",
       "<style scoped>\n",
       "    .dataframe tbody tr th:only-of-type {\n",
       "        vertical-align: middle;\n",
       "    }\n",
       "\n",
       "    .dataframe tbody tr th {\n",
       "        vertical-align: top;\n",
       "    }\n",
       "\n",
       "    .dataframe thead th {\n",
       "        text-align: right;\n",
       "    }\n",
       "</style>\n",
       "<table border=\"1\" class=\"dataframe\">\n",
       "  <thead>\n",
       "    <tr style=\"text-align: right;\">\n",
       "      <th></th>\n",
       "      <th>longitude</th>\n",
       "      <th>latitude</th>\n",
       "      <th>housing_median_age</th>\n",
       "      <th>total_rooms</th>\n",
       "      <th>total_bedrooms</th>\n",
       "      <th>population</th>\n",
       "      <th>households</th>\n",
       "      <th>median_income</th>\n",
       "      <th>median_house_value</th>\n",
       "    </tr>\n",
       "  </thead>\n",
       "  <tbody>\n",
       "    <tr>\n",
       "      <th>count</th>\n",
       "      <td>4087.000000</td>\n",
       "      <td>4087.000000</td>\n",
       "      <td>4087.000000</td>\n",
       "      <td>4087.000000</td>\n",
       "      <td>4087.000000</td>\n",
       "      <td>4087.000000</td>\n",
       "      <td>4087.000000</td>\n",
       "      <td>4087.000000</td>\n",
       "      <td>4087.000000</td>\n",
       "    </tr>\n",
       "    <tr>\n",
       "      <th>mean</th>\n",
       "      <td>-119.571150</td>\n",
       "      <td>35.635486</td>\n",
       "      <td>28.301199</td>\n",
       "      <td>2681.711769</td>\n",
       "      <td>549.207732</td>\n",
       "      <td>1454.778077</td>\n",
       "      <td>510.865427</td>\n",
       "      <td>3.893144</td>\n",
       "      <td>206285.705897</td>\n",
       "    </tr>\n",
       "    <tr>\n",
       "      <th>std</th>\n",
       "      <td>2.001987</td>\n",
       "      <td>2.147947</td>\n",
       "      <td>12.645165</td>\n",
       "      <td>2214.885366</td>\n",
       "      <td>439.090422</td>\n",
       "      <td>1206.447712</td>\n",
       "      <td>402.513817</td>\n",
       "      <td>1.888429</td>\n",
       "      <td>114198.600470</td>\n",
       "    </tr>\n",
       "    <tr>\n",
       "      <th>min</th>\n",
       "      <td>-124.300000</td>\n",
       "      <td>32.540000</td>\n",
       "      <td>2.000000</td>\n",
       "      <td>16.000000</td>\n",
       "      <td>3.000000</td>\n",
       "      <td>8.000000</td>\n",
       "      <td>2.000000</td>\n",
       "      <td>0.499900</td>\n",
       "      <td>14999.000000</td>\n",
       "    </tr>\n",
       "    <tr>\n",
       "      <th>25%</th>\n",
       "      <td>-121.820000</td>\n",
       "      <td>33.940000</td>\n",
       "      <td>18.000000</td>\n",
       "      <td>1451.000000</td>\n",
       "      <td>293.000000</td>\n",
       "      <td>788.000000</td>\n",
       "      <td>278.000000</td>\n",
       "      <td>2.601750</td>\n",
       "      <td>120650.000000</td>\n",
       "    </tr>\n",
       "    <tr>\n",
       "      <th>50%</th>\n",
       "      <td>-118.490000</td>\n",
       "      <td>34.260000</td>\n",
       "      <td>28.000000</td>\n",
       "      <td>2163.000000</td>\n",
       "      <td>439.000000</td>\n",
       "      <td>1175.000000</td>\n",
       "      <td>411.000000</td>\n",
       "      <td>3.565200</td>\n",
       "      <td>178600.000000</td>\n",
       "    </tr>\n",
       "    <tr>\n",
       "      <th>75%</th>\n",
       "      <td>-118.010000</td>\n",
       "      <td>37.730000</td>\n",
       "      <td>37.000000</td>\n",
       "      <td>3187.500000</td>\n",
       "      <td>654.500000</td>\n",
       "      <td>1757.000000</td>\n",
       "      <td>613.500000</td>\n",
       "      <td>4.784900</td>\n",
       "      <td>264550.000000</td>\n",
       "    </tr>\n",
       "    <tr>\n",
       "      <th>max</th>\n",
       "      <td>-114.550000</td>\n",
       "      <td>41.810000</td>\n",
       "      <td>52.000000</td>\n",
       "      <td>32627.000000</td>\n",
       "      <td>6445.000000</td>\n",
       "      <td>28566.000000</td>\n",
       "      <td>6082.000000</td>\n",
       "      <td>15.000100</td>\n",
       "      <td>500001.000000</td>\n",
       "    </tr>\n",
       "  </tbody>\n",
       "</table>\n",
       "</div>"
      ],
      "text/plain": [
       "         longitude     latitude  housing_median_age   total_rooms  \\\n",
       "count  4087.000000  4087.000000         4087.000000   4087.000000   \n",
       "mean   -119.571150    35.635486           28.301199   2681.711769   \n",
       "std       2.001987     2.147947           12.645165   2214.885366   \n",
       "min    -124.300000    32.540000            2.000000     16.000000   \n",
       "25%    -121.820000    33.940000           18.000000   1451.000000   \n",
       "50%    -118.490000    34.260000           28.000000   2163.000000   \n",
       "75%    -118.010000    37.730000           37.000000   3187.500000   \n",
       "max    -114.550000    41.810000           52.000000  32627.000000   \n",
       "\n",
       "       total_bedrooms    population   households  median_income  \\\n",
       "count     4087.000000   4087.000000  4087.000000    4087.000000   \n",
       "mean       549.207732   1454.778077   510.865427       3.893144   \n",
       "std        439.090422   1206.447712   402.513817       1.888429   \n",
       "min          3.000000      8.000000     2.000000       0.499900   \n",
       "25%        293.000000    788.000000   278.000000       2.601750   \n",
       "50%        439.000000   1175.000000   411.000000       3.565200   \n",
       "75%        654.500000   1757.000000   613.500000       4.784900   \n",
       "max       6445.000000  28566.000000  6082.000000      15.000100   \n",
       "\n",
       "       median_house_value  \n",
       "count         4087.000000  \n",
       "mean        206285.705897  \n",
       "std         114198.600470  \n",
       "min          14999.000000  \n",
       "25%         120650.000000  \n",
       "50%         178600.000000  \n",
       "75%         264550.000000  \n",
       "max         500001.000000  "
      ]
     },
     "execution_count": 33,
     "metadata": {},
     "output_type": "execute_result"
    }
   ],
   "source": [
    "test_data = pd.read_csv(\"../datasets/housing-test.csv\")\n",
    "test_data.describe()"
   ]
  },
  {
   "cell_type": "code",
   "execution_count": 34,
   "id": "a633ae80-c6d6-46ad-9246-5a02e0c79926",
   "metadata": {},
   "outputs": [],
   "source": [
    "def test_input_fn(features, batch_size=256):\n",
    "    return tf.data.Dataset.from_tensor_slices(dict(features)).batch(batch_size)"
   ]
  },
  {
   "cell_type": "code",
   "execution_count": 35,
   "id": "5a46cacf-4b84-4ebb-962d-7113babb300d",
   "metadata": {},
   "outputs": [],
   "source": [
    "test_predict = test_input_fn(dict(test_data))"
   ]
  },
  {
   "cell_type": "code",
   "execution_count": 36,
   "id": "fbf7e909-cbbf-4c60-bef0-9463d633068e",
   "metadata": {},
   "outputs": [
    {
     "name": "stdout",
     "output_type": "stream",
     "text": [
      "WARNING:tensorflow:Layers in a Sequential model should only have a single input tensor. Received: inputs={'longitude': <tf.Tensor 'IteratorGetNext:3' shape=(None,) dtype=float64>, 'latitude': <tf.Tensor 'IteratorGetNext:2' shape=(None,) dtype=float64>, 'housing_median_age': <tf.Tensor 'IteratorGetNext:1' shape=(None,) dtype=float64>, 'total_rooms': <tf.Tensor 'IteratorGetNext:9' shape=(None,) dtype=float64>, 'total_bedrooms': <tf.Tensor 'IteratorGetNext:8' shape=(None,) dtype=float64>, 'population': <tf.Tensor 'IteratorGetNext:7' shape=(None,) dtype=float64>, 'households': <tf.Tensor 'IteratorGetNext:0' shape=(None,) dtype=float64>, 'median_income': <tf.Tensor 'IteratorGetNext:5' shape=(None,) dtype=float64>, 'median_house_value': <tf.Tensor 'IteratorGetNext:4' shape=(None,) dtype=float64>, 'ocean_proximity': <tf.Tensor 'IteratorGetNext:6' shape=(None,) dtype=string>}. Consider rewriting this model with the Functional API.\n",
      " 1/16 [>.............................] - ETA: 2s"
     ]
    },
    {
     "name": "stderr",
     "output_type": "stream",
     "text": [
      "2023-05-18 21:48:38.829473: I tensorflow/core/common_runtime/executor.cc:1197] [/device:CPU:0] (DEBUG INFO) Executor start aborting (this does not indicate an error and you can ignore this message): INVALID_ARGUMENT: You must feed a value for placeholder tensor 'Placeholder/_3' with dtype double and shape [4087]\n",
      "\t [[{{node Placeholder/_3}}]]\n"
     ]
    },
    {
     "name": "stdout",
     "output_type": "stream",
     "text": [
      "16/16 [==============================] - 0s 2ms/step\n"
     ]
    }
   ],
   "source": [
    "predicted_median_house_value = model.predict(test_predict)"
   ]
  },
  {
   "cell_type": "code",
   "execution_count": 37,
   "id": "17a17865-3dfc-4448-b523-d84f2cb111fe",
   "metadata": {},
   "outputs": [
    {
     "name": "stdout",
     "output_type": "stream",
     "text": [
      "WARNING:tensorflow:Layers in a Sequential model should only have a single input tensor. Received: inputs={'longitude': <tf.Tensor 'IteratorGetNext:3' shape=(1,) dtype=float32>, 'latitude': <tf.Tensor 'IteratorGetNext:2' shape=(1,) dtype=float32>, 'housing_median_age': <tf.Tensor 'IteratorGetNext:1' shape=(1,) dtype=float32>, 'total_rooms': <tf.Tensor 'IteratorGetNext:8' shape=(1,) dtype=float32>, 'total_bedrooms': <tf.Tensor 'IteratorGetNext:7' shape=(1,) dtype=float32>, 'population': <tf.Tensor 'IteratorGetNext:6' shape=(1,) dtype=float32>, 'households': <tf.Tensor 'IteratorGetNext:0' shape=(1,) dtype=float32>, 'median_income': <tf.Tensor 'IteratorGetNext:4' shape=(1,) dtype=float32>, 'ocean_proximity': <tf.Tensor 'IteratorGetNext:5' shape=(1,) dtype=string>}. Consider rewriting this model with the Functional API.\n",
      "1/1 [==============================] - 0s 164ms/step\n"
     ]
    },
    {
     "data": {
      "text/plain": [
       "array([[233775.94]], dtype=float32)"
      ]
     },
     "execution_count": 37,
     "metadata": {},
     "output_type": "execute_result"
    }
   ],
   "source": [
    "model.predict(\n",
    "    {\n",
    "        \"longitude\": tf.convert_to_tensor([-121.86]),\n",
    "        \"latitude\": tf.convert_to_tensor([39.78]),\n",
    "        \"housing_median_age\": tf.convert_to_tensor([12.0]),\n",
    "        \"total_rooms\": tf.convert_to_tensor([7653.0]),\n",
    "        \"total_bedrooms\": tf.convert_to_tensor([1578.0]),\n",
    "        \"population\": tf.convert_to_tensor([3628.0]),\n",
    "        \"households\": tf.convert_to_tensor([1494.0]),\n",
    "        \"median_income\": tf.convert_to_tensor([3.0905]),\n",
    "        \"ocean_proximity\": tf.convert_to_tensor([\"INLAND\"]),\n",
    "    },\n",
    "    steps=1,\n",
    ")"
   ]
  },
  {
   "cell_type": "code",
   "execution_count": 38,
   "id": "337e28e2-6c4c-4455-ad69-74b30fe1330a",
   "metadata": {},
   "outputs": [
    {
     "name": "stdout",
     "output_type": "stream",
     "text": [
      "1/1 [==============================] - 0s 23ms/step\n"
     ]
    },
    {
     "data": {
      "text/plain": [
       "array([[224879.9]], dtype=float32)"
      ]
     },
     "execution_count": 38,
     "metadata": {},
     "output_type": "execute_result"
    }
   ],
   "source": [
    "model.predict(\n",
    "    {\n",
    "        \"longitude\": tf.convert_to_tensor([-122.43]),\n",
    "        \"latitude\": tf.convert_to_tensor([37.63]),\n",
    "        \"housing_median_age\": tf.convert_to_tensor([34.0]),\n",
    "        \"total_rooms\": tf.convert_to_tensor([4135.0]),\n",
    "        \"total_bedrooms\": tf.convert_to_tensor([687.0]),\n",
    "        \"population\": tf.convert_to_tensor([2154.0]),\n",
    "        \"households\": tf.convert_to_tensor([742.0]),\n",
    "        \"median_income\": tf.convert_to_tensor([4.9732]),\n",
    "        \"ocean_proximity\": tf.convert_to_tensor([\"NEAR OCEAN\"]),\n",
    "    },\n",
    "    steps=1,\n",
    ")"
   ]
  },
  {
   "cell_type": "markdown",
   "id": "7e68ac6b-2249-4191-bb36-ed4016ecd095",
   "metadata": {},
   "source": [
    "### Engineer features"
   ]
  },
  {
   "cell_type": "code",
   "execution_count": 40,
   "id": "d0224a63-26ed-4d3f-a18d-c6bf4c907886",
   "metadata": {},
   "outputs": [],
   "source": [
    "numeric_cols = [\n",
    "    \"longitude\",\n",
    "    \"latitude\",\n",
    "    \"housing_median_age\",\n",
    "    \"total_rooms\",\n",
    "    \"total_bedrooms\",\n",
    "    \"population\",\n",
    "    \"households\",\n",
    "    \"median_income\",\n",
    "]\n",
    "\n",
    "bucketized_cols = [\"housing_median_age\"]\n",
    "\n",
    "categorical_cols = [\"ocean_proximity\"]"
   ]
  },
  {
   "cell_type": "code",
   "execution_count": 41,
   "id": "ced147e7-ca1e-4623-b97e-e5a33c7ae3d8",
   "metadata": {},
   "outputs": [],
   "source": [
    "def get_scal(feature):\n",
    "    def minmax(x):\n",
    "        mini = train[feature].min()\n",
    "        maxi = train[feature].max()\n",
    "        return (x - mini) / (maxi - mini)\n",
    "\n",
    "    return minmax"
   ]
  },
  {
   "cell_type": "code",
   "execution_count": 42,
   "id": "c8796a4c-f136-4859-a440-6faf1f52c4eb",
   "metadata": {},
   "outputs": [],
   "source": [
    "feature_columns = []\n",
    "for header in numeric_cols:\n",
    "    scal_input_fn = get_scal(header)\n",
    "    feature_columns.append(\n",
    "        fc.numeric_column(header, normalizer_fn=scal_input_fn)\n",
    "    )"
   ]
  },
  {
   "cell_type": "code",
   "execution_count": 43,
   "id": "742bf382-338c-4986-8c1e-51eab1d6da12",
   "metadata": {},
   "outputs": [
    {
     "name": "stdout",
     "output_type": "stream",
     "text": [
      "WARNING:tensorflow:From /tmp/ipykernel_87/3072622095.py:3: categorical_column_with_vocabulary_list (from tensorflow.python.feature_column.feature_column_v2) is deprecated and will be removed in a future version.\n",
      "Instructions for updating:\n",
      "Use Keras preprocessing layers instead, either directly or via the `tf.keras.utils.FeatureSpace` utility. Each of `tf.feature_column.*` has a functional equivalent in `tf.keras.layers` for feature preprocessing when training a Keras model.\n",
      "WARNING:tensorflow:From /tmp/ipykernel_87/3072622095.py:6: indicator_column (from tensorflow.python.feature_column.feature_column_v2) is deprecated and will be removed in a future version.\n",
      "Instructions for updating:\n",
      "Use Keras preprocessing layers instead, either directly or via the `tf.keras.utils.FeatureSpace` utility. Each of `tf.feature_column.*` has a functional equivalent in `tf.keras.layers` for feature preprocessing when training a Keras model.\n"
     ]
    }
   ],
   "source": [
    "for feature_name in categorical_cols:\n",
    "    vocabulary = housing_df[feature_name].unique()\n",
    "    categorical_c = fc.categorical_column_with_vocabulary_list(\n",
    "        feature_name, vocabulary\n",
    "    )\n",
    "    one_hot = fc.indicator_column(categorical_c)\n",
    "    feature_columns.append(one_hot)"
   ]
  },
  {
   "cell_type": "code",
   "execution_count": 44,
   "id": "a5c08985-eb96-4ed5-a125-83994cba86a1",
   "metadata": {},
   "outputs": [
    {
     "name": "stdout",
     "output_type": "stream",
     "text": [
      "WARNING:tensorflow:From /tmp/ipykernel_87/3672475584.py:3: bucketized_column (from tensorflow.python.feature_column.feature_column_v2) is deprecated and will be removed in a future version.\n",
      "Instructions for updating:\n",
      "Use Keras preprocessing layers instead, either directly or via the `tf.keras.utils.FeatureSpace` utility. Each of `tf.feature_column.*` has a functional equivalent in `tf.keras.layers` for feature preprocessing when training a Keras model.\n"
     ]
    }
   ],
   "source": [
    "age = fc.numeric_column(\"housing_median_age\")\n",
    "\n",
    "age_buckets = fc.bucketized_column(\n",
    "    age, boundaries=[10, 20, 30, 40, 50, 60, 80, 100]\n",
    ")\n",
    "feature_columns.append(age_buckets)"
   ]
  },
  {
   "cell_type": "code",
   "execution_count": 45,
   "id": "71a8ab8f-1a5f-4ec7-ab6f-438226d34f86",
   "metadata": {},
   "outputs": [
    {
     "name": "stdout",
     "output_type": "stream",
     "text": [
      "WARNING:tensorflow:From /tmp/ipykernel_87/1354859074.py:6: crossed_column (from tensorflow.python.feature_column.feature_column_v2) is deprecated and will be removed in a future version.\n",
      "Instructions for updating:\n",
      "Use `tf.keras.layers.experimental.preprocessing.HashedCrossing` instead for feature crossing when preprocessing data to train a Keras model.\n"
     ]
    }
   ],
   "source": [
    "vocabulary = housing_df[\"ocean_proximity\"].unique()\n",
    "ocean_proximity = fc.categorical_column_with_vocabulary_list(\n",
    "    \"ocean_proximity\", vocabulary\n",
    ")\n",
    "\n",
    "crossed_feature = fc.crossed_column(\n",
    "    [age_buckets, ocean_proximity], hash_bucket_size=1000\n",
    ")\n",
    "crossed_feature = fc.indicator_column(crossed_feature)\n",
    "feature_columns.append(crossed_feature)"
   ]
  },
  {
   "cell_type": "code",
   "execution_count": 47,
   "id": "abdeec65-dea1-4d10-abe2-29794c16862a",
   "metadata": {},
   "outputs": [
    {
     "name": "stdout",
     "output_type": "stream",
     "text": [
      "Total number of feature columns:  11\n"
     ]
    }
   ],
   "source": [
    "print(\"Total number of feature columns: \", len(feature_columns))"
   ]
  },
  {
   "cell_type": "code",
   "execution_count": 48,
   "id": "70894f8e-2d54-4b8f-8122-d7b5317fe795",
   "metadata": {},
   "outputs": [
    {
     "name": "stdout",
     "output_type": "stream",
     "text": [
      "Epoch 1/32\n",
      "WARNING:tensorflow:Layers in a Sequential model should only have a single input tensor. Received: inputs={'longitude': <tf.Tensor 'IteratorGetNext:3' shape=(None,) dtype=float64>, 'latitude': <tf.Tensor 'IteratorGetNext:2' shape=(None,) dtype=float64>, 'housing_median_age': <tf.Tensor 'IteratorGetNext:1' shape=(None,) dtype=float64>, 'total_rooms': <tf.Tensor 'IteratorGetNext:8' shape=(None,) dtype=float64>, 'total_bedrooms': <tf.Tensor 'IteratorGetNext:7' shape=(None,) dtype=float64>, 'population': <tf.Tensor 'IteratorGetNext:6' shape=(None,) dtype=float64>, 'households': <tf.Tensor 'IteratorGetNext:0' shape=(None,) dtype=float64>, 'median_income': <tf.Tensor 'IteratorGetNext:4' shape=(None,) dtype=float64>, 'ocean_proximity': <tf.Tensor 'IteratorGetNext:5' shape=(None,) dtype=string>}. Consider rewriting this model with the Functional API.\n",
      "WARNING:tensorflow:Layers in a Sequential model should only have a single input tensor. Received: inputs={'longitude': <tf.Tensor 'IteratorGetNext:3' shape=(None,) dtype=float64>, 'latitude': <tf.Tensor 'IteratorGetNext:2' shape=(None,) dtype=float64>, 'housing_median_age': <tf.Tensor 'IteratorGetNext:1' shape=(None,) dtype=float64>, 'total_rooms': <tf.Tensor 'IteratorGetNext:8' shape=(None,) dtype=float64>, 'total_bedrooms': <tf.Tensor 'IteratorGetNext:7' shape=(None,) dtype=float64>, 'population': <tf.Tensor 'IteratorGetNext:6' shape=(None,) dtype=float64>, 'households': <tf.Tensor 'IteratorGetNext:0' shape=(None,) dtype=float64>, 'median_income': <tf.Tensor 'IteratorGetNext:4' shape=(None,) dtype=float64>, 'ocean_proximity': <tf.Tensor 'IteratorGetNext:5' shape=(None,) dtype=string>}. Consider rewriting this model with the Functional API.\n",
      "402/409 [============================>.] - ETA: 0s - loss: 55939813376.0000 - mse: 55939813376.0000WARNING:tensorflow:Layers in a Sequential model should only have a single input tensor. Received: inputs={'longitude': <tf.Tensor 'IteratorGetNext:3' shape=(None,) dtype=float64>, 'latitude': <tf.Tensor 'IteratorGetNext:2' shape=(None,) dtype=float64>, 'housing_median_age': <tf.Tensor 'IteratorGetNext:1' shape=(None,) dtype=float64>, 'total_rooms': <tf.Tensor 'IteratorGetNext:8' shape=(None,) dtype=float64>, 'total_bedrooms': <tf.Tensor 'IteratorGetNext:7' shape=(None,) dtype=float64>, 'population': <tf.Tensor 'IteratorGetNext:6' shape=(None,) dtype=float64>, 'households': <tf.Tensor 'IteratorGetNext:0' shape=(None,) dtype=float64>, 'median_income': <tf.Tensor 'IteratorGetNext:4' shape=(None,) dtype=float64>, 'ocean_proximity': <tf.Tensor 'IteratorGetNext:5' shape=(None,) dtype=string>}. Consider rewriting this model with the Functional API.\n",
      "409/409 [==============================] - 3s 4ms/step - loss: 55982014464.0000 - mse: 55982014464.0000 - val_loss: 57256562688.0000 - val_mse: 57256562688.0000\n",
      "Epoch 2/32\n",
      "409/409 [==============================] - 1s 3ms/step - loss: 55894540288.0000 - mse: 55894540288.0000 - val_loss: 57089757184.0000 - val_mse: 57089757184.0000\n",
      "Epoch 3/32\n",
      "409/409 [==============================] - 2s 4ms/step - loss: 55620616192.0000 - mse: 55620616192.0000 - val_loss: 56691634176.0000 - val_mse: 56691634176.0000\n",
      "Epoch 4/32\n",
      "409/409 [==============================] - 1s 3ms/step - loss: 55087140864.0000 - mse: 55087140864.0000 - val_loss: 56008048640.0000 - val_mse: 56008048640.0000\n",
      "Epoch 5/32\n",
      "409/409 [==============================] - 1s 3ms/step - loss: 54255378432.0000 - mse: 54255378432.0000 - val_loss: 55011110912.0000 - val_mse: 55011110912.0000\n",
      "Epoch 6/32\n",
      "409/409 [==============================] - 1s 3ms/step - loss: 53106077696.0000 - mse: 53106077696.0000 - val_loss: 53690761216.0000 - val_mse: 53690761216.0000\n",
      "Epoch 7/32\n",
      "409/409 [==============================] - 1s 3ms/step - loss: 51635957760.0000 - mse: 51635957760.0000 - val_loss: 52049653760.0000 - val_mse: 52049653760.0000\n",
      "Epoch 8/32\n",
      "409/409 [==============================] - 2s 4ms/step - loss: 49852346368.0000 - mse: 49852346368.0000 - val_loss: 50098028544.0000 - val_mse: 50098028544.0000\n",
      "Epoch 9/32\n",
      "409/409 [==============================] - 1s 3ms/step - loss: 47774527488.0000 - mse: 47774527488.0000 - val_loss: 47863889920.0000 - val_mse: 47863889920.0000\n",
      "Epoch 10/32\n",
      "409/409 [==============================] - 1s 3ms/step - loss: 45430018048.0000 - mse: 45430018048.0000 - val_loss: 45376909312.0000 - val_mse: 45376909312.0000\n",
      "Epoch 11/32\n",
      "409/409 [==============================] - 1s 3ms/step - loss: 42851663872.0000 - mse: 42851663872.0000 - val_loss: 42669371392.0000 - val_mse: 42669371392.0000\n",
      "Epoch 12/32\n",
      "409/409 [==============================] - 1s 3ms/step - loss: 40084762624.0000 - mse: 40084762624.0000 - val_loss: 39801929728.0000 - val_mse: 39801929728.0000\n",
      "Epoch 13/32\n",
      "409/409 [==============================] - 1s 3ms/step - loss: 37182693376.0000 - mse: 37182693376.0000 - val_loss: 36820062208.0000 - val_mse: 36820062208.0000\n",
      "Epoch 14/32\n",
      "409/409 [==============================] - 1s 3ms/step - loss: 34200569856.0000 - mse: 34200569856.0000 - val_loss: 33786025984.0000 - val_mse: 33786025984.0000\n",
      "Epoch 15/32\n",
      "409/409 [==============================] - 1s 2ms/step - loss: 31197478912.0000 - mse: 31197478912.0000 - val_loss: 30755883008.0000 - val_mse: 30755883008.0000\n",
      "Epoch 16/32\n",
      "409/409 [==============================] - 1s 2ms/step - loss: 28239415296.0000 - mse: 28239415296.0000 - val_loss: 27805816832.0000 - val_mse: 27805816832.0000\n",
      "Epoch 17/32\n",
      "409/409 [==============================] - 1s 3ms/step - loss: 25397037056.0000 - mse: 25397037056.0000 - val_loss: 25003407360.0000 - val_mse: 25003407360.0000\n",
      "Epoch 18/32\n",
      "409/409 [==============================] - 1s 3ms/step - loss: 22731573248.0000 - mse: 22731573248.0000 - val_loss: 22407096320.0000 - val_mse: 22407096320.0000\n",
      "Epoch 19/32\n",
      "409/409 [==============================] - 1s 3ms/step - loss: 20304451584.0000 - mse: 20304451584.0000 - val_loss: 20075139072.0000 - val_mse: 20075139072.0000\n",
      "Epoch 20/32\n",
      "409/409 [==============================] - 1s 3ms/step - loss: 18160062464.0000 - mse: 18160062464.0000 - val_loss: 18039281664.0000 - val_mse: 18039281664.0000\n",
      "Epoch 21/32\n",
      "409/409 [==============================] - 1s 3ms/step - loss: 16328543232.0000 - mse: 16328543232.0000 - val_loss: 16323653632.0000 - val_mse: 16323653632.0000\n",
      "Epoch 22/32\n",
      "409/409 [==============================] - 1s 3ms/step - loss: 14810563584.0000 - mse: 14810563584.0000 - val_loss: 14920720384.0000 - val_mse: 14920720384.0000\n",
      "Epoch 23/32\n",
      "409/409 [==============================] - 1s 3ms/step - loss: 13611206656.0000 - mse: 13611206656.0000 - val_loss: 13833955328.0000 - val_mse: 13833955328.0000\n",
      "Epoch 24/32\n",
      "409/409 [==============================] - 1s 3ms/step - loss: 12714143744.0000 - mse: 12714143744.0000 - val_loss: 13035377664.0000 - val_mse: 13035377664.0000\n",
      "Epoch 25/32\n",
      "409/409 [==============================] - 1s 3ms/step - loss: 12068435968.0000 - mse: 12068435968.0000 - val_loss: 12467420160.0000 - val_mse: 12467420160.0000\n",
      "Epoch 26/32\n",
      "409/409 [==============================] - 1s 3ms/step - loss: 11621340160.0000 - mse: 11621340160.0000 - val_loss: 12072322048.0000 - val_mse: 12072322048.0000\n",
      "Epoch 27/32\n",
      "409/409 [==============================] - 1s 3ms/step - loss: 11320081408.0000 - mse: 11320081408.0000 - val_loss: 11804705792.0000 - val_mse: 11804705792.0000\n",
      "Epoch 28/32\n",
      "409/409 [==============================] - 1s 3ms/step - loss: 11101560832.0000 - mse: 11101560832.0000 - val_loss: 11597575168.0000 - val_mse: 11597575168.0000\n",
      "Epoch 29/32\n",
      "409/409 [==============================] - 1s 3ms/step - loss: 10930402304.0000 - mse: 10930402304.0000 - val_loss: 11429505024.0000 - val_mse: 11429505024.0000\n",
      "Epoch 30/32\n",
      "409/409 [==============================] - 1s 3ms/step - loss: 10781464576.0000 - mse: 10781464576.0000 - val_loss: 11278115840.0000 - val_mse: 11278115840.0000\n",
      "Epoch 31/32\n",
      "409/409 [==============================] - 1s 2ms/step - loss: 10645109760.0000 - mse: 10645109760.0000 - val_loss: 11138862080.0000 - val_mse: 11138862080.0000\n",
      "Epoch 32/32\n",
      "409/409 [==============================] - 1s 3ms/step - loss: 10516330496.0000 - mse: 10516330496.0000 - val_loss: 11006915584.0000 - val_mse: 11006915584.0000\n"
     ]
    }
   ],
   "source": [
    "feature_layer = tf.keras.layers.DenseFeatures(feature_columns, dtype=\"float64\")\n",
    "\n",
    "model = tf.keras.Sequential(\n",
    "    [\n",
    "        feature_layer,\n",
    "        layers.Dense(12, activation=\"relu\"),\n",
    "        layers.Dense(8, activation=\"relu\"),\n",
    "        layers.Dense(1, activation=\"linear\", name=\"median_house_value\"),\n",
    "    ]\n",
    ")\n",
    "\n",
    "model.compile(optimizer=\"adam\", loss=\"mse\", metrics=[\"mse\"])\n",
    "\n",
    "history = model.fit(train_ds, validation_data=val_ds, epochs=32)"
   ]
  },
  {
   "cell_type": "code",
   "execution_count": 49,
   "id": "37e58f18-3765-4dae-8807-cb3b8a2608e8",
   "metadata": {},
   "outputs": [
    {
     "name": "stdout",
     "output_type": "stream",
     "text": [
      "409/409 [==============================] - 1s 2ms/step - loss: 10453008384.0000 - mse: 10453008384.0000\n",
      "Mean Squared Error 10453008384.0\n"
     ]
    }
   ],
   "source": [
    "loss, mse = model.evaluate(train_ds)\n",
    "print(\"Mean Squared Error\", mse)"
   ]
  },
  {
   "cell_type": "code",
   "execution_count": 50,
   "id": "4c6faa5e-1327-4a2a-9a49-571248bab531",
   "metadata": {},
   "outputs": [
    {
     "data": {
      "image/png": "[encoded data removed]",
      "text/plain": [
       "<Figure size 1000x500 with 2 Axes>"
      ]
     },
     "metadata": {},
     "output_type": "display_data"
    }
   ],
   "source": [
    "plot_curves(history, [\"loss\", \"mse\"])"
   ]
  },
  {
   "cell_type": "code",
   "execution_count": 51,
   "id": "647e216e-7e48-408f-8387-98417150fd3a",
   "metadata": {},
   "outputs": [
    {
     "name": "stdout",
     "output_type": "stream",
     "text": [
      "WARNING:tensorflow:Layers in a Sequential model should only have a single input tensor. Received: inputs={'longitude': <tf.Tensor 'IteratorGetNext:3' shape=(1,) dtype=float32>, 'latitude': <tf.Tensor 'IteratorGetNext:2' shape=(1,) dtype=float32>, 'housing_median_age': <tf.Tensor 'IteratorGetNext:1' shape=(1,) dtype=float32>, 'total_rooms': <tf.Tensor 'IteratorGetNext:8' shape=(1,) dtype=float32>, 'total_bedrooms': <tf.Tensor 'IteratorGetNext:7' shape=(1,) dtype=float32>, 'population': <tf.Tensor 'IteratorGetNext:6' shape=(1,) dtype=float32>, 'households': <tf.Tensor 'IteratorGetNext:0' shape=(1,) dtype=float32>, 'median_income': <tf.Tensor 'IteratorGetNext:4' shape=(1,) dtype=float32>, 'ocean_proximity': <tf.Tensor 'IteratorGetNext:5' shape=(1,) dtype=string>}. Consider rewriting this model with the Functional API.\n",
      "1/1 [==============================] - 0s 185ms/step\n"
     ]
    },
    {
     "data": {
      "text/plain": [
       "array([[234185.05]], dtype=float32)"
      ]
     },
     "execution_count": 51,
     "metadata": {},
     "output_type": "execute_result"
    }
   ],
   "source": [
    "model.predict(\n",
    "    {\n",
    "        \"longitude\": tf.convert_to_tensor([-122.43]),\n",
    "        \"latitude\": tf.convert_to_tensor([37.63]),\n",
    "        \"housing_median_age\": tf.convert_to_tensor([34.0]),\n",
    "        \"total_rooms\": tf.convert_to_tensor([4135.0]),\n",
    "        \"total_bedrooms\": tf.convert_to_tensor([687.0]),\n",
    "        \"population\": tf.convert_to_tensor([2154.0]),\n",
    "        \"households\": tf.convert_to_tensor([742.0]),\n",
    "        \"median_income\": tf.convert_to_tensor([4.9732]),\n",
    "        \"ocean_proximity\": tf.convert_to_tensor([\"NEAR OCEAN\"]),\n",
    "    },\n",
    "    steps=1,\n",
    ")"
   ]
  },
  {
   "cell_type": "code",
   "execution_count": null,
   "id": "90d69e4e-dc6e-4923-82e0-72a899134f5a",
   "metadata": {},
   "outputs": [],
   "source": []
  }
 ],
 "metadata": {
  "kernelspec": {
   "display_name": "Python 3 (ipykernel)",
   "language": "python",
   "name": "python3"
  },
  "language_info": {
   "codemirror_mode": {
    "name": "ipython",
    "version": 3
   },
   "file_extension": ".py",
   "mimetype": "text/x-python",
   "name": "python",
   "nbconvert_exporter": "python",
   "pygments_lexer": "ipython3",
   "version": "3.9.7"
  }
 },
 "nbformat": 4,
 "nbformat_minor": 5
}
